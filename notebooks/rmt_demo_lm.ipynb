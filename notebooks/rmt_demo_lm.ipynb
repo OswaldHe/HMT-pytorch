{
  "cells": [
    {
      "cell_type": "code",
      "execution_count": 1,
      "metadata": {
        "colab": {
          "base_uri": "https://localhost:8080/"
        },
        "id": "ZS3Sz9sUfuBK",
        "outputId": "646ae385-6847-4ac8-d7f6-d52e90e5adf6"
      },
      "outputs": [],
      "source": [
        "# ! pip install datasets transformers\n",
        "# ! git clone https://github.com/booydar/t5-experiments/ github"
      ]
    },
    {
      "cell_type": "code",
      "execution_count": 3,
      "metadata": {
        "colab": {
          "base_uri": "https://localhost:8080/",
          "height": 368
        },
        "id": "HOW1CCCpfq6L",
        "outputId": "e076ce17-6a5c-4959-c696-f59581572816"
      },
      "outputs": [],
      "source": [
        "import numpy as np\n",
        "import os\n",
        "import sys\n",
        "import tqdm\n",
        "import torch\n",
        "import datasets\n",
        "from matplotlib import pyplot as plt\n",
        "from transformers import AutoModelForCausalLM, AutoTokenizer\n",
        "from itertools import chain\n",
        "from torch.utils.data import DataLoader#, RandomSampler, SequentialSampler\n",
        "from torch.nn.utils.rnn import pad_sequence\n",
        "\n",
        "# device = 'cuda:0' if torch.cuda.is_available() else 'cpu'\n",
        "# sys.path.append('github')\n",
        "sys.path.append('..')\n",
        "device = 'cpu'"
      ]
    },
    {
      "cell_type": "markdown",
      "metadata": {
        "id": "HwdIjVjmfq6N"
      },
      "source": [
        "### Load model"
      ]
    },
    {
      "cell_type": "code",
      "execution_count": 4,
      "metadata": {
        "id": "rm2yrXXdfq6P"
      },
      "outputs": [
        {
          "name": "stdout",
          "output_type": "stream",
          "text": [
            "[2023-10-18 14:28:33,005] [INFO] [real_accelerator.py:133:get_accelerator] Setting ds_accelerator to cuda (auto detect)\n"
          ]
        }
      ],
      "source": [
        "model_name = 'gpt2'\n",
        "model = AutoModelForCausalLM.from_pretrained(model_name)\n",
        "model.to(device)\n",
        "tokenizer = AutoTokenizer.from_pretrained(model_name)"
      ]
    },
    {
      "cell_type": "code",
      "execution_count": 5,
      "metadata": {
        "id": "2g1_I-8-fq6Q"
      },
      "outputs": [],
      "source": [
        "input_size = 1024\n",
        "memory_size = 2\n",
        "n_segments = 2\n",
        "\n",
        "batch_size = 2"
      ]
    },
    {
      "cell_type": "code",
      "execution_count": 6,
      "metadata": {
        "id": "BMzotaZWfq6R"
      },
      "outputs": [],
      "source": [
        "block_size = input_size\n",
        "block_size -= 2 * memory_size\n",
        "history_size = (n_segments - 1) * block_size"
      ]
    },
    {
      "cell_type": "markdown",
      "metadata": {
        "id": "36JHPQf4fq6S"
      },
      "source": [
        "### Prepare dataset"
      ]
    },
    {
      "cell_type": "code",
      "execution_count": 7,
      "metadata": {
        "id": "pMGdrkYjfq6S"
      },
      "outputs": [],
      "source": [
        "def group_texts(examples, block_size, history_size=None):\n",
        "    concatenated_examples = {k: list(chain(*examples[k])) for k in examples.keys()}\n",
        "    total_length = len(concatenated_examples[list(examples.keys())[0]])\n",
        "\n",
        "    if history_size is None:\n",
        "        result = {\n",
        "            k: [t[i : i + block_size] for i in range(0, total_length, block_size)]\n",
        "            for k, t in concatenated_examples.items()\n",
        "        }\n",
        "    else:\n",
        "        result = {\n",
        "            k: [t[max({0, i - history_size}) : i + block_size] for i in range(0, total_length, block_size)]\n",
        "            for k, t in concatenated_examples.items()\n",
        "        }\n",
        "    result[\"labels\"] = result[\"input_ids\"].copy()\n",
        "    return result\n",
        "\n",
        "id_pad_value = tokenizer.pad_token_id if tokenizer.pad_token_id is not None else tokenizer.eos_token_id\n",
        "def collate_fn(batch):\n",
        "    input_ids = [torch.tensor(b['input_ids'][::-1]) for b in batch]\n",
        "    labels = [torch.tensor(b['labels'][::-1]) for b in batch]\n",
        "    attention_mask = [torch.tensor(b['attention_mask'][::-1]) for b in batch]\n",
        "    input_ids = pad_sequence(input_ids, padding_value=id_pad_value).T.flip(1)\n",
        "    labels = pad_sequence(labels, padding_value=-100).T.flip(1)\n",
        "    attention_mask = pad_sequence(attention_mask, padding_value=0).T.flip(1)\n",
        "\n",
        "    collated = {'input_ids': input_ids,\n",
        "                'labels': labels,\n",
        "                'attention_mask': attention_mask}\n",
        "\n",
        "    if input_ids.shape[1] != block_size:\n",
        "        labels_mask = torch.ones_like(input_ids, dtype=bool)\n",
        "        labels_mask[:, :-block_size] = False\n",
        "        collated['labels_mask'] = labels_mask\n",
        "\n",
        "    return collated"
      ]
    },
    {
      "cell_type": "code",
      "execution_count": 8,
      "metadata": {
        "id": "ebbBLzbKfq6T"
      },
      "outputs": [],
      "source": [
        "task_name = 'wikitext-2-v1'\n",
        "raw_datasets = datasets.load_dataset('wikitext', task_name)\n",
        "column_names = raw_datasets[\"train\"].column_names\n",
        "text_column_name = \"text\" if \"text\" in column_names else column_names[0]\n",
        "\n",
        "def tokenize_function(examples):\n",
        "    return tokenizer(examples[text_column_name])\n",
        "\n",
        "tokenized_datasets = raw_datasets.map(\n",
        "    tokenize_function,\n",
        "    batched=True,\n",
        "    remove_columns=column_names,\n",
        "    desc=\"Running tokenizer on dataset\",\n",
        ")\n",
        "\n",
        "train_dataset = tokenized_datasets[\"train\"].map(lambda x: group_texts(x, block_size, history_size),\n",
        "                                                        batched=True, desc=f\"Grouping train in chunks of {block_size} and history {history_size}\")\n",
        "valid_dataset = tokenized_datasets[\"validation\"].map(lambda x: group_texts(x, block_size, history_size),\n",
        "                                                        batched=True, desc=f\"Grouping valid in chunks of {block_size}\")"
      ]
    },
    {
      "cell_type": "code",
      "execution_count": 9,
      "metadata": {
        "id": "fo7bwk6Jfq6U"
      },
      "outputs": [],
      "source": [
        "train_rnd_generator = torch.Generator()\n",
        "train_rnd_generator.manual_seed(42)\n",
        "train_dataloader = DataLoader(train_dataset, batch_size=batch_size, collate_fn=collate_fn,\n",
        "                                shuffle=True, drop_last=False, generator=train_rnd_generator, pin_memory=True)\n",
        "valid_dataloader = DataLoader(valid_dataset, batch_size=batch_size,\n",
        "                                        collate_fn=collate_fn, shuffle=False, drop_last=True, pin_memory=True)"
      ]
    },
    {
      "cell_type": "markdown",
      "metadata": {
        "id": "IctuVyglfq6V"
      },
      "source": [
        "### Create model"
      ]
    },
    {
      "cell_type": "code",
      "execution_count": 10,
      "metadata": {
        "id": "nildVryzfq6V"
      },
      "outputs": [
        {
          "data": {
            "text/plain": [
              "torch.Size([2, 2040])"
            ]
          },
          "execution_count": 10,
          "metadata": {},
          "output_type": "execute_result"
        }
      ],
      "source": [
        "gen = iter(train_dataloader)\n",
        "batch = next(gen)\n",
        "batch.pop('labels_mask')\n",
        "for k, v in batch.items():\n",
        "    batch[k] = v.to(device)\n",
        "batch['input_ids'].shape"
      ]
    },
    {
      "cell_type": "code",
      "execution_count": 11,
      "metadata": {
        "id": "0mWJ5ccefq6W"
      },
      "outputs": [
        {
          "name": "stdout",
          "output_type": "stream",
          "text": [
            "Error: Input size too large!\n"
          ]
        }
      ],
      "source": [
        "try:\n",
        "    out = model(**batch)\n",
        "    print('Success!')\n",
        "except IndexError:\n",
        "    print('Error: Input size too large!')"
      ]
    },
    {
      "cell_type": "markdown",
      "metadata": {
        "id": "1tLe9M1cfq6W"
      },
      "source": [
        "### Add RMT"
      ]
    },
    {
      "cell_type": "code",
      "execution_count": 12,
      "metadata": {
        "id": "uddGTZ1_fq6X"
      },
      "outputs": [
        {
          "data": {
            "text/plain": [
              "RecurrentWrapper(\n",
              "  (memory_cell): MemoryCell(\n",
              "    (model): GPT2LMHeadModel(\n",
              "      (transformer): GPT2Model(\n",
              "        (wte): Embedding(50257, 768)\n",
              "        (wpe): Embedding(1024, 768)\n",
              "        (drop): Dropout(p=0.1, inplace=False)\n",
              "        (h): ModuleList(\n",
              "          (0-11): 12 x GPT2Block(\n",
              "            (ln_1): LayerNorm((768,), eps=1e-05, elementwise_affine=True)\n",
              "            (attn): GPT2Attention(\n",
              "              (c_attn): Conv1D()\n",
              "              (c_proj): Conv1D()\n",
              "              (attn_dropout): Dropout(p=0.1, inplace=False)\n",
              "              (resid_dropout): Dropout(p=0.1, inplace=False)\n",
              "            )\n",
              "            (ln_2): LayerNorm((768,), eps=1e-05, elementwise_affine=True)\n",
              "            (mlp): GPT2MLP(\n",
              "              (c_fc): Conv1D()\n",
              "              (c_proj): Conv1D()\n",
              "              (act): NewGELUActivation()\n",
              "              (dropout): Dropout(p=0.1, inplace=False)\n",
              "            )\n",
              "          )\n",
              "        )\n",
              "        (ln_f): LayerNorm((768,), eps=1e-05, elementwise_affine=True)\n",
              "      )\n",
              "      (lm_head): Linear(in_features=768, out_features=50257, bias=False)\n",
              "    )\n",
              "  )\n",
              ")"
            ]
          },
          "execution_count": 12,
          "metadata": {},
          "output_type": "execute_result"
        }
      ],
      "source": [
        "from modeling_rmt.language_modeling import MemoryCell, RecurrentWrapper\n",
        "\n",
        "cell = MemoryCell(model, num_mem_tokens=memory_size)\n",
        "model = RecurrentWrapper(cell,\n",
        "                        segment_size=block_size,\n",
        "                        max_n_segments=n_segments,\n",
        "                        )\n",
        "model.to(device)"
      ]
    },
    {
      "cell_type": "code",
      "execution_count": 13,
      "metadata": {
        "id": "NuMOLNOMfq6X"
      },
      "outputs": [
        {
          "name": "stdout",
          "output_type": "stream",
          "text": [
            "Success!\n"
          ]
        }
      ],
      "source": [
        "try:\n",
        "    out = model(**batch)\n",
        "    print('Success!')\n",
        "except IndexError:\n",
        "    print('Error: Input size too large!')"
      ]
    },
    {
      "cell_type": "markdown",
      "metadata": {
        "id": "XmD1a13zfq6X"
      },
      "source": [
        "### Train the model"
      ]
    },
    {
      "cell_type": "code",
      "execution_count": 14,
      "metadata": {
        "id": "Pp1BwBb7fq6Y"
      },
      "outputs": [],
      "source": [
        "from torch.optim import AdamW\n",
        "optim = AdamW(params=model.parameters(), lr=1e-04)"
      ]
    },
    {
      "cell_type": "code",
      "execution_count": 15,
      "metadata": {
        "id": "lLvmUQ_yfq6Y"
      },
      "outputs": [],
      "source": [
        "train_steps = 100\n",
        "eval_steps = 100\n",
        "\n",
        "train_gen = iter(train_dataloader)\n",
        "valid_gen = iter(valid_dataloader)"
      ]
    },
    {
      "cell_type": "code",
      "execution_count": 16,
      "metadata": {
        "id": "4oBwkXq7fq6Y"
      },
      "outputs": [
        {
          "data": {
            "application/vnd.jupyter.widget-view+json": {
              "model_id": "a13b683f00c54c07a9e2a1b666a25aaa",
              "version_major": 2,
              "version_minor": 0
            },
            "text/plain": [
              "  0%|          | 0/100 [00:00<?, ?it/s]"
            ]
          },
          "metadata": {},
          "output_type": "display_data"
        }
      ],
      "source": [
        "losses = []\n",
        "for step in tqdm.notebook.tqdm(range(train_steps)):\n",
        "    optim.zero_grad()\n",
        "\n",
        "    batch = next(train_gen)\n",
        "    for k, v in batch.items():\n",
        "        batch[k] = v.to(device)\n",
        "\n",
        "    out = model(**batch)\n",
        "    loss = out.loss\n",
        "\n",
        "    loss.backward()\n",
        "    optim.step()\n",
        "\n",
        "    losses.append(loss.detach().item())"
      ]
    },
    {
      "cell_type": "code",
      "execution_count": 20,
      "metadata": {
        "id": "Kpu--EUxh06z"
      },
      "outputs": [
        {
          "data": {
            "image/png": "[encoded data removed]",
            "text/plain": [
              "<Figure size 640x480 with 1 Axes>"
            ]
          },
          "metadata": {},
          "output_type": "display_data"
        }
      ],
      "source": [
        "plt.plot(losses)\n",
        "plt.xlabel('step')\n",
        "plt.ylabel('train loss')\n",
        "plt.show()"
      ]
    },
    {
      "cell_type": "code",
      "execution_count": 18,
      "metadata": {
        "id": "BfuQ3Mm0fq6Y"
      },
      "outputs": [
        {
          "data": {
            "application/vnd.jupyter.widget-view+json": {
              "model_id": "3e76306cff8e49608a169b74867b897a",
              "version_major": 2,
              "version_minor": 0
            },
            "text/plain": [
              "  0%|          | 0/100 [00:00<?, ?it/s]"
            ]
          },
          "metadata": {},
          "output_type": "display_data"
        }
      ],
      "source": [
        "valid_losses = []\n",
        "model.eval()\n",
        "for step in tqdm.notebook.tqdm(range(eval_steps)):\n",
        "    batch = next(valid_gen)\n",
        "    for k, v in batch.items():\n",
        "        batch[k] = v.to(device)\n",
        "\n",
        "    with torch.no_grad():\n",
        "        out = model(**batch)\n",
        "    valid_loss = out.loss\n",
        "\n",
        "    valid_losses.append(loss.detach().item())"
      ]
    },
    {
      "cell_type": "code",
      "execution_count": 19,
      "metadata": {
        "id": "3Qhs0E1ifq6Z"
      },
      "outputs": [
        {
          "name": "stdout",
          "output_type": "stream",
          "text": [
            "Loss on 200 validation samples: 3.2462313175201416\n"
          ]
        }
      ],
      "source": [
        "print(f'Loss on {eval_steps * batch_size} validation samples: {np.mean(valid_losses)}')"
      ]
    }
  ],
  "metadata": {
    "colab": {
      "provenance": []
    },
    "kernelspec": {
      "display_name": "Python 3",
      "name": "python3"
    },
    "language_info": {
      "codemirror_mode": {
        "name": "ipython",
        "version": 3
      },
      "file_extension": ".py",
      "mimetype": "text/x-python",
      "name": "python",
      "nbconvert_exporter": "python",
      "pygments_lexer": "ipython3",
      "version": "3.9.17"
    },
    "orig_nbformat": 4
  },
  "nbformat": 4,
  "nbformat_minor": 0
}
