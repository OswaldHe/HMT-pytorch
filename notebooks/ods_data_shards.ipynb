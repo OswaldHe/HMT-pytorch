{
 "cells": [
  {
   "cell_type": "code",
   "execution_count": 1,
   "metadata": {},
   "outputs": [],
   "source": [
    "%load_ext autoreload\n",
    "%autoreload 2\n",
    "\n",
    "import os\n",
    "os.environ['CUDA_VISIBLE_DEVICES']=''\n",
    "\n",
    "import sys;\n",
    "sys.path.append('..')"
   ]
  },
  {
   "cell_type": "code",
   "execution_count": 2,
   "metadata": {},
   "outputs": [],
   "source": [
    "import json\n",
    "from pathlib import Path"
   ]
  },
  {
   "cell_type": "code",
   "execution_count": 3,
   "metadata": {},
   "outputs": [
    {
     "name": "stderr",
     "output_type": "stream",
     "text": [
      "/home/kuratov/anaconda3/envs/tf2.0/lib/python3.7/site-packages/ipykernel_launcher.py:12: TqdmDeprecationWarning: This function will be removed in tqdm==5.0.0\n",
      "Please use `tqdm.notebook.tqdm` instead of `tqdm.tqdm_notebook`\n",
      "  if sys.path[0] == '':\n"
     ]
    },
    {
     "data": {
      "application/vnd.jupyter.widget-view+json": {
       "model_id": "e226e5b9a6e64138975f00a992c19154",
       "version_major": 2,
       "version_minor": 0
      },
      "text/plain": [
       "HBox(children=(FloatProgress(value=0.0, max=3000.0), HTML(value='')))"
      ]
     },
     "metadata": {},
     "output_type": "display_data"
    },
    {
     "name": "stdout",
     "output_type": "stream",
     "text": [
      "\n",
      "0/59545927\n"
     ]
    }
   ],
   "source": [
    "# preprocess ods_data\n",
    "from tqdm import tqdm_notebook as tqdm\n",
    "\n",
    "path = Path('/home/kuratov/data/ods_shards/ods_shards/')\n",
    "files = sorted(list(path.glob('*json')))\n",
    "\n",
    "total_articles = 0\n",
    "filtered_articles = 0\n",
    "\n",
    "articles = []\n",
    "\n",
    "for f in tqdm(files):\n",
    "    dialogs = json.load(f.open('r'))\n",
    "    for d in dialogs:\n",
    "        total_articles += 1\n",
    "        dialog = ' '.join(d) \n",
    "        dialog = dialog.replace('<speaker1>', '<speaker1> ').replace('<speaker2>', '<speaker2> ')\n",
    "        if len(dialog) == 0:\n",
    "            filtered_articles += 1\n",
    "            continue\n",
    "        articles += [{'text': dialog}]\n",
    "print(f'{filtered_articles}/{total_articles}')"
   ]
  },
  {
   "cell_type": "code",
   "execution_count": 4,
   "metadata": {},
   "outputs": [
    {
     "data": {
      "text/plain": [
       "59545927"
      ]
     },
     "execution_count": 4,
     "metadata": {},
     "output_type": "execute_result"
    }
   ],
   "source": [
    "len(articles)"
   ]
  },
  {
   "cell_type": "code",
   "execution_count": 5,
   "metadata": {},
   "outputs": [
    {
     "data": {
      "text/plain": [
       "{'text': '<speaker1> За вами очень хорошо наблюдают, а дома вы на прослушке. <speaker2> Вам и это известно?'}"
      ]
     },
     "execution_count": 5,
     "metadata": {},
     "output_type": "execute_result"
    }
   ],
   "source": [
    "articles[0]"
   ]
  },
  {
   "cell_type": "code",
   "execution_count": 6,
   "metadata": {},
   "outputs": [
    {
     "data": {
      "text/plain": [
       "186081.021875"
      ]
     },
     "execution_count": 6,
     "metadata": {},
     "output_type": "execute_result"
    }
   ],
   "source": [
    "59545927 / 320"
   ]
  },
  {
   "cell_type": "code",
   "execution_count": 7,
   "metadata": {},
   "outputs": [
    {
     "name": "stderr",
     "output_type": "stream",
     "text": [
      "/home/kuratov/anaconda3/envs/tf2.0/lib/python3.7/site-packages/ipykernel_launcher.py:17: TqdmDeprecationWarning: This function will be removed in tqdm==5.0.0\n",
      "Please use `tqdm.notebook.tqdm` instead of `tqdm.tqdm_notebook`\n"
     ]
    },
    {
     "data": {
      "application/vnd.jupyter.widget-view+json": {
       "model_id": "f63e716914a2473b9b2e097d63e242f5",
       "version_major": 2,
       "version_minor": 0
      },
      "text/plain": [
       "HBox(children=(FloatProgress(value=0.0, max=321.0), HTML(value='')))"
      ]
     },
     "metadata": {},
     "output_type": "display_data"
    },
    {
     "name": "stdout",
     "output_type": "stream",
     "text": [
      "\n"
     ]
    }
   ],
   "source": [
    "# save shards, with valid shard 0.5 of train_shard size\n",
    "\n",
    "shards_path = '/home/kuratov/data/ods_shards/preprocessed_shards_train'\n",
    "\n",
    "if not Path(shards_path).exists():\n",
    "    Path(shards_path).mkdir(parents=True)\n",
    "\n",
    "import random, math\n",
    "#random.shuffle(articles)\n",
    "n_train_shards = 320  # (we possibly have to take n_gpus shards for validation, so we need more shards)\n",
    "n_valid_shards = 1 #  add +1 for validation, only 1 works currently\n",
    "valid_shard_size = 0.5 # half of the train shard\n",
    "\n",
    "shard_size = math.ceil(len(articles) / (n_train_shards + n_valid_shards))\n",
    "shard_size = math.ceil((len(articles) - shard_size * valid_shard_size) / n_train_shards)\n",
    "\n",
    "for i, start in enumerate(tqdm(range(0, len(articles), shard_size))):\n",
    "    with (Path(shards_path) / f'shard_{i:03d}.jsonl').open('w', encoding='utf8') as fout:\n",
    "        #print(start, start + shard_size)\n",
    "        for j in range(start, min(len(articles), start+shard_size)):\n",
    "            jsoned = json.dumps(articles[j])\n",
    "            try:\n",
    "                tmp = json.loads(jsoned)\n",
    "            except json.JSONDecodeError as e:\n",
    "                print(f'skipping article {j} in shard {i} cause of JSONDecodeError')\n",
    "                continue\n",
    "            fout.write(jsoned+'\\n')"
   ]
  },
  {
   "cell_type": "code",
   "execution_count": null,
   "metadata": {},
   "outputs": [],
   "source": []
  }
 ],
 "metadata": {
  "kernelspec": {
   "display_name": "tf2.0",
   "language": "python",
   "name": "tf2.0"
  },
  "language_info": {
   "codemirror_mode": {
    "name": "ipython",
    "version": 3
   },
   "file_extension": ".py",
   "mimetype": "text/x-python",
   "name": "python",
   "nbconvert_exporter": "python",
   "pygments_lexer": "ipython3",
   "version": "3.7.9"
  }
 },
 "nbformat": 4,
 "nbformat_minor": 4
}
