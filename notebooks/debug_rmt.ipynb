{
 "cells": [
  {
   "cell_type": "code",
   "execution_count": 224,
   "metadata": {},
   "outputs": [],
   "source": [
    "import numpy as np\n",
    "import torch\n",
    "import torch.nn.functional as F\n",
    "from typing import List, Optional, Tuple, Union\n",
    "from transformers import PreTrainedModel, AutoModelForSequenceClassification\n",
    "from transformers import AutoTokenizer\n",
    "\n",
    "import math\n",
    "\n",
    "from typing import List, Optional, Tuple, Union\n",
    "from transformers import BertForSequenceClassification\n",
    "import transformers\n",
    "from transformers.modeling_outputs import SequenceClassifierOutput"
   ]
  },
  {
   "cell_type": "code",
   "execution_count": 225,
   "metadata": {},
   "outputs": [],
   "source": [
    "from modeling_rmt_enc_dec import RMTEncoderDecoderForConditionalGeneration"
   ]
  },
  {
   "cell_type": "markdown",
   "metadata": {},
   "source": [
    "### Finetune"
   ]
  },
  {
   "cell_type": "code",
   "execution_count": 226,
   "metadata": {},
   "outputs": [],
   "source": [
    "from transformers import AutoModelForSequenceClassification\n",
    "from torch.utils.data import DataLoader, Dataset, RandomSampler, SequentialSampler\n",
    "import sys\n",
    "sys.path.append('..')\n",
    "# from modeling_rmt import RMTEncoderForSequenceClassification"
   ]
  },
  {
   "cell_type": "code",
   "execution_count": 227,
   "metadata": {},
   "outputs": [],
   "source": [
    "import math\n",
    "import types\n",
    "\n",
    "from transformers.modeling_outputs import BaseModelOutputWithPastAndCrossAttentions\n",
    "\n",
    "def encoder_memory_forward(\n",
    "    self,\n",
    "    hidden_states: torch.Tensor,\n",
    "    attention_mask: Optional[torch.FloatTensor] = None,\n",
    "    head_mask: Optional[torch.FloatTensor] = None,\n",
    "    encoder_hidden_states: Optional[torch.FloatTensor] = None,\n",
    "    encoder_attention_mask: Optional[torch.FloatTensor] = None,\n",
    "    past_key_values: Optional[Tuple[Tuple[torch.FloatTensor]]] = None,\n",
    "    use_cache: Optional[bool] = None,\n",
    "    output_attentions: Optional[bool] = False,\n",
    "    output_hidden_states: Optional[bool] = False,\n",
    "    return_dict: Optional[bool] = True,\n",
    "    memory_storage = None\n",
    ") -> Union[Tuple[torch.Tensor], BaseModelOutputWithPastAndCrossAttentions]:\n",
    "    '''\n",
    "    Copy-pasted from BERT encoder\n",
    "    '''\n",
    "    all_hidden_states = () if output_hidden_states else None\n",
    "    all_self_attentions = () if output_attentions else None\n",
    "    all_cross_attentions = () if output_attentions and self.config.add_cross_attention else None\n",
    "\n",
    "    next_decoder_cache = () if use_cache else None\n",
    "    for i, layer_module in enumerate(self.layer):\n",
    "        if output_hidden_states:\n",
    "            all_hidden_states = all_hidden_states + (hidden_states,)\n",
    "\n",
    "        layer_head_mask = head_mask[i] if head_mask is not None else None\n",
    "        past_key_value = past_key_values[i] if past_key_values is not None else None\n",
    "\n",
    "        if self.gradient_checkpointing and self.training:\n",
    "\n",
    "            # TBD: load logger \n",
    "            # if use_cache:\n",
    "            #     logger.warning(\n",
    "            #         \"`use_cache=True` is incompatible with gradient checkpointing. Setting `use_cache=False`...\"\n",
    "            #     )\n",
    "            #     use_cache = False\n",
    "\n",
    "            def create_custom_forward(module):\n",
    "                def custom_forward(*inputs):\n",
    "                    return module(*inputs, past_key_value, output_attentions)\n",
    "\n",
    "                return custom_forward\n",
    "\n",
    "            layer_outputs = torch.utils.checkpoint.checkpoint(\n",
    "                create_custom_forward(layer_module),\n",
    "                hidden_states,\n",
    "                attention_mask,\n",
    "                layer_head_mask,\n",
    "                encoder_hidden_states,\n",
    "                encoder_attention_mask,\n",
    "            )\n",
    "        else:\n",
    "            num_mem = memory_storage['num_mem_tokens']\n",
    "            if (i in memory_storage) and (i > 0):\n",
    "                layer_memory = memory_storage[i]\n",
    "                for j, h in enumerate(hidden_states):\n",
    "                    hidden_states[j][:layer_memory[j].shape[0]] = layer_memory[j]\n",
    "\n",
    "            # print(f'hidden states shape: {len(hidden_states), hidden_states[0].shape}\\n memory storage:{memory_storage.keys()}')\n",
    "            layer_outputs = layer_module(\n",
    "                hidden_states,\n",
    "                attention_mask,\n",
    "                layer_head_mask,\n",
    "                encoder_hidden_states,\n",
    "                encoder_attention_mask,\n",
    "                past_key_value,\n",
    "                output_attentions,\n",
    "            )\n",
    "            \n",
    "        hidden_states = layer_outputs[0]\n",
    "        if i in memory_storage:\n",
    "            # print(f'replacing ms[i] {memory_storage[i][0][0][:10]}... to {[h[:num_mem] for h in hidden_states][0][0][:10]}')\n",
    "            memory_storage[i] = [h[:num_mem] for h in hidden_states]\n",
    "\n",
    "        # print(f'Overrided method message: hidden states shape: {len(hidden_states), hidden_states[0].shape}\\n memory storage:{memory_storage}')\n",
    "        if use_cache:\n",
    "            next_decoder_cache += (layer_outputs[-1],)\n",
    "        if output_attentions:\n",
    "            all_self_attentions = all_self_attentions + (layer_outputs[1],)\n",
    "            if self.config.add_cross_attention:\n",
    "                all_cross_attentions = all_cross_attentions + (layer_outputs[2],)\n",
    "\n",
    "    if output_hidden_states:\n",
    "        all_hidden_states = all_hidden_states + (hidden_states,)\n",
    "\n",
    "    if not return_dict:\n",
    "        return tuple(\n",
    "            v\n",
    "            for v in [\n",
    "                hidden_states,\n",
    "                next_decoder_cache,\n",
    "                all_hidden_states,\n",
    "                all_self_attentions,\n",
    "                all_cross_attentions,\n",
    "            ]\n",
    "            if v is not None\n",
    "        )\n",
    "    return BaseModelOutputWithPastAndCrossAttentions(\n",
    "        last_hidden_state=hidden_states,\n",
    "        past_key_values=next_decoder_cache,\n",
    "        hidden_states=all_hidden_states,\n",
    "        attentions=all_self_attentions,\n",
    "        cross_attentions=all_cross_attentions,\n",
    "    )\n",
    "\n",
    "\n",
    "class RMTEncoderForSequenceClassification():\n",
    "    '''\n",
    "    Usage\n",
    "    \n",
    "    Way 1: from config\n",
    "    rmt = RMTEncoderForSequenceClassification(config=config)\n",
    "\n",
    "    Way 2: from HF model name\n",
    "    model_name = \"bert-base-cased\"\n",
    "    rmt = RMTEncoderForSequenceClassification.from_pretrained(model_name)\n",
    "\n",
    "    Way 3: from instance of HF model\n",
    "    model = AutoModelForSequenceClassification(\"bert-base-cased\") \n",
    "    rmt = RMTEncoderForSequenceClassification(base_model=model)\n",
    "\n",
    "    '''\n",
    "    def __init__(self, config=None, base_model=None, **kwargs):\n",
    "        if config is not None:\n",
    "            self.model = AutoModelForSequenceClassification(config, **kwargs)\n",
    "        \n",
    "        if base_model is not None:\n",
    "            self.model = base_model\n",
    "\n",
    "\n",
    "    def from_pretrained(from_pretrained, **kwargs):\n",
    "        base_model = AutoModelForSequenceClassification.from_pretrained(from_pretrained, **kwargs)\n",
    "        rmt = RMTEncoderForSequenceClassification(base_model=base_model)\n",
    "        return rmt\n",
    "        \n",
    "\n",
    "    def set_params(self, \n",
    "                backbone_cls=None,\n",
    "                num_mem_tokens=0, \n",
    "                inter_layer_memory=False,\n",
    "                segment_ordering='regular',\n",
    "                input_size=None, \n",
    "                input_seg_size=None, \n",
    "                bptt_depth=-1, \n",
    "                drop_empty_segments=True,\n",
    "                sum_loss=False,\n",
    "                # special_tokens=None,\n",
    "                tokenizer=None\n",
    "                  ):\n",
    "        \n",
    "        if input_size is not None:\n",
    "            self.input_size = input_size\n",
    "        else:\n",
    "            self.input_size =  self.base_model.embeddings.position_embeddings.weight.shape[0]\n",
    "        self.input_seg_size = input_seg_size\n",
    "\n",
    "        # print('\\n\\n\\n', special_tokens)\n",
    "        \n",
    "        self.bptt_depth = bptt_depth\n",
    "        # self.pad_token_id = special_tokens['pad_token_id']\n",
    "        # self.cls_token = torch.tensor([special_tokens['cls_token_id']])\n",
    "        # self.sep_token = torch.tensor([special_tokens['sep_token_id']])\n",
    "        self.pad_token_id = tokenizer.pad_token_id\n",
    "        self.cls_token = torch.tensor([tokenizer.cls_token_id])\n",
    "        self.sep_token = torch.tensor([tokenizer.sep_token_id])\n",
    "        \n",
    "        self.num_mem_tokens = num_mem_tokens\n",
    "        self.segment_ordering = segment_ordering\n",
    "        self.drop_empty_segments = drop_empty_segments\n",
    "        self.sum_loss = sum_loss\n",
    "        self.extend_word_embeddings()\n",
    "\n",
    "        if inter_layer_memory:\n",
    "            self.override_encoder_forward()\n",
    "\n",
    "\n",
    "    def set_memory(self, memory=None):\n",
    "        if memory is None:\n",
    "            mem_token_ids = self.mem_token_ids.to(device=self.device)\n",
    "            memory = self.base_model.embeddings.word_embeddings(mem_token_ids)\n",
    "        return memory\n",
    "    \n",
    "    def extend_word_embeddings(self):\n",
    "        vocab_size = self.base_model.embeddings.word_embeddings.weight.shape[0]\n",
    "        extended_vocab_size = vocab_size + self.num_mem_tokens\n",
    "        self.mem_token_ids = torch.arange(vocab_size, vocab_size + self.num_mem_tokens)\n",
    "        self.base_model.resize_token_embeddings(extended_vocab_size)\n",
    "    \n",
    "    def override_encoder_forward(self):\n",
    "        self.memory_storage = {'num_mem_tokens': self.num_mem_tokens}\n",
    "        memory_forward = lambda *args, **kwargs: encoder_memory_forward(*args, **kwargs, memory_storage=self.memory_storage)\n",
    "        self.base_model.encoder.forward = types.MethodType(memory_forward, self.base_model.encoder)\n",
    "\n",
    "\n",
    "    def __call__(self, input_ids, **kwargs):\n",
    "        memory = self.set_memory()\n",
    "        segmented = self.pad_and_segment(input_ids)\n",
    "        segmented = list(zip(*segmented))\n",
    "\n",
    "        if self.segment_ordering in {'regular', 'last_memory_only'}:\n",
    "            pass\n",
    "        elif self.segment_ordering == 'reversed':\n",
    "            segmented == segmented[::-1]\n",
    "        elif self.segment_ordering == 'bidirectional':\n",
    "            segmented == segmented + segmented[::-1][1:]\n",
    "        elif self.segment_ordering == 'repeat_first':\n",
    "            segmented == segmented + segmented[:1]\n",
    "        else:\n",
    "            raise ValueError(f'Unknown segment ordering: {segment_ordering}')\n",
    "\n",
    "        self.memory_storage = {'num_mem_tokens': self.num_mem_tokens}\n",
    "        outputs = []\n",
    "        for seg_num, segment_data in enumerate(segmented):\n",
    "            input_ids, attention_mask, token_type_ids = segment_data\n",
    "            if memory.ndim == 2:\n",
    "                memory = memory.repeat(input_ids.shape[0], 1, 1)\n",
    "            if (self.bptt_depth > -1) and (len(segmented) - seg_num > self.bptt_depth): \n",
    "                memory = memory.detach()\n",
    "\n",
    "            seg_kwargs = dict(**kwargs)\n",
    "            if self.drop_empty_segments:\n",
    "                non_empty_mask = [not torch.equal(input_ids[i], self.empty) for i in range(len(input_ids))]\n",
    "                if sum(non_empty_mask) == 0:\n",
    "                    continue\n",
    "                input_ids = input_ids[non_empty_mask]\n",
    "                attention_mask = attention_mask[non_empty_mask]\n",
    "                token_type_ids = token_type_ids[non_empty_mask]\n",
    "                seg_kwargs['labels'] = seg_kwargs['labels'][non_empty_mask]\n",
    "\n",
    "                inputs_embeds = self.base_model.embeddings.word_embeddings(input_ids)\n",
    "                inputs_embeds[:, 1:1+self.num_mem_tokens] = memory[non_empty_mask]\n",
    "            else:\n",
    "                inputs_embeds = self.base_model.embeddings.word_embeddings(input_ids)\n",
    "                inputs_embeds[:, 1:1+self.num_mem_tokens] = memory\n",
    "\n",
    "            seg_kwargs['inputs_embeds'] = inputs_embeds\n",
    "            seg_kwargs['attention_mask'] = attention_mask\n",
    "            seg_kwargs['token_type_ids'] = token_type_ids\n",
    "            \n",
    "            out = self.model.forward(**seg_kwargs, output_hidden_states=True)\n",
    "            outputs.append(out)\n",
    "\n",
    "            if self.drop_empty_segments:\n",
    "                memory[non_empty_mask] = out.hidden_states[-1][:, :self.num_mem_tokens]\n",
    "            else:\n",
    "                memory = out.hidden_states[-1][:, :self.num_mem_tokens]\n",
    "\n",
    "        for i, o in enumerate(outputs):\n",
    "            out[f'loss_{i}'] = o['loss'].mean()\n",
    "\n",
    "        if self.sum_loss:\n",
    "            out['loss'] = torch.stack([o['loss'] for o in outputs]).sum(dim=-1)\n",
    "            \n",
    "        return out\n",
    "\n",
    "    def pad_and_segment(self, input_ids):\n",
    "        \n",
    "        sequence_len = input_ids.shape[1]\n",
    "        input_seg_size = self.input_size - self.num_mem_tokens - 3 \n",
    "        if self.input_seg_size is not None and self.input_seg_size < input_seg_size:\n",
    "            input_seg_size = self.input_seg_size\n",
    "            \n",
    "        n_segments = math.ceil(sequence_len / input_seg_size)\n",
    "\n",
    "        augmented_inputs = []\n",
    "        for input in input_ids:\n",
    "            input = input[input != self.pad_token_id][1:-1]\n",
    "\n",
    "            seg_sep_inds = [0] + list(range(len(input), 0, -input_seg_size))[::-1] # chunk so that first segment has various size\n",
    "            input_segments = [input[s:e] for s, e in zip(seg_sep_inds, seg_sep_inds[1:])]\n",
    "\n",
    "            def pad_add_special_tokens(tensor, seg_size):\n",
    "                tensor = torch.cat([self.cls_token.to(device=self.device),\n",
    "                                    self.mem_token_ids.to(device=self.device),\n",
    "                                    self.sep_token.to(device=self.device),\n",
    "                                    tensor.to(device=self.device),\n",
    "                                    self.sep_token.to(device=self.device)])\n",
    "                pad_size = seg_size - tensor.shape[0]\n",
    "                if pad_size > 0:\n",
    "                    tensor = F.pad(tensor, (0, pad_size))\n",
    "                return tensor\n",
    "\n",
    "            input_segments = [pad_add_special_tokens(t, self.input_size) for t in input_segments]\n",
    "            empty = torch.Tensor([]).int()\n",
    "            self.empty = pad_add_special_tokens(empty, self.input_size)\n",
    "            empty_segments = [self.empty for i in range(n_segments - len(input_segments))]\n",
    "            input_segments = empty_segments + input_segments\n",
    "\n",
    "            augmented_input = torch.cat(input_segments)\n",
    "            augmented_inputs.append(augmented_input)\n",
    "            \n",
    "        augmented_inputs = torch.stack(augmented_inputs)\n",
    "        attention_mask = torch.ones_like(augmented_inputs)\n",
    "        attention_mask[augmented_inputs == self.pad_token_id] = 0\n",
    "\n",
    "        token_type_ids = torch.zeros_like(attention_mask)\n",
    "\n",
    "        input_segments = torch.chunk(augmented_inputs, n_segments, dim=1)\n",
    "        attention_mask = torch.chunk(attention_mask, n_segments, dim=1)\n",
    "        token_type_ids = torch.chunk(token_type_ids, n_segments, dim=1)\n",
    "    \n",
    "        return input_segments, attention_mask, token_type_ids\n",
    "\n",
    "\n",
    "    def to(self, device):\n",
    "        self.model = self.model.to(device)\n",
    "        \n",
    "    \n",
    "    def cuda(self):\n",
    "        self.model.cuda()\n",
    "\n",
    "\n",
    "    def __getattr__(self, attribute):\n",
    "        return getattr(self.model, attribute)\n",
    "\n",
    "\n",
    "    def parameters(self, **kwargs):\n",
    "        return self.model.parameters(**kwargs)\n",
    "\n",
    "    def named_parameters(self, **kwargs):\n",
    "        return self.model.named_parameters(**kwargs)"
   ]
  },
  {
   "cell_type": "code",
   "execution_count": 228,
   "metadata": {},
   "outputs": [],
   "source": [
    "# pretrained_model = AutoModelForSequenceClassification.from_pretrained(\"bert-base-cased\", num_labels=5, output_hidden_states=True)"
   ]
  },
  {
   "cell_type": "code",
   "execution_count": 5,
   "metadata": {},
   "outputs": [],
   "source": [
    "model_name = \"google/bert_uncased_L-4_H-256_A-4\"\n",
    "# model_name = \"microsoft/deberta-v3-base\"\n",
    "# model_name = \"facebook/bart-base\"\n",
    "# model_name = 'google/electra-base-discriminator'"
   ]
  },
  {
   "cell_type": "code",
   "execution_count": 8,
   "metadata": {},
   "outputs": [
    {
     "name": "stderr",
     "output_type": "stream",
     "text": [
      "/cephfs/home/bulatov/bulatov/hvdenv/lib/python3.8/site-packages/cryptography/hazmat/backends/openssl/x509.py:14: CryptographyDeprecationWarning: This version of cryptography contains a temporary pyOpenSSL fallback path. Upgrade pyOpenSSL now.\n",
      "  warnings.warn(\n"
     ]
    }
   ],
   "source": [
    "tokenizer = AutoTokenizer.from_pretrained(model_name)"
   ]
  },
  {
   "cell_type": "code",
   "execution_count": 9,
   "metadata": {},
   "outputs": [],
   "source": [
    "num_segments = 2\n",
    "num_mem_tokens = 10\n",
    "\n",
    "tokenizer = AutoTokenizer.from_pretrained(model_name)\n",
    "\n",
    "tokenizer.model_max_length  = (tokenizer.model_max_length - num_mem_tokens) * num_segments\n",
    "tokenizer.padding_side = 'left'"
   ]
  },
  {
   "cell_type": "code",
   "execution_count": 11,
   "metadata": {},
   "outputs": [],
   "source": [
    "rmt = RMTEncoderForSequenceClassification.from_pretrained(model_name, num_labels=3)\n",
    "\n",
    "rmt.set_params(\n",
    "                drop_empty_segments=True,\n",
    "                sum_loss=False,\n",
    "                input_size=None, \n",
    "                input_seg_size=None, \n",
    "                backbone_cls=None,\n",
    "                inter_layer_memory=False,\n",
    "                segment_ordering='repeat_first',\n",
    "                num_mem_tokens=0, \n",
    "                bptt_depth=-1, \n",
    "                tokenizer=tokenizer)"
   ]
  },
  {
   "cell_type": "markdown",
   "metadata": {},
   "source": [
    "### load dataset "
   ]
  },
  {
   "cell_type": "code",
   "execution_count": 12,
   "metadata": {},
   "outputs": [],
   "source": [
    "input_seq_len = 512\n",
    "target_seq_len = 2"
   ]
  },
  {
   "cell_type": "code",
   "execution_count": 13,
   "metadata": {},
   "outputs": [],
   "source": [
    "encode_plus_kwargs = {'max_length': input_seq_len,\n",
    "                              'truncation': True,\n",
    "                              'padding': 'longest',\n",
    "                              'pad_to_multiple_of': 64}\n",
    "generate_kwargs = {}\n",
    "labels_map = {'Contradiction': 0, 'Entailment': 1, 'Not mentioned': 2}\n",
    "num_labels = len(labels_map)\n",
    "\n",
    "def collate_fn(batch):\n",
    "    # cut too long strings because they may slow down tokenization\n",
    "    inputs = [b['input'][:input_seq_len * 10] for b in batch]\n",
    "    labels = [b['output'][:target_seq_len * 10] for b in batch]\n",
    "    features = tokenizer.batch_encode_plus(list(inputs), return_tensors='pt', **encode_plus_kwargs)\n",
    "    labels = np.array([labels_map[t] for t in labels])\n",
    "    features['labels'] = torch.from_numpy(labels)\n",
    "    return features"
   ]
  },
  {
   "cell_type": "code",
   "execution_count": 14,
   "metadata": {},
   "outputs": [
    {
     "name": "stderr",
     "output_type": "stream",
     "text": [
      "/cephfs/home/bulatov/bulatov/hvdenv/lib/python3.8/site-packages/cryptography/hazmat/backends/openssl/x509.py:14: CryptographyDeprecationWarning: This version of cryptography contains a temporary pyOpenSSL fallback path. Upgrade pyOpenSSL now.\n",
      "  warnings.warn(\n",
      "Reusing dataset scrolls (/home/bulatov/.cache/huggingface/datasets/tau___scrolls/contract_nli/1.0.0/672021d5d8e1edff998a6ea7a5bff35fdfd0ae243e7cf6a8c88a57a04afb46ac)\n"
     ]
    },
    {
     "data": {
      "application/vnd.jupyter.widget-view+json": {
       "model_id": "278c5d1c6c1c43c6826531e2128c0c25",
       "version_major": 2,
       "version_minor": 0
      },
      "text/plain": [
       "  0%|          | 0/3 [00:00<?, ?it/s]"
      ]
     },
     "metadata": {},
     "output_type": "display_data"
    }
   ],
   "source": [
    "import datasets\n",
    "dataset = datasets.load_dataset('tau/scrolls', 'contract_nli')\n",
    "train_dataset = dataset['train']"
   ]
  },
  {
   "cell_type": "code",
   "execution_count": 15,
   "metadata": {},
   "outputs": [],
   "source": [
    "train_sampler = RandomSampler(train_dataset,)\n",
    "kwargs = {'pin_memory': True, 'num_workers': 0}\n",
    "train_dataloader = DataLoader(train_dataset, batch_size=3, sampler=train_sampler,\n",
    "                                collate_fn=collate_fn, **kwargs)"
   ]
  },
  {
   "cell_type": "code",
   "execution_count": 262,
   "metadata": {},
   "outputs": [],
   "source": [
    "gen = iter(train_dataloader)\n",
    "sample = next(gen)"
   ]
  },
  {
   "cell_type": "code",
   "execution_count": null,
   "metadata": {},
   "outputs": [],
   "source": []
  },
  {
   "cell_type": "code",
   "execution_count": 17,
   "metadata": {},
   "outputs": [],
   "source": [
    "kwargs = sample.copy()\n",
    "self = rmt\n",
    "# kwargs\n",
    "input_ids = kwargs.pop('input_ids')\n",
    "\n",
    "memory = self.set_memory()\n",
    "segmented = self.pad_and_segment(input_ids)\n",
    "\n",
    "outputs = []\n",
    "for seg_num, segment_data in enumerate(zip(*segmented)):\n",
    "    input_ids, attention_mask, token_type_ids = segment_data\n",
    "    if memory.ndim == 2:\n",
    "        memory = memory.repeat(input_ids.shape[0], 1, 1)\n",
    "    if (self.bptt_depth > -1) and (len(segmented) - seg_num > self.bptt_depth): \n",
    "        memory = memory.detach()\n",
    "\n",
    "    seg_kwargs = dict(**kwargs)\n",
    "    if self.drop_empty_segments:\n",
    "\n",
    "        non_empty_mask = [not torch.equal(input_ids[i], self.empty) for i in range(len(input_ids))]\n",
    "        if sum(non_empty_mask) == 0:\n",
    "            continue\n",
    "        input_ids = input_ids[non_empty_mask]\n",
    "        attention_mask = attention_mask[non_empty_mask]\n",
    "        token_type_ids = token_type_ids[non_empty_mask]\n",
    "        seg_kwargs['labels'] = seg_kwargs['labels'][non_empty_mask]\n",
    "\n",
    "        inputs_embeds = self.base_model.embeddings.word_embeddings(input_ids)\n",
    "        inputs_embeds[:, 1:1+self.num_mem_tokens] = memory[non_empty_mask]\n",
    "    else:\n",
    "        inputs_embeds = self.base_model.embeddings.word_embeddings(input_ids)\n",
    "        inputs_embeds[:, 1:1+self.num_mem_tokens] = memory\n",
    "\n",
    "    seg_kwargs['inputs_embeds'] = inputs_embeds\n",
    "    seg_kwargs['attention_mask'] = attention_mask\n",
    "    seg_kwargs['token_type_ids'] = token_type_ids\n",
    "    \n",
    "    out = self.model.forward(**seg_kwargs, output_hidden_states=True, return_dict=True, )\n",
    "    outputs.append(out)\n",
    "\n",
    "    if self.drop_empty_segments:\n",
    "        memory[non_empty_mask] = out.hidden_states[-1][:, :self.num_mem_tokens]\n",
    "    else:\n",
    "        memory = out.hidden_states[-1][:, :self.num_mem_tokens]\n",
    "\n",
    "if self.sum_loss:\n",
    "    out['loss'] = torch.stack([o['loss'] for o in outputs]).sum(dim=-1)"
   ]
  },
  {
   "cell_type": "code",
   "execution_count": 78,
   "metadata": {},
   "outputs": [
    {
     "data": {
      "text/plain": [
       "tensor([2, 1, 2])"
      ]
     },
     "execution_count": 78,
     "metadata": {},
     "output_type": "execute_result"
    }
   ],
   "source": [
    "kwargs['labels']"
   ]
  },
  {
   "cell_type": "code",
   "execution_count": null,
   "metadata": {},
   "outputs": [],
   "source": []
  },
  {
   "cell_type": "code",
   "execution_count": 79,
   "metadata": {},
   "outputs": [
    {
     "data": {
      "text/plain": [
       "[tensor([[-0.3037,  0.2728, -0.1070],\n",
       "         [-0.3630,  0.3620, -0.0418],\n",
       "         [-0.3037,  0.2728, -0.1070]], grad_fn=<AddmmBackward>),\n",
       " tensor([[-0.1574, -0.0191,  0.0029],\n",
       "         [-0.1814,  0.0206, -0.0564],\n",
       "         [-0.2045,  0.0097, -0.1661]], grad_fn=<AddmmBackward>)]"
      ]
     },
     "execution_count": 79,
     "metadata": {},
     "output_type": "execute_result"
    }
   ],
   "source": [
    "[o.logits for o in outputs]"
   ]
  },
  {
   "cell_type": "code",
   "execution_count": 80,
   "metadata": {},
   "outputs": [],
   "source": [
    "stacked_logits = torch.stack([o.logits for o in outputs])"
   ]
  },
  {
   "cell_type": "code",
   "execution_count": 82,
   "metadata": {},
   "outputs": [
    {
     "data": {
      "text/plain": [
       "tensor([[[0.2502, 0.4453, 0.3046],\n",
       "         [0.2250, 0.4646, 0.3103],\n",
       "         [0.2502, 0.4453, 0.3046]],\n",
       "\n",
       "        [[0.3010, 0.3457, 0.3533],\n",
       "         [0.2979, 0.3646, 0.3375],\n",
       "         [0.3051, 0.3779, 0.3170]]], grad_fn=<SoftmaxBackward>)"
      ]
     },
     "execution_count": 82,
     "metadata": {},
     "output_type": "execute_result"
    }
   ],
   "source": [
    "probs"
   ]
  },
  {
   "cell_type": "code",
   "execution_count": 98,
   "metadata": {},
   "outputs": [
    {
     "data": {
      "text/plain": [
       "tensor([1, 1, 1])"
      ]
     },
     "execution_count": 98,
     "metadata": {},
     "output_type": "execute_result"
    }
   ],
   "source": [
    "# mean logits\n",
    "averaged_logits = stacked_logits.mean(dim=0)\n",
    "probs = F.softmax(averaged_logits, dim=1)\n",
    "preds = probs.argmax(dim=1)\n",
    "preds"
   ]
  },
  {
   "cell_type": "code",
   "execution_count": 175,
   "metadata": {},
   "outputs": [
    {
     "data": {
      "text/plain": [
       "tensor([1, 1, 1])"
      ]
     },
     "execution_count": 175,
     "metadata": {},
     "output_type": "execute_result"
    }
   ],
   "source": [
    "# majority vote\n",
    "probs = F.softmax(stacked_logits, dim=2)\n",
    "preds = probs.argmax(dim=2).mode(dim=0).values\n",
    "preds"
   ]
  },
  {
   "cell_type": "code",
   "execution_count": 154,
   "metadata": {},
   "outputs": [
    {
     "data": {
      "text/plain": [
       "tensor([1, 1, 1])"
      ]
     },
     "execution_count": 154,
     "metadata": {},
     "output_type": "execute_result"
    }
   ],
   "source": [
    "# most confident vote\n",
    "probs = F.softmax(stacked_logits, dim=2)\n",
    "most_confident_inds = probs.max(dim=2).values.argmax(dim=0)\n",
    "new_probs = torch.stack([probs[ind, i] for i, ind in enumerate(most_confident_inds)])\n",
    "preds = new_probs.argmax(dim=1)\n",
    "preds"
   ]
  },
  {
   "cell_type": "code",
   "execution_count": 174,
   "metadata": {},
   "outputs": [
    {
     "data": {
      "text/plain": [
       "tensor([[[0.2502, 0.4453, 0.3046],\n",
       "         [0.2250, 0.4646, 0.3103],\n",
       "         [0.2502, 0.4453, 0.3046]],\n",
       "\n",
       "        [[0.3010, 0.3457, 0.3533],\n",
       "         [0.2979, 0.3646, 0.3375],\n",
       "         [0.3051, 0.3779, 0.3170]]], grad_fn=<SoftmaxBackward>)"
      ]
     },
     "execution_count": 174,
     "metadata": {},
     "output_type": "execute_result"
    }
   ],
   "source": [
    "probs"
   ]
  },
  {
   "cell_type": "code",
   "execution_count": 173,
   "metadata": {},
   "outputs": [],
   "source": [
    "probs = F.softmax(stacked_logits, dim=2)\n",
    "most_sure_seg_inds = probs.max(dim=2).values.argmax(dim=0)\n",
    "# new_probs = torch.stack([probs[ind, i] for i, ind in enumerate(most_sure_seg_inds)])\n",
    "# preds = new_probs.argmax(dim=1)\n"
   ]
  },
  {
   "cell_type": "code",
   "execution_count": 146,
   "metadata": {},
   "outputs": [
    {
     "data": {
      "text/plain": [
       "tensor([[[0.2502, 0.4453, 0.3046],\n",
       "         [0.2250, 0.4646, 0.3103],\n",
       "         [0.2502, 0.4453, 0.3046]],\n",
       "\n",
       "        [[0.3010, 0.3457, 0.3533],\n",
       "         [0.2979, 0.3646, 0.3375],\n",
       "         [0.3051, 0.3779, 0.3170]]], grad_fn=<SoftmaxBackward>)"
      ]
     },
     "execution_count": 146,
     "metadata": {},
     "output_type": "execute_result"
    }
   ],
   "source": [
    "probs"
   ]
  },
  {
   "cell_type": "code",
   "execution_count": 150,
   "metadata": {},
   "outputs": [
    {
     "data": {
      "text/plain": [
       "tensor([0, 0, 0])"
      ]
     },
     "execution_count": 150,
     "metadata": {},
     "output_type": "execute_result"
    }
   ],
   "source": [
    "most_sure_seg_inds"
   ]
  },
  {
   "cell_type": "code",
   "execution_count": 152,
   "metadata": {},
   "outputs": [
    {
     "data": {
      "text/plain": [
       "tensor([[[0.2502, 0.4453, 0.3046],\n",
       "         [0.2250, 0.4646, 0.3103],\n",
       "         [0.2502, 0.4453, 0.3046]]], grad_fn=<IndexBackward>)"
      ]
     },
     "execution_count": 152,
     "metadata": {},
     "output_type": "execute_result"
    }
   ],
   "source": [
    "probs[[0]]"
   ]
  },
  {
   "cell_type": "code",
   "execution_count": null,
   "metadata": {},
   "outputs": [],
   "source": [
    "loss = None\n",
    "if labels is not None:\n",
    "    if self.config.problem_type is None:\n",
    "        if self.num_labels == 1:\n",
    "            self.config.problem_type = \"regression\"\n",
    "        elif self.num_labels > 1 and (labels.dtype == torch.long or labels.dtype == torch.int):\n",
    "            self.config.problem_type = \"single_label_classification\"\n",
    "        else:\n",
    "            self.config.problem_type = \"multi_label_classification\"\n",
    "\n",
    "    if self.config.problem_type == \"regression\":\n",
    "        loss_fct = MSELoss()\n",
    "        if self.num_labels == 1:\n",
    "            loss = loss_fct(logits.squeeze(), labels.squeeze())\n",
    "        else:\n",
    "            loss = loss_fct(logits, labels)\n",
    "    elif self.config.problem_type == \"single_label_classification\":\n",
    "        loss_fct = CrossEntropyLoss()\n",
    "        loss = loss_fct(logits.view(-1, self.num_labels), labels.view(-1))\n",
    "    elif self.config.problem_type == \"multi_label_classification\":\n",
    "        loss_fct = BCEWithLogitsLoss()\n",
    "        loss = loss_fct(logits, labels)"
   ]
  },
  {
   "cell_type": "markdown",
   "metadata": {},
   "source": [
    "### Pad and segment by tokenizer -> failed"
   ]
  },
  {
   "cell_type": "code",
   "execution_count": 250,
   "metadata": {},
   "outputs": [
    {
     "data": {
      "text/plain": [
       "['Cats are actually vegetables.</s>']"
      ]
     },
     "execution_count": 250,
     "metadata": {},
     "output_type": "execute_result"
    }
   ],
   "source": [
    "model_name = \"t5-base\"\n",
    "tokenizer = AutoTokenizer.from_pretrained(model_name)\n",
    "encoded = tokenizer.batch_encode_plus(['Cats are actually vegetables.'])\n",
    "tokenizer.batch_decode(encoded.input_ids)"
   ]
  },
  {
   "cell_type": "code",
   "execution_count": 251,
   "metadata": {},
   "outputs": [],
   "source": [
    "ids = tokenizer.encode('Cats are actually vegetables.', add_special_tokens=True)\n",
    "cleaned = tokenizer.decode(ids, skip_special_tokens=True)"
   ]
  },
  {
   "cell_type": "code",
   "execution_count": 253,
   "metadata": {},
   "outputs": [
    {
     "data": {
      "text/plain": [
       "1"
      ]
     },
     "execution_count": 253,
     "metadata": {},
     "output_type": "execute_result"
    }
   ],
   "source": [
    "tokenizer.num_special_tokens_to_add()"
   ]
  },
  {
   "cell_type": "code",
   "execution_count": 231,
   "metadata": {},
   "outputs": [],
   "source": [
    "model_name = 't5-base'\n",
    "rmt = RMTEncoderDecoderForConditionalGeneration.from_pretrained(model_name, num_labels=3)\n",
    "\n",
    "rmt.set_params(\n",
    "                drop_empty_segments=True,\n",
    "                sum_loss=False,\n",
    "                input_size=None, \n",
    "                input_seg_size=None, \n",
    "                backbone_cls=None,\n",
    "                inter_layer_memory=False,\n",
    "                segment_ordering='repeat_first',\n",
    "                num_mem_tokens=0, \n",
    "                bptt_depth=-1, \n",
    "                tokenizer=tokenizer)"
   ]
  },
  {
   "cell_type": "code",
   "execution_count": 240,
   "metadata": {},
   "outputs": [
    {
     "data": {
      "text/plain": [
       "['Cat', 's', 'are', 'actually', 'vegetables', '.', '</s>']"
      ]
     },
     "execution_count": 240,
     "metadata": {},
     "output_type": "execute_result"
    }
   ],
   "source": [
    "tokenizer.batch_decode(tokenizer.encode('Cats are actually vegetables.'))"
   ]
  },
  {
   "cell_type": "code",
   "execution_count": 249,
   "metadata": {},
   "outputs": [
    {
     "data": {
      "text/plain": [
       "(['<s>Cats are actually vegetables</s>'], 2)"
      ]
     },
     "execution_count": 249,
     "metadata": {},
     "output_type": "execute_result"
    }
   ],
   "source": [
    "# model_name = \"facebook/bart-base\"\n",
    "# tokenizer = AutoTokenizer.from_pretrained(model_name)\n",
    "# encoded = tokenizer.batch_encode_plus(['Cats are actually vegetables'])\n",
    "# tokenizer.batch_decode(encoded.input_ids), tokenizer.num_special_tokens_to_add()"
   ]
  },
  {
   "cell_type": "code",
   "execution_count": 264,
   "metadata": {},
   "outputs": [],
   "source": [
    "self = rmt\n",
    "self.padding_side = 'right'\n",
    "self.input_size = 512\n",
    "self.input_seg_size = 256\n",
    "\n",
    "self.tokenizer = tokenizer\n",
    "input_ids = sample.copy()['input_ids']"
   ]
  },
  {
   "cell_type": "code",
   "execution_count": 360,
   "metadata": {},
   "outputs": [],
   "source": [
    "def reencode(self, ids, add_special_tokens=False):\n",
    "    # print([len(i) for i in ids])\n",
    "    decoded = self.tokenizer.batch_decode(ids, skip_special_tokens=False)\n",
    "    # print([len(i) for i in decoded])\n",
    "    reencoded = self.tokenizer.batch_encode_plus(decoded, add_special_tokens=add_special_tokens, **encode_plus_kwargs)\n",
    "    return reencoded['input_ids']\n"
   ]
  },
  {
   "cell_type": "code",
   "execution_count": 361,
   "metadata": {},
   "outputs": [],
   "source": [
    "i1 = input_ids[1]"
   ]
  },
  {
   "cell_type": "code",
   "execution_count": 362,
   "metadata": {},
   "outputs": [],
   "source": [
    "i2 = reencode(self, input_ids, True)[1]"
   ]
  },
  {
   "cell_type": "code",
   "execution_count": 363,
   "metadata": {},
   "outputs": [
    {
     "data": {
      "text/plain": [
       "(512, 512)"
      ]
     },
     "execution_count": 363,
     "metadata": {},
     "output_type": "execute_result"
    }
   ],
   "source": [
    "len(i1), len(i2)"
   ]
  },
  {
   "cell_type": "code",
   "execution_count": 367,
   "metadata": {},
   "outputs": [
    {
     "data": {
      "text/plain": [
       "{'eos_token': '</s>',\n",
       " 'unk_token': '<unk>',\n",
       " 'pad_token': '<pad>',\n",
       " 'additional_special_tokens': ['<extra_id_0>',\n",
       "  '<extra_id_1>',\n",
       "  '<extra_id_2>',\n",
       "  '<extra_id_3>',\n",
       "  '<extra_id_4>',\n",
       "  '<extra_id_5>',\n",
       "  '<extra_id_6>',\n",
       "  '<extra_id_7>',\n",
       "  '<extra_id_8>',\n",
       "  '<extra_id_9>',\n",
       "  '<extra_id_10>',\n",
       "  '<extra_id_11>',\n",
       "  '<extra_id_12>',\n",
       "  '<extra_id_13>',\n",
       "  '<extra_id_14>',\n",
       "  '<extra_id_15>',\n",
       "  '<extra_id_16>',\n",
       "  '<extra_id_17>',\n",
       "  '<extra_id_18>',\n",
       "  '<extra_id_19>',\n",
       "  '<extra_id_20>',\n",
       "  '<extra_id_21>',\n",
       "  '<extra_id_22>',\n",
       "  '<extra_id_23>',\n",
       "  '<extra_id_24>',\n",
       "  '<extra_id_25>',\n",
       "  '<extra_id_26>',\n",
       "  '<extra_id_27>',\n",
       "  '<extra_id_28>',\n",
       "  '<extra_id_29>',\n",
       "  '<extra_id_30>',\n",
       "  '<extra_id_31>',\n",
       "  '<extra_id_32>',\n",
       "  '<extra_id_33>',\n",
       "  '<extra_id_34>',\n",
       "  '<extra_id_35>',\n",
       "  '<extra_id_36>',\n",
       "  '<extra_id_37>',\n",
       "  '<extra_id_38>',\n",
       "  '<extra_id_39>',\n",
       "  '<extra_id_40>',\n",
       "  '<extra_id_41>',\n",
       "  '<extra_id_42>',\n",
       "  '<extra_id_43>',\n",
       "  '<extra_id_44>',\n",
       "  '<extra_id_45>',\n",
       "  '<extra_id_46>',\n",
       "  '<extra_id_47>',\n",
       "  '<extra_id_48>',\n",
       "  '<extra_id_49>',\n",
       "  '<extra_id_50>',\n",
       "  '<extra_id_51>',\n",
       "  '<extra_id_52>',\n",
       "  '<extra_id_53>',\n",
       "  '<extra_id_54>',\n",
       "  '<extra_id_55>',\n",
       "  '<extra_id_56>',\n",
       "  '<extra_id_57>',\n",
       "  '<extra_id_58>',\n",
       "  '<extra_id_59>',\n",
       "  '<extra_id_60>',\n",
       "  '<extra_id_61>',\n",
       "  '<extra_id_62>',\n",
       "  '<extra_id_63>',\n",
       "  '<extra_id_64>',\n",
       "  '<extra_id_65>',\n",
       "  '<extra_id_66>',\n",
       "  '<extra_id_67>',\n",
       "  '<extra_id_68>',\n",
       "  '<extra_id_69>',\n",
       "  '<extra_id_70>',\n",
       "  '<extra_id_71>',\n",
       "  '<extra_id_72>',\n",
       "  '<extra_id_73>',\n",
       "  '<extra_id_74>',\n",
       "  '<extra_id_75>',\n",
       "  '<extra_id_76>',\n",
       "  '<extra_id_77>',\n",
       "  '<extra_id_78>',\n",
       "  '<extra_id_79>',\n",
       "  '<extra_id_80>',\n",
       "  '<extra_id_81>',\n",
       "  '<extra_id_82>',\n",
       "  '<extra_id_83>',\n",
       "  '<extra_id_84>',\n",
       "  '<extra_id_85>',\n",
       "  '<extra_id_86>',\n",
       "  '<extra_id_87>',\n",
       "  '<extra_id_88>',\n",
       "  '<extra_id_89>',\n",
       "  '<extra_id_90>',\n",
       "  '<extra_id_91>',\n",
       "  '<extra_id_92>',\n",
       "  '<extra_id_93>',\n",
       "  '<extra_id_94>',\n",
       "  '<extra_id_95>',\n",
       "  '<extra_id_96>',\n",
       "  '<extra_id_97>',\n",
       "  '<extra_id_98>',\n",
       "  '<extra_id_99>']}"
      ]
     },
     "execution_count": 367,
     "metadata": {},
     "output_type": "execute_result"
    }
   ],
   "source": [
    "tokenizer.special_tokens_map"
   ]
  },
  {
   "cell_type": "code",
   "execution_count": 366,
   "metadata": {},
   "outputs": [
    {
     "data": {
      "text/plain": [
       "'.'"
      ]
     },
     "execution_count": 366,
     "metadata": {},
     "output_type": "execute_result"
    }
   ],
   "source": [
    "tokenizer.decode([3, 5])"
   ]
  },
  {
   "cell_type": "code",
   "execution_count": 365,
   "metadata": {},
   "outputs": [
    {
     "name": "stdout",
     "output_type": "stream",
     "text": [
      "44 tensor(3) 5\n",
      "46 tensor(5) 19794\n",
      "47 tensor(19794) 22354\n",
      "51 tensor(22354) 117\n",
      "52 tensor(117) 3430\n",
      "53 tensor(3430) 5\n",
      "54 tensor(3) 19794\n",
      "55 tensor(5) 22354\n",
      "56 tensor(19794) 22354\n",
      "58 tensor(22354) 6\n",
      "59 tensor(22354) 1958\n",
      "60 tensor(6) 13571\n",
      "61 tensor(1958) 7720\n",
      "62 tensor(13571) 10\n",
      "63 tensor(7720) 5\n",
      "64 tensor(10) 22354\n",
      "65 tensor(3) 22354\n",
      "66 tensor(5) 22354\n",
      "67 tensor(22354) 6018\n",
      "68 tensor(22354) 120\n",
      "69 tensor(22354) 3\n",
      "70 tensor(6018) 4822\n",
      "71 tensor(120) 12\n",
      "72 tensor(3) 38\n",
      "73 tensor(4822) 8\n",
      "74 tensor(12) 96\n",
      "75 tensor(38) 13725\n",
      "76 tensor(8) 725\n",
      "77 tensor(96) 1280\n",
      "78 tensor(13725) 1300\n",
      "79 tensor(725) 7333\n",
      "80 tensor(1280) 2748\n",
      "81 tensor(1300) 15\n",
      "82 tensor(7333) 3\n",
      "83 tensor(2748) 11039\n",
      "84 tensor(15) 37\n",
      "85 tensor(3) 2251\n",
      "86 tensor(11039) 8286\n",
      "87 tensor(37) 12\n",
      "88 tensor(2251) 370\n",
      "89 tensor(8286) 284\n",
      "90 tensor(12) 119\n",
      "91 tensor(370) 28\n",
      "92 tensor(284) 824\n",
      "93 tensor(119) 251\n",
      "94 tensor(28) 13\n",
      "95 tensor(824) 8\n",
      "96 tensor(251) 3669\n",
      "97 tensor(13) 10261\n",
      "98 tensor(8) 7\n",
      "99 tensor(3669) 16\n",
      "100 tensor(10261) 2829\n",
      "101 tensor(7) 11\n",
      "102 tensor(16) 11602\n",
      "103 tensor(2829) 1405\n",
      "104 tensor(11) 3\n",
      "105 tensor(11602) 20651\n",
      "106 tensor(1405) 12\n",
      "107 tensor(3) 70\n",
      "108 tensor(20651) 268\n",
      "109 tensor(12) 6384\n",
      "110 tensor(70) 11\n",
      "111 tensor(268) 87\n",
      "112 tensor(6384) 127\n",
      "113 tensor(11) 165\n",
      "114 tensor(87) 2673\n",
      "115 tensor(127) 5\n",
      "116 tensor(165) 3\n",
      "117 tensor(2673) 10917\n",
      "118 tensor(5) 37\n",
      "119 tensor(3) 2251\n",
      "120 tensor(10917) 1663\n",
      "121 tensor(37) 12\n",
      "122 tensor(2251) 1368\n",
      "123 tensor(1663) 8\n",
      "124 tensor(12) 1353\n",
      "125 tensor(1368) 11\n",
      "126 tensor(8) 1124\n",
      "127 tensor(1353) 1286\n",
      "128 tensor(11) 84\n",
      "129 tensor(1124) 284\n",
      "130 tensor(1286) 1522\n",
      "131 tensor(84) 14765\n",
      "132 tensor(284) 11602\n",
      "133 tensor(1522) 251\n",
      "134 tensor(14765) 12\n",
      "135 tensor(11602) 8\n",
      "136 tensor(251) 119\n",
      "137 tensor(12) 6\n",
      "138 tensor(8) 84\n",
      "139 tensor(119) 1353\n",
      "140 tensor(6) 11\n",
      "141 tensor(84) 1124\n",
      "142 tensor(1353) 1522\n",
      "143 tensor(11) 11708\n",
      "144 tensor(1124) 3\n",
      "145 tensor(1522) 9\n",
      "146 tensor(11708) 11293\n",
      "147 tensor(3) 11\n",
      "148 tensor(9) 3\n",
      "149 tensor(11293) 31814\n",
      "150 tensor(11) 2791\n",
      "151 tensor(3) 344\n",
      "152 tensor(31814) 8\n",
      "153 tensor(2791) 2251\n",
      "154 tensor(344) 11\n",
      "155 tensor(8) 87\n",
      "156 tensor(2251) 127\n",
      "157 tensor(11) 70\n",
      "158 tensor(87) 4373\n",
      "159 tensor(127) 87\n",
      "160 tensor(70) 60\n",
      "161 tensor(4373) 12640\n",
      "162 tensor(87) 1528\n",
      "163 tensor(60) 7\n",
      "164 tensor(12640) 5\n",
      "165 tensor(1528) 3\n",
      "166 tensor(7) 13606\n",
      "167 tensor(5) 100\n",
      "168 tensor(3) 2791\n",
      "169 tensor(13606) 1522\n",
      "170 tensor(100) 92\n",
      "171 tensor(2791) 3\n",
      "172 tensor(1522) 8610\n",
      "173 tensor(92) 8\n",
      "174 tensor(3) 2251\n",
      "175 tensor(8610) 6\n",
      "176 tensor(8) 3\n",
      "177 tensor(2251) 29\n",
      "178 tensor(6) 27627\n",
      "179 tensor(3) 8\n",
      "180 tensor(29) 833\n",
      "181 tensor(27627) 13\n",
      "182 tensor(8) 5483\n",
      "183 tensor(833) 270\n",
      "184 tensor(13) 858\n",
      "185 tensor(5483) 6\n",
      "186 tensor(270) 16\n",
      "187 tensor(858) 8\n",
      "188 tensor(6) 605\n",
      "189 tensor(16) 24\n",
      "190 tensor(8) 893\n",
      "191 tensor(605) 1088\n",
      "192 tensor(24) 1522\n",
      "193 tensor(893) 43\n",
      "194 tensor(1088) 19972\n",
      "195 tensor(1522) 136\n",
      "196 tensor(43) 11602\n",
      "197 tensor(19972) 251\n",
      "198 tensor(136) 12\n",
      "199 tensor(11602) 8\n",
      "200 tensor(251) 119\n",
      "201 tensor(12) 1088\n",
      "202 tensor(8) 1884\n",
      "203 tensor(119) 12\n",
      "204 tensor(1088) 833\n",
      "205 tensor(1884) 13\n",
      "206 tensor(12) 5483\n",
      "207 tensor(833) 270\n",
      "208 tensor(13) 858\n",
      "209 tensor(5483) 5\n",
      "210 tensor(270) 3\n",
      "211 tensor(858) 14912\n",
      "212 tensor(5) 242\n",
      "213 tensor(3) 8\n",
      "214 tensor(14912) 1730\n",
      "215 tensor(242) 13\n",
      "216 tensor(8) 48\n",
      "217 tensor(1730) 2791\n",
      "218 tensor(13) 8\n",
      "219 tensor(48) 1088\n",
      "220 tensor(2791) 84\n",
      "221 tensor(8) 14765\n",
      "222 tensor(1088) 7\n",
      "223 tensor(84) 11602\n",
      "224 tensor(14765) 251\n",
      "225 tensor(7) 1522\n",
      "226 tensor(11602) 36\n",
      "227 tensor(251) 3\n",
      "228 tensor(1522) 4822\n",
      "229 tensor(36) 12\n",
      "230 tensor(3) 38\n",
      "231 tensor(4822) 105\n",
      "232 tensor(12) 532\n",
      "233 tensor(38) 5025\n",
      "234 tensor(105) 2298\n",
      "235 tensor(532) 53\n",
      "236 tensor(5025) 1088\n",
      "237 tensor(2298) 153\n",
      "238 tensor(53) 11\n",
      "239 tensor(1088) 8\n",
      "240 tensor(153) 1088\n",
      "241 tensor(11) 84\n",
      "242 tensor(8) 911\n",
      "243 tensor(1088) 7\n",
      "244 tensor(84) 8\n",
      "245 tensor(911) 11602\n",
      "246 tensor(7) 251\n",
      "247 tensor(8) 1522\n",
      "248 tensor(11602) 36\n",
      "249 tensor(251) 3\n",
      "250 tensor(1522) 4822\n",
      "251 tensor(36) 12\n",
      "252 tensor(3) 38\n",
      "253 tensor(4822) 105\n",
      "254 tensor(12) 532\n",
      "255 tensor(38) 4281\n",
      "256 tensor(105) 1088\n",
      "257 tensor(532) 1141\n",
      "258 tensor(4281) 1682\n",
      "259 tensor(1088) 1642\n",
      "260 tensor(1141) 257\n",
      "261 tensor(1682) 3\n",
      "262 tensor(1642) 14489\n",
      "263 tensor(257) 2784\n",
      "264 tensor(3) 6\n",
      "265 tensor(14489) 2691\n",
      "266 tensor(2784) 6\n",
      "267 tensor(6) 889\n",
      "268 tensor(2691) 6\n",
      "269 tensor(6) 4820\n",
      "270 tensor(889) 11\n",
      "271 tensor(6) 119\n",
      "272 tensor(4820) 1397\n",
      "273 tensor(11) 12\n",
      "274 tensor(119) 36\n",
      "275 tensor(1397) 2697\n",
      "276 tensor(12) 2829\n",
      "277 tensor(36) 41\n",
      "278 tensor(2697) 760\n",
      "279 tensor(2829) 2455\n",
      "280 tensor(41) 10245\n",
      "281 tensor(760) 10\n",
      "282 tensor(2455) 96\n",
      "283 tensor(10245) 9707\n",
      "284 tensor(10) 23\n",
      "285 tensor(96) 26\n",
      "286 tensor(9707) 7220\n",
      "287 tensor(23) 251\n",
      "288 tensor(26) 8512\n",
      "289 tensor(7220) 1522\n",
      "290 tensor(251) 36\n",
      "291 tensor(8512) 9943\n",
      "292 tensor(1522) 38\n",
      "293 tensor(36) 224\n",
      "294 tensor(9943) 16\n",
      "295 tensor(38) 913\n",
      "296 tensor(224) 57\n",
      "297 tensor(16) 8\n",
      "298 tensor(913) 5025\n",
      "299 tensor(57) 2298\n",
      "300 tensor(8) 53\n",
      "301 tensor(5025) 1088\n",
      "302 tensor(2298) 5\n",
      "303 tensor(53) 22812\n",
      "304 tensor(1088) 21767\n",
      "305 tensor(5) 1522\n",
      "306 tensor(22812) 36\n",
      "307 tensor(21767) 16\n",
      "308 tensor(1522) 8\n",
      "309 tensor(36) 607\n",
      "310 tensor(16) 13\n",
      "311 tensor(8) 46\n",
      "312 tensor(607) 73\n",
      "313 tensor(13) 51\n",
      "314 tensor(46) 343\n",
      "315 tensor(73) 1639\n",
      "316 tensor(51) 179\n",
      "317 tensor(343) 30729\n",
      "318 tensor(1639) 224\n",
      "319 tensor(179) 38\n",
      "320 tensor(30729) 2829\n",
      "321 tensor(224) 6\n",
      "322 tensor(38) 11602\n",
      "323 tensor(2829) 6\n",
      "324 tensor(6) 21\n",
      "325 tensor(11602) 12103\n",
      "326 tensor(6) 3224\n",
      "327 tensor(21) 592\n",
      "328 tensor(12103) 163\n",
      "329 tensor(3224) 6\n",
      "330 tensor(592) 672\n",
      "331 tensor(163) 5\n",
      "332 tensor(6) 955\n",
      "333 tensor(672) 1427\n",
      "334 tensor(5) 787\n",
      "335 tensor(955) 251\n",
      "336 tensor(1427) 174\n",
      "337 tensor(787) 163\n",
      "338 tensor(251) 36\n",
      "339 tensor(174) 2697\n",
      "340 tensor(163) 2829\n",
      "341 tensor(36) 3\n",
      "342 tensor(2697) 99\n",
      "343 tensor(2829) 9943\n",
      "344 tensor(3) 38\n",
      "345 tensor(99) 11602\n",
      "346 tensor(9943) 251\n",
      "347 tensor(38) 44\n",
      "348 tensor(11602) 8\n",
      "349 tensor(251) 97\n",
      "350 tensor(44) 13\n",
      "351 tensor(8) 165\n",
      "352 tensor(97) 12508\n",
      "353 tensor(13) 11\n",
      "354 tensor(165) 8794\n",
      "355 tensor(12508) 16\n",
      "356 tensor(11) 811\n",
      "357 tensor(8794) 441\n",
      "358 tensor(16) 968\n",
      "359 tensor(811) 41\n",
      "360 tensor(441) 12521\n",
      "361 tensor(968) 6808\n",
      "362 tensor(41) 61\n",
      "363 tensor(12521) 477\n",
      "364 tensor(6808) 12\n",
      "365 tensor(61) 8\n",
      "366 tensor(477) 4281\n",
      "367 tensor(12) 1088\n",
      "368 tensor(8) 16\n",
      "369 tensor(4281) 4505\n",
      "370 tensor(1088) 1635\n",
      "371 tensor(16) 3375\n",
      "372 tensor(4505) 1545\n",
      "373 tensor(1635) 607\n",
      "374 tensor(3375) 7027\n",
      "375 tensor(1545) 38\n",
      "376 tensor(607) 11602\n",
      "377 tensor(7027) 5\n",
      "378 tensor(38) 1877\n",
      "379 tensor(11602) 11847\n",
      "380 tensor(5) 4215\n",
      "381 tensor(1877) 23\n",
      "382 tensor(11847) 10355\n",
      "383 tensor(4215) 4249\n",
      "384 tensor(23) 2825\n",
      "385 tensor(10355) 257\n",
      "386 tensor(4249) 3\n",
      "387 tensor(2825) 18495\n",
      "388 tensor(257) 432\n",
      "389 tensor(3) 11602\n",
      "390 tensor(18495) 251\n",
      "391 tensor(432) 263\n",
      "392 tensor(11602) 347\n",
      "393 tensor(251) 57\n",
      "394 tensor(263) 80\n",
      "395 tensor(347) 1088\n",
      "396 tensor(57) 12\n",
      "397 tensor(80) 8\n",
      "398 tensor(1088) 119\n",
      "399 tensor(12) 1522\n",
      "400 tensor(8) 36\n",
      "401 tensor(119) 2697\n",
      "402 tensor(1522) 2829\n",
      "403 tensor(36) 45\n",
      "404 tensor(2697) 1025\n",
      "405 tensor(2829) 2251\n",
      "406 tensor(45) 5\n",
      "407 tensor(1025) 3\n",
      "408 tensor(2251) 19162\n",
      "409 tensor(5) 465\n",
      "410 tensor(3) 11602\n",
      "411 tensor(19162) 251\n",
      "412 tensor(465) 1204\n",
      "413 tensor(11602) 164\n",
      "414 tensor(251) 36\n",
      "415 tensor(1204) 8794\n",
      "416 tensor(164) 12\n",
      "417 tensor(36) 3\n",
      "418 tensor(8794) 9\n",
      "419 tensor(12) 1025\n",
      "420 tensor(3) 1088\n",
      "421 tensor(9) 406\n",
      "422 tensor(1025) 8\n",
      "423 tensor(1088) 1884\n",
      "424 tensor(406) 1545\n",
      "425 tensor(8) 6059\n",
      "426 tensor(1884) 13\n",
      "427 tensor(1545) 8\n",
      "428 tensor(6059) 119\n",
      "429 tensor(13) 1088\n",
      "430 tensor(8) 270\n",
      "431 tensor(119) 235\n",
      "432 tensor(1088) 5\n",
      "433 tensor(270) 3\n",
      "434 tensor(235) 19660\n",
      "435 tensor(5) 13594\n",
      "436 tensor(3) 48\n",
      "437 tensor(19660) 6\n",
      "438 tensor(13594) 284\n",
      "439 tensor(48) 1088\n",
      "440 tensor(6) 92\n",
      "441 tensor(284) 15277\n",
      "442 tensor(1088) 7\n",
      "443 tensor(92) 38\n",
      "444 tensor(15277) 6963\n",
      "445 tensor(7) 10\n",
      "446 tensor(38) 1877\n",
      "447 tensor(6963) 18495\n",
      "448 tensor(10) 59\n",
      "449 tensor(1877) 12\n",
      "450 tensor(18495) 169\n",
      "451 tensor(59) 8\n",
      "452 tensor(12) 11602\n",
      "453 tensor(169) 251\n",
      "454 tensor(8) 13\n",
      "455 tensor(11602) 8\n",
      "456 tensor(251) 119\n",
      "457 tensor(13) 1088\n",
      "458 tensor(8) 21\n",
      "459 tensor(119) 136\n",
      "460 tensor(1088) 3659\n",
      "461 tensor(21) 119\n",
      "462 tensor(136) 145\n",
      "463 tensor(3659) 8\n",
      "464 tensor(119) 1730\n",
      "465 tensor(145) 14017\n",
      "466 tensor(8) 15\n",
      "467 tensor(1730) 26\n",
      "468 tensor(14017) 57\n",
      "469 tensor(15) 48\n",
      "470 tensor(26) 2791\n",
      "471 tensor(57) 117\n",
      "472 tensor(48) 1877\n",
      "473 tensor(2791) 19162\n",
      "474 tensor(117) 59\n",
      "475 tensor(1877) 12\n",
      "476 tensor(19162) 11435\n",
      "477 tensor(59) 42\n",
      "478 tensor(12) 29814\n",
      "479 tensor(11435) 6\n",
      "480 tensor(42) 1137\n",
      "481 tensor(29814) 717\n",
      "482 tensor(6) 12\n",
      "483 tensor(1137) 29814\n",
      "484 tensor(717) 42\n",
      "485 tensor(12) 169\n",
      "486 tensor(29814) 21\n",
      "487 tensor(42) 136\n",
      "488 tensor(169) 3659\n",
      "489 tensor(21) 119\n",
      "490 tensor(136) 145\n",
      "491 tensor(3659) 8\n",
      "492 tensor(119) 1730\n",
      "493 tensor(145) 14017\n",
      "494 tensor(8) 15\n",
      "495 tensor(1730) 26\n",
      "496 tensor(14017) 57\n",
      "497 tensor(15) 48\n",
      "498 tensor(26) 2791\n",
      "499 tensor(57) 6\n",
      "500 tensor(48) 136\n",
      "501 tensor(2791) 3735\n",
      "502 tensor(6) 263\n",
      "503 tensor(136) 347\n",
      "504 tensor(3735) 12\n",
      "505 tensor(263) 34\n",
      "506 tensor(347) 57\n",
      "507 tensor(12) 8\n",
      "508 tensor(34) 1\n",
      "509 tensor(57) 1\n",
      "510 tensor(8) 0\n",
      "511 tensor(1) 0\n"
     ]
    }
   ],
   "source": [
    "for i, (a, b) in enumerate(zip(i1, i2)):\n",
    "    if a != b:\n",
    "        print(i, a, b)"
   ]
  },
  {
   "cell_type": "code",
   "execution_count": 341,
   "metadata": {},
   "outputs": [
    {
     "name": "stdout",
     "output_type": "stream",
     "text": [
      "[512, 512, 512]\n",
      "[2029, 2626, 2293]\n"
     ]
    },
    {
     "data": {
      "text/plain": [
       "[512, 509, 512]"
      ]
     },
     "execution_count": 341,
     "metadata": {},
     "output_type": "execute_result"
    }
   ],
   "source": [
    "[len(i) for i in reencode(self, input_ids, True)]"
   ]
  },
  {
   "cell_type": "code",
   "execution_count": null,
   "metadata": {},
   "outputs": [],
   "source": []
  },
  {
   "cell_type": "code",
   "execution_count": 338,
   "metadata": {},
   "outputs": [],
   "source": [
    "# tokenizer.special_tokens_map_extended\n",
    "# tokenizer.pad_token_id"
   ]
  },
  {
   "cell_type": "code",
   "execution_count": 328,
   "metadata": {},
   "outputs": [
    {
     "data": {
      "text/plain": [
       "(False, False, True)"
      ]
     },
     "execution_count": 328,
     "metadata": {},
     "output_type": "execute_result"
    }
   ],
   "source": [
    "tokenizer.unk_token_id in input_ids[1], tokenizer.pad_token_id in input_ids[1], tokenizer.eos_token_id in input_ids[1]"
   ]
  },
  {
   "cell_type": "code",
   "execution_count": 309,
   "metadata": {},
   "outputs": [
    {
     "data": {
      "text/plain": [
       "tensor([31665,    53,  3450,  1522,    59, 14765,     8,   685,    24,  7139])"
      ]
     },
     "execution_count": 309,
     "metadata": {},
     "output_type": "execute_result"
    }
   ],
   "source": [
    "input_ids[1][:10]"
   ]
  },
  {
   "cell_type": "code",
   "execution_count": 296,
   "metadata": {},
   "outputs": [
    {
     "data": {
      "text/plain": [
       "(torch.Size([1, 512]), 511)"
      ]
     },
     "execution_count": 296,
     "metadata": {},
     "output_type": "execute_result"
    }
   ],
   "source": [
    "input_ids[:1].shape, len(reencode(self, input_ids)[2])"
   ]
  },
  {
   "cell_type": "code",
   "execution_count": null,
   "metadata": {},
   "outputs": [],
   "source": [
    "sequence_len = input_ids.shape[1]\n",
    "input_seg_size = self.input_size - self.num_mem_tokens - self.tokenizer.num_special_tokens_to_add\n",
    "if self.input_seg_size is not None and self.input_seg_size < input_seg_size:\n",
    "    input_seg_size = self.input_seg_size\n",
    "\n",
    "n_segments = math.ceil(sequence_len / input_seg_size)\n",
    "\n",
    "augmented_inputs = []\n",
    "for input in input_ids:\n",
    "    input = input[input != self.pad_token_id][1:-1]\n",
    "\n",
    "    if self.padding_side == 'left':\n",
    "        seg_sep_inds = [0] + list(range(len(input), 0, -input_seg_size))[::-1] # chunk so that first segment has various size\n",
    "    else:\n",
    "        seg_sep_inds = list(range(0, len(input), input_seg_size)) + [len(input)]\n",
    "    input_segments = [input[s:e] for s, e in zip(seg_sep_inds, seg_sep_inds[1:])]\n",
    "\n",
    "    def pad_add_special_tokens(tensor, seg_size):\n",
    "        tensor = torch.cat([\n",
    "                            self.mem_token_ids.to(device=self.device),\n",
    "                            tensor.to(device=self.device),\n",
    "                            self.eos_token.to(device=self.device)\n",
    "                            ])\n",
    "        pad_size = seg_size - tensor.shape[0]\n",
    "        if pad_size > 0:\n",
    "            tensor = F.pad(tensor, (0, pad_size))\n",
    "        return tensor\n",
    "\n",
    "    input_segments = [pad_add_special_tokens(t, self.input_size) for t in input_segments]\n",
    "    empty = torch.Tensor([]).int()\n",
    "    self.empty = pad_add_special_tokens(empty, self.input_size)\n",
    "    empty_segments = [self.empty for i in range(n_segments - len(input_segments))]\n",
    "    input_segments = empty_segments + input_segments\n",
    "\n",
    "    augmented_input = torch.cat(input_segments)\n",
    "    augmented_inputs.append(augmented_input)\n",
    "\n",
    "augmented_inputs = torch.stack(augmented_inputs)\n",
    "attention_mask = torch.ones_like(augmented_inputs)\n",
    "attention_mask[augmented_inputs == self.pad_token_id] = 0\n",
    "\n",
    "token_type_ids = torch.zeros_like(attention_mask)\n",
    "\n",
    "input_segments = torch.chunk(augmented_inputs, n_segments, dim=1)\n",
    "attention_mask = torch.chunk(attention_mask, n_segments, dim=1)\n",
    "token_type_ids = torch.chunk(token_type_ids, n_segments, dim=1)"
   ]
  },
  {
   "cell_type": "code",
   "execution_count": 235,
   "metadata": {},
   "outputs": [],
   "source": [
    "# sequence_len = input_ids.shape[1]\n",
    "# input_seg_size = self.input_size - self.num_mem_tokens - self.tokenizer.num_special_tokens_to_add\n",
    "# if self.input_seg_size is not None and self.input_seg_size < input_seg_size:\n",
    "#     input_seg_size = self.input_seg_size\n",
    "\n",
    "# n_segments = math.ceil(sequence_len / input_seg_size)\n",
    "\n",
    "# augmented_inputs = []\n",
    "# for input in input_ids:\n",
    "#     input = input[input != self.pad_token_id][1:-1]\n",
    "\n",
    "#     if self.padding_side == 'left':\n",
    "#         seg_sep_inds = [0] + list(range(len(input), 0, -input_seg_size))[::-1] # chunk so that first segment has various size\n",
    "#     else:\n",
    "#         seg_sep_inds = list(range(0, len(input), input_seg_size)) + [len(input)]\n",
    "#     input_segments = [input[s:e] for s, e in zip(seg_sep_inds, seg_sep_inds[1:])]\n",
    "\n",
    "#     def pad_add_special_tokens(tensor, seg_size):\n",
    "#         tensor = torch.cat([\n",
    "#                             self.mem_token_ids.to(device=self.device),\n",
    "#                             tensor.to(device=self.device),\n",
    "#                             self.eos_token.to(device=self.device)\n",
    "#                             ])\n",
    "#         pad_size = seg_size - tensor.shape[0]\n",
    "#         if pad_size > 0:\n",
    "#             tensor = F.pad(tensor, (0, pad_size))\n",
    "#         return tensor\n",
    "\n",
    "#     input_segments = [pad_add_special_tokens(t, self.input_size) for t in input_segments]\n",
    "#     empty = torch.Tensor([]).int()\n",
    "#     self.empty = pad_add_special_tokens(empty, self.input_size)\n",
    "#     empty_segments = [self.empty for i in range(n_segments - len(input_segments))]\n",
    "#     input_segments = empty_segments + input_segments\n",
    "\n",
    "#     augmented_input = torch.cat(input_segments)\n",
    "#     augmented_inputs.append(augmented_input)\n",
    "\n",
    "# augmented_inputs = torch.stack(augmented_inputs)\n",
    "# attention_mask = torch.ones_like(augmented_inputs)\n",
    "# attention_mask[augmented_inputs == self.pad_token_id] = 0\n",
    "\n",
    "# token_type_ids = torch.zeros_like(attention_mask)\n",
    "\n",
    "# input_segments = torch.chunk(augmented_inputs, n_segments, dim=1)\n",
    "# attention_mask = torch.chunk(attention_mask, n_segments, dim=1)\n",
    "# token_type_ids = torch.chunk(token_type_ids, n_segments, dim=1)"
   ]
  },
  {
   "cell_type": "code",
   "execution_count": 236,
   "metadata": {},
   "outputs": [
    {
     "data": {
      "text/plain": [
       "[torch.Size([3, 512]), torch.Size([3, 512])]"
      ]
     },
     "execution_count": 236,
     "metadata": {},
     "output_type": "execute_result"
    }
   ],
   "source": [
    "[i.shape for i in input_segments]"
   ]
  },
  {
   "cell_type": "code",
   "execution_count": 71,
   "metadata": {},
   "outputs": [
    {
     "data": {
      "text/plain": [
       "torch.Size([])"
      ]
     },
     "execution_count": 71,
     "metadata": {},
     "output_type": "execute_result"
    }
   ],
   "source": [
    "input_segments[0][0].shape"
   ]
  },
  {
   "cell_type": "markdown",
   "metadata": {},
   "source": [
    "# Archive\n"
   ]
  },
  {
   "cell_type": "markdown",
   "metadata": {},
   "source": [
    "## Override forward"
   ]
  },
  {
   "cell_type": "code",
   "execution_count": 24,
   "metadata": {},
   "outputs": [],
   "source": [
    "\n",
    "import types\n",
    "self = rmt\n",
    "\n",
    "memory_storage = {'num_mem_tokens': 10}\n",
    "self.base_model.encoder.forward = types.MethodType(lambda *args, **kwargs: _forward(*args, **kwargs, memory_storage=memory_storage), self.base_model.encoder)"
   ]
  },
  {
   "cell_type": "code",
   "execution_count": 26,
   "metadata": {},
   "outputs": [
    {
     "data": {
      "text/plain": [
       "{'input_ids': tensor([[  101,  4909,  2283,  ...,  1017,  1012,   102],\n",
       "         [  101,  2070, 14422,  ...,  2025,  3024,   102]]),\n",
       " 'token_type_ids': tensor([[0, 0, 0,  ..., 0, 0, 0],\n",
       "         [0, 0, 0,  ..., 0, 0, 0]]),\n",
       " 'attention_mask': tensor([[1, 1, 1,  ..., 1, 1, 1],\n",
       "         [1, 1, 1,  ..., 1, 1, 1]]),\n",
       " 'labels': tensor([1, 2])}"
      ]
     },
     "execution_count": 26,
     "metadata": {},
     "output_type": "execute_result"
    }
   ],
   "source": [
    "sample"
   ]
  },
  {
   "cell_type": "code",
   "execution_count": 27,
   "metadata": {},
   "outputs": [
    {
     "data": {
      "text/plain": [
       "{'pin_memory': True, 'num_workers': 0}"
      ]
     },
     "execution_count": 27,
     "metadata": {},
     "output_type": "execute_result"
    }
   ],
   "source": [
    "seg_kwargs"
   ]
  },
  {
   "cell_type": "code",
   "execution_count": 29,
   "metadata": {},
   "outputs": [],
   "source": [
    "kwargs = sample.copy()\n",
    "# kwargs"
   ]
  },
  {
   "cell_type": "code",
   "execution_count": 34,
   "metadata": {},
   "outputs": [
    {
     "name": "stdout",
     "output_type": "stream",
     "text": [
      "hidden states shape: (2, torch.Size([512, 256]))\n",
      " memory storage:dict_keys(['num_mem_tokens'])\n",
      "hidden states shape: (2, torch.Size([512, 256]))\n",
      " memory storage:dict_keys(['num_mem_tokens', 0])\n",
      "hidden states shape: (2, torch.Size([512, 256]))\n",
      " memory storage:dict_keys(['num_mem_tokens', 0, 1])\n",
      "hidden states shape: (2, torch.Size([512, 256]))\n",
      " memory storage:dict_keys(['num_mem_tokens', 0, 1, 2])\n",
      "hidden states shape: (2, torch.Size([512, 256]))\n",
      " memory storage:dict_keys(['num_mem_tokens', 0, 1, 2, 3])\n",
      "replacing ms[i] tensor([ 0.4910, -0.3252,  0.6379,  0.4366,  0.9436,  0.3721, -0.4503,  0.2484,\n",
      "        -5.6303,  0.0416], grad_fn=<SliceBackward>)... to tensor([ 0.5875, -0.4431,  0.4703,  0.1823,  0.2762, -0.0980, -0.7847, -0.3769,\n",
      "        -4.0026, -0.0786], grad_fn=<SliceBackward>)\n",
      "hidden states shape: (2, torch.Size([512, 256]))\n",
      " memory storage:dict_keys(['num_mem_tokens', 0, 1, 2, 3])\n",
      "replacing ms[i] tensor([ 0.4131, -0.2734,  0.5131,  0.4519,  0.8615, -0.4164, -0.4695,  0.1083,\n",
      "        -7.1332,  0.2477], grad_fn=<SliceBackward>)... to tensor([ 0.4684, -0.1915,  0.3924,  0.3985,  0.8635, -0.7359, -0.1106,  0.1712,\n",
      "        -8.9686,  0.3769], grad_fn=<SliceBackward>)\n",
      "hidden states shape: (2, torch.Size([512, 256]))\n",
      " memory storage:dict_keys(['num_mem_tokens', 0, 1, 2, 3])\n",
      "replacing ms[i] tensor([ 0.2953, -0.1400,  0.4266,  0.0419,  0.8344, -0.2630, -0.7411, -0.0187,\n",
      "        -3.9098, -0.2587], grad_fn=<SliceBackward>)... to tensor([-0.7230,  0.0042,  0.3788, -0.5297,  1.0977,  0.0802, -1.1541, -0.1407,\n",
      "        -2.3975, -0.3298], grad_fn=<SliceBackward>)\n",
      "hidden states shape: (2, torch.Size([512, 256]))\n",
      " memory storage:dict_keys(['num_mem_tokens', 0, 1, 2, 3])\n",
      "replacing ms[i] tensor([ 0.4336, -0.2249, -0.2261, -0.3031,  1.1261, -0.1303, -0.8440,  0.6503,\n",
      "        -3.5424,  0.2903], grad_fn=<SliceBackward>)... to tensor([ 0.4518, -0.6125,  0.3085, -0.5292,  1.3546, -0.4337, -0.9142,  0.5836,\n",
      "        -2.3023, -0.2561], grad_fn=<SliceBackward>)\n"
     ]
    }
   ],
   "source": [
    "kwargs = sample.copy()\n",
    "# kwargs\n",
    "input_ids = kwargs.pop('input_ids')\n",
    "\n",
    "memory = self.set_memory()\n",
    "segmented = self.pad_and_segment(input_ids)\n",
    "\n",
    "outputs = []\n",
    "for seg_num, segment_data in enumerate(zip(*segmented)):\n",
    "    input_ids, attention_mask, token_type_ids = segment_data\n",
    "    if memory.ndim == 2:\n",
    "        memory = memory.repeat(input_ids.shape[0], 1, 1)\n",
    "    if (self.bptt_depth > -1) and (len(segmented) - seg_num > self.bptt_depth): \n",
    "        memory = memory.detach()\n",
    "\n",
    "    seg_kwargs = dict(**kwargs)\n",
    "    if self.drop_empty_segments:\n",
    "\n",
    "        non_empty_mask = [not torch.equal(input_ids[i], self.empty) for i in range(len(input_ids))]\n",
    "        if sum(non_empty_mask) == 0:\n",
    "            continue\n",
    "        input_ids = input_ids[non_empty_mask]\n",
    "        attention_mask = attention_mask[non_empty_mask]\n",
    "        token_type_ids = token_type_ids[non_empty_mask]\n",
    "        seg_kwargs['labels'] = seg_kwargs['labels'][non_empty_mask]\n",
    "\n",
    "        inputs_embeds = self.base_model.embeddings.word_embeddings(input_ids)\n",
    "        inputs_embeds[:, 1:1+self.num_mem_tokens] = memory[non_empty_mask]\n",
    "    else:\n",
    "        inputs_embeds = self.base_model.embeddings.word_embeddings(input_ids)\n",
    "        inputs_embeds[:, 1:1+self.num_mem_tokens] = memory\n",
    "\n",
    "    seg_kwargs['inputs_embeds'] = inputs_embeds\n",
    "    seg_kwargs['attention_mask'] = attention_mask\n",
    "    seg_kwargs['token_type_ids'] = token_type_ids\n",
    "    \n",
    "    out = self.model.forward(**seg_kwargs, output_hidden_states=True)\n",
    "    outputs.append(out)\n",
    "\n",
    "    if self.drop_empty_segments:\n",
    "        memory[non_empty_mask] = out.hidden_states[-1][:, :self.num_mem_tokens]\n",
    "    else:\n",
    "        memory = out.hidden_states[-1][:, :self.num_mem_tokens]\n",
    "\n",
    "if self.sum_loss:\n",
    "    out['loss'] = torch.stack([o['loss'] for o in outputs]).sum(dim=-1)"
   ]
  },
  {
   "cell_type": "code",
   "execution_count": 25,
   "metadata": {},
   "outputs": [],
   "source": [
    "# out = self.model.forward(**seg_kwargs, output_hidden_states=True)\n",
    "# out"
   ]
  },
  {
   "cell_type": "code",
   "execution_count": null,
   "metadata": {},
   "outputs": [],
   "source": [
    "# out['hidden_states']"
   ]
  },
  {
   "cell_type": "code",
   "execution_count": null,
   "metadata": {},
   "outputs": [
    {
     "data": {
      "text/plain": [
       "odict_keys(['loss', 'logits', 'hidden_states'])"
      ]
     },
     "execution_count": 88,
     "metadata": {},
     "output_type": "execute_result"
    }
   ],
   "source": [
    "out = forward(self.model, **seg_kwargs, output_hidden_states=True, use_cache=True)\n",
    "out.keys()"
   ]
  },
  {
   "cell_type": "code",
   "execution_count": null,
   "metadata": {},
   "outputs": [],
   "source": []
  },
  {
   "cell_type": "code",
   "execution_count": null,
   "metadata": {},
   "outputs": [
    {
     "name": "stderr",
     "output_type": "stream",
     "text": [
      "PyTorch: setting up devices\n",
      "The default value for the training argument `--report_to` will change in v5 (from all installed integrations to none). In v5, you will need to use `--report_to all` to get the same behavior as now. You should start updating your code and make this info disappear :-).\n"
     ]
    }
   ],
   "source": [
    "from transformers import TrainingArguments\n",
    "\n",
    "training_args = TrainingArguments(output_dir=\"test_trainer\")"
   ]
  },
  {
   "cell_type": "code",
   "execution_count": null,
   "metadata": {},
   "outputs": [],
   "source": [
    "import numpy as np\n",
    "from datasets import load_metric\n",
    "\n",
    "metric = load_metric(\"accuracy\")\n",
    "\n",
    "def compute_metrics(eval_pred):\n",
    "    logits, labels = eval_pred\n",
    "    predictions = np.argmax(logits, axis=-1)\n",
    "    return metric.compute(predictions=predictions, references=labels)"
   ]
  },
  {
   "cell_type": "code",
   "execution_count": 73,
   "metadata": {},
   "outputs": [],
   "source": [
    "from transformers import TrainingArguments, Trainer\n",
    "\n",
    "training_args = TrainingArguments(per_device_train_batch_size=3, per_device_eval_batch_size=1, output_dir=\"test_trainer\", evaluation_strategy=\"epoch\", no_cuda=True, max_steps=5)"
   ]
  },
  {
   "cell_type": "code",
   "execution_count": 74,
   "metadata": {},
   "outputs": [],
   "source": [
    "# augmented_inputs = np.load('augmented_inputs.npy', allow_pickle=True)\n",
    "# attn_masks = np.load('attention_masks.npy', allow_pickle=True)\n",
    "# tokenizer.decode(augmented_inputs[0][512:])"
   ]
  },
  {
   "cell_type": "code",
   "execution_count": 58,
   "metadata": {},
   "outputs": [],
   "source": [
    "# trainer = Trainer(\n",
    "#     model=rmt,\n",
    "#     # model=classic_bert,\n",
    "#     args=training_args,\n",
    "#     train_dataset=small_train_dataset,\n",
    "#     eval_dataset=small_eval_dataset,\n",
    "#     compute_metrics=compute_metrics,\n",
    "# )\n",
    "# trainer.train()"
   ]
  },
  {
   "cell_type": "code",
   "execution_count": null,
   "metadata": {},
   "outputs": [],
   "source": [
    "sampler = SequentialSampler(small_train_dataset)\n",
    "dl = DataLoader(small_train_dataset, sampler=sampler, \n",
    "                h_size=4)\n",
    "gen = dl.__iter__()\n",
    "s = next(gen)"
   ]
  }
 ],
 "metadata": {
  "interpreter": {
   "hash": "15ebdd31b1273fe4d2b1fe1822219a570cf61693f7cab545dbe286c10cf9691f"
  },
  "kernelspec": {
   "display_name": "Python 3 (ipykernel)",
   "language": "python",
   "name": "python3"
  },
  "language_info": {
   "codemirror_mode": {
    "name": "ipython",
    "version": 3
   },
   "file_extension": ".py",
   "mimetype": "text/x-python",
   "name": "python",
   "nbconvert_exporter": "python",
   "pygments_lexer": "ipython3",
   "version": "3.8.10"
  }
 },
 "nbformat": 4,
 "nbformat_minor": 4
}
