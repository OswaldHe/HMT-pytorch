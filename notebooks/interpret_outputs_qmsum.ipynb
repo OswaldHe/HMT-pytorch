{
 "cells": [
  {
   "cell_type": "code",
   "execution_count": 1,
   "metadata": {},
   "outputs": [],
   "source": [
    "import numpy as np\n",
    "import torch\n",
    "import torch.nn.functional as F\n",
    "from typing import List, Optional, Tuple, Union\n",
    "from transformers import PreTrainedModel, AutoModelForSequenceClassification, AutoConfig, T5ForConditionalGeneration\n",
    "from transformers import AutoTokenizer\n",
    "from sklearn.metrics import confusion_matrix\n",
    "\n",
    "import math\n",
    "import os\n",
    "import json\n",
    "import datasets\n",
    "from matplotlib import pyplot as plt\n",
    "from typing import List, Optional, Tuple, Union\n",
    "from transformers import BertForSequenceClassification\n",
    "import transformers\n",
    "from transformers.modeling_outputs import SequenceClassifierOutput"
   ]
  },
  {
   "cell_type": "code",
   "execution_count": 2,
   "metadata": {},
   "outputs": [],
   "source": [
    "from transformers import AutoModelForSequenceClassification\n",
    "from torch.utils.data import DataLoader, Dataset, RandomSampler, SequentialSampler\n",
    "import sys\n",
    "sys.path.append('..')\n",
    "from modeling_rmt import RMTEncoderForSequenceClassification\n",
    "from modeling_rmt_enc_dec import RMTEncoderDecoderForConditionalGeneration"
   ]
  },
  {
   "cell_type": "markdown",
   "metadata": {},
   "source": [
    "## RMT"
   ]
  },
  {
   "cell_type": "code",
   "execution_count": 3,
   "metadata": {},
   "outputs": [],
   "source": [
    "# set_params_kwargs['backbone_cls'] = transformers.T5ForConditionalGeneration\n",
    "# set_params_kwargs['backbone_cls']"
   ]
  },
  {
   "cell_type": "code",
   "execution_count": 4,
   "metadata": {},
   "outputs": [
    {
     "name": "stderr",
     "output_type": "stream",
     "text": [
      "/cephfs/home/bulatov/bulatov/hvdenv/lib/python3.8/site-packages/cryptography/hazmat/backends/openssl/x509.py:14: CryptographyDeprecationWarning: This version of cryptography contains a temporary pyOpenSSL fallback path. Upgrade pyOpenSSL now.\n",
      "  warnings.warn(\n"
     ]
    },
    {
     "data": {
      "text/plain": [
       "<All keys matched successfully>"
      ]
     },
     "execution_count": 4,
     "metadata": {},
     "output_type": "execute_result"
    }
   ],
   "source": [
    "model_name = 't5-base'\n",
    "\n",
    "\n",
    "experiment_path = \"/home/bulatov/bulatov/runs/finetune/debug/qmsum/t5-base/lr2e-04_linear_adamw_wd1e-03_501-1024_mem0_bs8_iters3200_sl_regular/run_2\"\n",
    "\n",
    "cpt_path = os.path.join(experiment_path, \"model_best.pth\")\n",
    "config_path = os.path.join(experiment_path, \"config.json\")\n",
    "cpt = torch.load(cpt_path, map_location='cpu')\n",
    "\n",
    "with open(config_path, 'r') as f:\n",
    "    d = json.load(f)\n",
    "\n",
    "base_model = transformers.T5ForConditionalGeneration.from_pretrained('t5-base')\n",
    "rmt = RMTEncoderDecoderForConditionalGeneration(base_model=base_model)\n",
    "tokenizer = AutoTokenizer.from_pretrained(model_name)\n",
    "\n",
    "set_params_kwargs = {k:v for k,v in d.items() if k in rmt.set_params.__code__.co_varnames}\n",
    "set_params_kwargs['backbone_cls'] = None#transformers.T5ForConditionalGeneration\n",
    "set_params_kwargs['segment_ordering'] = 'regular'\n",
    "set_params_kwargs['inter_layer_memory'] = False\n",
    "set_params_kwargs['tokenizer'] = tokenizer        \n",
    "\n",
    "rmt.set_params(**set_params_kwargs)\n",
    "rmt.load_state_dict(cpt['model_state_dict'])"
   ]
  },
  {
   "cell_type": "markdown",
   "metadata": {},
   "source": [
    "### Baseline"
   ]
  },
  {
   "cell_type": "code",
   "execution_count": 5,
   "metadata": {},
   "outputs": [],
   "source": [
    "# model_name = 't5-base'\n",
    "\n",
    "# experiment_path = \"/home/bulatov/bulatov/runs/finetune/debug/qmsum/t5-base/lr2e-04_linear_adamw_wd1e-03_512-1024_bs8_iters3200_bl/run_1/\"\n",
    "# cpt_path = os.path.join(experiment_path, \"model_best.pth\")\n",
    "# config_path = os.path.join(experiment_path, \"config.json\")\n",
    "# cpt = torch.load(cpt_path, map_location='cpu')\n",
    "\n",
    "# with open(config_path, 'r') as f:\n",
    "#     d = json.load(f)\n",
    "\n",
    "# baseline = T5ForConditionalGeneration.from_pretrained(model_name, num_labels=3)\n",
    "# tokenizer = AutoTokenizer.from_pretrained(model_name)\n",
    "\n",
    "# baseline.load_state_dict(cpt['model_state_dict'])"
   ]
  },
  {
   "cell_type": "code",
   "execution_count": 6,
   "metadata": {},
   "outputs": [],
   "source": [
    "class Holder:\n",
    "    def __init__(self):\n",
    "        pass"
   ]
  },
  {
   "cell_type": "code",
   "execution_count": 7,
   "metadata": {},
   "outputs": [],
   "source": [
    "input_seq_len = d['input_seq_len']\n",
    "target_seq_len = 1024\n",
    "batch_size = 2\n",
    "\n",
    "args = Holder\n",
    "args.target_seq_len = target_seq_len\n",
    "args.input_seq_len = input_seq_len\n",
    "args.input_prefix = ''\n",
    "\n",
    "\n",
    "device = torch.device(2)\n",
    "\n",
    "global_attention_first_token = False  # should be True for LED\n",
    "encode_plus_kwargs = {'truncation': True, 'padding': 'longest', 'pad_to_multiple_of': 1}\n",
    "# generate_kwargs = {'max_length': args.target_seq_len, 'min_length': args.target_seq_len}\n",
    "generate_kwargs = {}\n",
    "\n",
    "def collate_fn(batch):\n",
    "    # cut too long strings because they may slow down tokenization\n",
    "    inputs = [b['input'][:args.input_seq_len * 10] for b in batch]\n",
    "    if 'outputs' in batch[0]:\n",
    "        # if we have more than 1 label per example (only in valid) take only one of them\n",
    "        # to compute loss on valid\n",
    "        labels = [b['outputs'][0][:args.target_seq_len * 10] for b in batch]\n",
    "    else:\n",
    "        labels = [b['output'][:args.target_seq_len * 10] for b in batch]\n",
    "    if args.input_prefix:\n",
    "        inputs = [args.input_prefix + inp for inp in inputs]\n",
    "    features = tokenizer.batch_encode_plus(list(inputs), max_length=args.input_seq_len, return_tensors='pt',\n",
    "                                           **encode_plus_kwargs)\n",
    "    with tokenizer.as_target_tokenizer():\n",
    "        labels = tokenizer.batch_encode_plus(list(labels), max_length=args.target_seq_len, return_tensors='pt',\n",
    "                                             **encode_plus_kwargs).input_ids\n",
    "    labels[labels == tokenizer.pad_token_id] = -100\n",
    "    features['labels'] = labels\n",
    "    features['id'] = [b['id'] for b in batch]\n",
    "    if 'outputs' in batch[0]:\n",
    "        features['target_text'] = [b['outputs'] for b in batch]\n",
    "    else:\n",
    "        features['target_text'] = [b['output'] for b in batch]\n",
    "    if 'global_attention_mask' in features:\n",
    "        raise RuntimeError('What global attention mask for Longformer and LongformerEncoder-Decoder should be?')\n",
    "    return features"
   ]
  },
  {
   "cell_type": "code",
   "execution_count": 8,
   "metadata": {},
   "outputs": [
    {
     "name": "stderr",
     "output_type": "stream",
     "text": [
      "Reusing dataset scrolls (/home/bulatov/.cache/huggingface/datasets/tau___scrolls/qmsum/1.0.0/672021d5d8e1edff998a6ea7a5bff35fdfd0ae243e7cf6a8c88a57a04afb46ac)\n"
     ]
    },
    {
     "data": {
      "application/vnd.jupyter.widget-view+json": {
       "model_id": "819c5d637a144b60ae601d745eccda4d",
       "version_major": 2,
       "version_minor": 0
      },
      "text/plain": [
       "  0%|          | 0/3 [00:00<?, ?it/s]"
      ]
     },
     "metadata": {},
     "output_type": "display_data"
    }
   ],
   "source": [
    "task_name = 'qmsum'\n",
    "dataset = datasets.load_dataset('tau/scrolls', task_name)\n",
    "train_dataset = dataset['train']\n",
    "\n",
    "train_sampler = RandomSampler(train_dataset,)\n",
    "kwargs = {'pin_memory': True, 'num_workers': 0}\n",
    "train_dataloader = DataLoader(train_dataset, batch_size=batch_size, sampler=train_sampler,\n",
    "                                collate_fn=collate_fn, **kwargs)\n",
    "\n",
    "valid_dataset = dataset['validation']\n",
    "valid_sampler = RandomSampler(valid_dataset)\n",
    "valid_dataloader = DataLoader(valid_dataset, batch_size=batch_size, sampler=train_sampler,\n",
    "                                collate_fn=collate_fn, **kwargs)"
   ]
  },
  {
   "cell_type": "code",
   "execution_count": 9,
   "metadata": {},
   "outputs": [
    {
     "data": {
      "text/plain": [
       "(1257, 272)"
      ]
     },
     "execution_count": 9,
     "metadata": {},
     "output_type": "execute_result"
    }
   ],
   "source": [
    "len(train_dataset['pid']), len(valid_dataset['pid'])"
   ]
  },
  {
   "cell_type": "markdown",
   "metadata": {},
   "source": [
    "### predictions from all segments"
   ]
  },
  {
   "cell_type": "code",
   "execution_count": 10,
   "metadata": {},
   "outputs": [],
   "source": [
    "def generate(self, input_ids, return_all_outputs=False, **kwargs):\n",
    "    memory = self.set_memory()\n",
    "    mem_start_ind = 1 if self.bos_token is not None else 0\n",
    "    min_length, max_length = None, None\n",
    "    if 'min_length' in kwargs:\n",
    "        min_length = kwargs.pop('min_length')\n",
    "    if 'max_length' in kwargs:\n",
    "        max_length = kwargs.pop('max_length')\n",
    "\n",
    "    segmented = self.pad_and_segment(input_ids)\n",
    "    segmented = list(zip(*segmented))\n",
    "\n",
    "    if self.segment_ordering in {'regular', 'last_memory_only'}:\n",
    "        pass\n",
    "    elif self.segment_ordering == 'reversed':\n",
    "        segmented = segmented[::-1]\n",
    "    elif self.segment_ordering == 'bidirectional':\n",
    "        segmented = segmented + segmented[::-1][1:]\n",
    "    elif self.segment_ordering == 'repeat_first':\n",
    "        segmented = segmented + segmented[:1]\n",
    "    else:\n",
    "        raise ValueError(f'Unknown segment ordering: {self.segment_ordering}')\n",
    "\n",
    "    outputs = []\n",
    "    for seg_num, segment_data in enumerate(segmented):\n",
    "        input_ids, attention_mask, token_type_ids = segment_data\n",
    "        if memory.ndim == 2:\n",
    "            memory = memory.repeat(input_ids.shape[0], 1, 1)\n",
    "        if (self.bptt_depth > -1) and (len(segmented) - seg_num > self.bptt_depth): \n",
    "            memory = memory.detach()\n",
    "\n",
    "        seg_kwargs = dict(**kwargs)\n",
    "        if self.drop_empty_segments:\n",
    "            non_empty_mask = [not torch.equal(input_ids[i], self.empty) for i in range(len(input_ids))]\n",
    "            if sum(non_empty_mask) == 0:\n",
    "                continue\n",
    "            input_ids = input_ids[non_empty_mask]\n",
    "            attention_mask = attention_mask[non_empty_mask]\n",
    "            token_type_ids = token_type_ids[non_empty_mask]\n",
    "\n",
    "            inputs_embeds = self.embeddings(input_ids)\n",
    "            inputs_embeds[:, mem_start_ind:mem_start_ind+self.num_mem_tokens] = memory[non_empty_mask]\n",
    "\n",
    "        else:\n",
    "            inputs_embeds = self.embeddings(input_ids)\n",
    "            inputs_embeds[:, mem_start_ind:mem_start_ind+self.num_mem_tokens] = memory\n",
    "\n",
    "        seg_kwargs['inputs_embeds'] = inputs_embeds\n",
    "        seg_kwargs['attention_mask'] = attention_mask\n",
    "        if seg_num < len(segmented)-1:\n",
    "            labels = torch.zeros(inputs_embeds.shape[0], inputs_embeds.shape[1], device=inputs_embeds.device, dtype=input_ids.dtype)\n",
    "            gen_out = self.model.generate(**seg_kwargs, output_hidden_states=True, min_length=min_length, max_length=max_length)\n",
    "            outputs.append(gen_out)\n",
    "            out = self.model.forward(**seg_kwargs, output_hidden_states=True, labels=labels)\n",
    "            if self.drop_empty_segments:\n",
    "                memory[non_empty_mask] = out.encoder_hidden_states[-1][:, mem_start_ind:mem_start_ind+self.num_mem_tokens]\n",
    "            else:\n",
    "                memory = out.encoder_hidden_states[-1][:, mem_start_ind:mem_start_ind+self.num_mem_tokens]\n",
    "        else:\n",
    "            out = self.model.generate(**seg_kwargs, output_hidden_states=True, min_length=min_length, max_length=max_length)\n",
    "            outputs.append(out)\n",
    "\n",
    "    if return_all_outputs:\n",
    "        return out, outputs\n",
    "    \n",
    "    return out\n"
   ]
  },
  {
   "cell_type": "markdown",
   "metadata": {},
   "source": [
    "### get predictions"
   ]
  },
  {
   "cell_type": "code",
   "execution_count": 11,
   "metadata": {},
   "outputs": [],
   "source": [
    "import pandas as pd\n",
    "def evaluate(output, sample):\n",
    "    labels = sample['labels']\n",
    "    logits = o['logits']\n",
    "    preds = torch.argmax(logits, dim=1)\n",
    "    correct_mask = preds == labels[output['non_empty_mask']]\n",
    "    return correct_mask"
   ]
  },
  {
   "cell_type": "code",
   "execution_count": 12,
   "metadata": {},
   "outputs": [],
   "source": [
    "import shutil\n",
    "from huggingface_hub import hf_hub_download\n",
    "\n",
    "def download_metric():\n",
    "    scrolls_metric_path = hf_hub_download(repo_id=\"datasets/tau/scrolls\", filename=\"metrics/scrolls.py\")\n",
    "    updated_scrolls_metric_path = (\n",
    "        os.path.dirname(scrolls_metric_path) + os.path.basename(scrolls_metric_path).replace(\".\", \"_\") + \".py\"\n",
    "    )\n",
    "    shutil.copy(scrolls_metric_path, updated_scrolls_metric_path)\n",
    "    return updated_scrolls_metric_path\n",
    "\n",
    "\n",
    "scrolls_metric_path = download_metric()\n",
    "scrolls_metric = datasets.load_metric(scrolls_metric_path, task_name, keep_in_memory=True)\n",
    "\n",
    "def metrics_fn(labels, generation_outputs, verbose=True):\n",
    "    # compute metrics based on stored labels, predictions, ...\n",
    "        # replace -100 with pad token in labels\n",
    "    y = labels\n",
    "    p = tokenizer.batch_decode(generation_outputs, skip_special_tokens=True)\n",
    "    if verbose:\n",
    "        for i in range(len(y)):\n",
    "            print(f'y: {y[i]}')\n",
    "            print(f'p: {p[i]}')\n",
    "            # print(f'p ids: {generation_outputs[i]}')\n",
    "            print('-' * 50)\n",
    "        # todo: do we need to better clean P to remove tokens after eos? not remove special tokens only\n",
    "    if y is not None and p is not None:\n",
    "        if not isinstance(y[0], list):\n",
    "            y = [[_y] for _y in y]\n",
    "        result = scrolls_metric.compute(predictions=p, references=y)\n",
    "    return result"
   ]
  },
  {
   "cell_type": "code",
   "execution_count": 13,
   "metadata": {},
   "outputs": [
    {
     "data": {
      "text/plain": [
       "Dataset({\n",
       "    features: ['id', 'pid', 'input', 'output'],\n",
       "    num_rows: 1257\n",
       "})"
      ]
     },
     "execution_count": 13,
     "metadata": {},
     "output_type": "execute_result"
    }
   ],
   "source": [
    "train_dataset"
   ]
  },
  {
   "cell_type": "code",
   "execution_count": 14,
   "metadata": {},
   "outputs": [],
   "source": [
    "id2label_train = dict(zip(train_dataset['id'], train_dataset['output']))\n",
    "id2label_valid = dict(zip(valid_dataset['id'], valid_dataset['output']))\n",
    "\n",
    "id2text_train = dict(zip(train_dataset['id'], train_dataset['input']))\n",
    "id2text_valid = dict(zip(valid_dataset['id'], valid_dataset['input']))"
   ]
  },
  {
   "cell_type": "markdown",
   "metadata": {},
   "source": [
    "### baseline\n"
   ]
  },
  {
   "cell_type": "code",
   "execution_count": 15,
   "metadata": {},
   "outputs": [],
   "source": [
    "# %%time\n",
    "# it = 0\n",
    "# max_it =  3000\n",
    "\n",
    "# baseline.to(device=device)\n",
    "# sampler = RandomSampler(train_dataset)\n",
    "# dataloader = DataLoader(train_dataset, batch_size=batch_size, sampler=sampler,\n",
    "#                                 collate_fn=collate_fn, **kwargs)\n",
    "# # sampler = RandomSampler(valid_dataset)\n",
    "# # dataloader = DataLoader(valid_dataset, batch_size=batch_size, sampler=sampler,\n",
    "# #                                 collate_fn=collate_fn, **kwargs)\n",
    "\n",
    "\n",
    "# it = 0\n",
    "    \n",
    "# res_df = pd.DataFrame()\n",
    "# gen = iter(dataloader)\n",
    "# for sample in gen:\n",
    "#     ids, target_text, labels = sample.pop('id'), sample.pop('target_text'), sample.pop('labels')\n",
    "#     for key in sample:\n",
    "#         sample[key] = sample[key].to(device)\n",
    "    \n",
    "#     # out, outputs = generate(rmt, return_all_outputs=True, **sample)  \n",
    "#     out = baseline.generate(**sample)  \n",
    "\n",
    "#     res_dict = {'ids': ids}\n",
    "\n",
    "#     f1 = metrics_fn(target_text, generation_outputs=out, verbose=False)['f1']\n",
    "#     res_dict[f'f1_seg_{i}'] = f1\n",
    "\n",
    "#     preds = tokenizer.batch_decode(out, skip_special_tokens=True)\n",
    "#     res_dict['preds'] = preds\n",
    "#     res_dict['preds_tokens'] = str(out.cpu().numpy())\n",
    "\n",
    "#     res_dict['target_text'] = target_text\n",
    "#     res_dict['labels'] = str(labels.cpu().numpy())\n",
    "\n",
    "#     res_df = res_df.append(pd.DataFrame(res_dict), ignore_index=True)\n",
    "\n",
    "\n",
    "#     it += 1\n",
    "#     if it > max_it:\n",
    "#         break\n",
    "\n"
   ]
  },
  {
   "cell_type": "code",
   "execution_count": 16,
   "metadata": {},
   "outputs": [],
   "source": [
    "# res_df.to_csv('tables/qasper-valid-t5-base.csv', index=False)\n",
    "# res_df.to_csv('tables/qasper-train-t5-base.csv', index=False)\n"
   ]
  },
  {
   "cell_type": "markdown",
   "metadata": {},
   "source": [
    "#### rmt"
   ]
  },
  {
   "cell_type": "code",
   "execution_count": 17,
   "metadata": {},
   "outputs": [],
   "source": [
    "metric_name = 'rouge/geometric_mean'\n",
    "\n",
    "import os\n",
    "os.environ[\"TOKENIZERS_PARALLELISM\"] = \"false\"\n"
   ]
  },
  {
   "cell_type": "code",
   "execution_count": 18,
   "metadata": {},
   "outputs": [
    {
     "name": "stdout",
     "output_type": "stream",
     "text": [
      "1\n",
      "2\n",
      "3\n",
      "4\n",
      "5\n",
      "6\n",
      "7\n",
      "8\n",
      "9\n",
      "100\n",
      "200\n",
      "300\n",
      "400\n",
      "500\n",
      "600\n",
      "CPU times: user 5min 36s, sys: 43min 48s, total: 49min 24s\n",
      "Wall time: 55min 57s\n"
     ]
    }
   ],
   "source": [
    "%%time\n",
    "it = 0\n",
    "max_it =  2000\n",
    "\n",
    "rmt.to(device=device)\n",
    "rmt.drop_empty_segments = False\n",
    "sampler = RandomSampler(train_dataset)\n",
    "dataloader = DataLoader(train_dataset, batch_size=batch_size, sampler=sampler,\n",
    "                                collate_fn=collate_fn, **kwargs)\n",
    "# sampler = RandomSampler(valid_dataset)\n",
    "# dataloader = DataLoader(valid_dataset, batch_size=batch_size, sampler=sampler,\n",
    "#                                 collate_fn=collate_fn, **kwargs)\n",
    "\n",
    "\n",
    "it = 0\n",
    "    \n",
    "res_df = pd.DataFrame()\n",
    "gen = iter(dataloader)\n",
    "for sample in gen:\n",
    "    ids, target_text, labels = sample.pop('id'), sample.pop('target_text'), sample.pop('labels')\n",
    "    for key in sample:\n",
    "        sample[key] = sample[key].to(device)\n",
    "    \n",
    "    out, outputs = generate(rmt, return_all_outputs=True, **sample)  \n",
    "    # print(out.keys())\n",
    "\n",
    "    res_dict = {'ids': ids}\n",
    "    for i, o in enumerate(outputs):\n",
    "        # metric = metrics_fn(target_text, generation_outputs=o, verbose=False)[metric_name]\n",
    "        metrics = [metrics_fn([t], generation_outputs=[row], verbose=False)[metric_name] for t,row in zip(target_text, o)]\n",
    "        res_dict[f'{metric_name}_seg_{i}'] = metrics\n",
    "        \n",
    "        preds = tokenizer.batch_decode(o, skip_special_tokens=True)\n",
    "        res_dict[f'preds_seg_{i}'] = preds\n",
    "        res_dict[f'preds_seg_{i}_tokens'] = [row for row in o.cpu().numpy()]\n",
    "        \n",
    "    res_dict['target_text'] = target_text\n",
    "    res_dict['labels'] = [row for row in labels.cpu().numpy()]\n",
    "    # print(res_dict)\n",
    "\n",
    "    res_df = res_df.append(pd.DataFrame(res_dict), ignore_index=True)\n",
    "\n",
    "\n",
    "    it += 1\n",
    "    if (it % 100 == 0) or (it < 10): \n",
    "        print(it)\n",
    "    if it > max_it:\n",
    "        break\n",
    "\n"
   ]
  },
  {
   "cell_type": "code",
   "execution_count": 19,
   "metadata": {},
   "outputs": [
    {
     "data": {
      "text/plain": [
       "tensor([   0,  100,   19,    8, 4509,   11,  336, 1338,   30,    8,  516,    5,\n",
       "          86,   48, 1338,    6,    8,  563, 5172,    8], device='cuda:2')"
      ]
     },
     "execution_count": 19,
     "metadata": {},
     "output_type": "execute_result"
    }
   ],
   "source": [
    "out[0]"
   ]
  },
  {
   "cell_type": "code",
   "execution_count": 20,
   "metadata": {},
   "outputs": [
    {
     "data": {
      "text/html": [
       "<div>\n",
       "<style scoped>\n",
       "    .dataframe tbody tr th:only-of-type {\n",
       "        vertical-align: middle;\n",
       "    }\n",
       "\n",
       "    .dataframe tbody tr th {\n",
       "        vertical-align: top;\n",
       "    }\n",
       "\n",
       "    .dataframe thead th {\n",
       "        text-align: right;\n",
       "    }\n",
       "</style>\n",
       "<table border=\"1\" class=\"dataframe\">\n",
       "  <thead>\n",
       "    <tr style=\"text-align: right;\">\n",
       "      <th></th>\n",
       "      <th>ids</th>\n",
       "      <th>rouge/geometric_mean_seg_0</th>\n",
       "      <th>preds_seg_0</th>\n",
       "      <th>preds_seg_0_tokens</th>\n",
       "      <th>target_text</th>\n",
       "      <th>labels</th>\n",
       "    </tr>\n",
       "  </thead>\n",
       "  <tbody>\n",
       "    <tr>\n",
       "      <th>0</th>\n",
       "      <td>tr-sq-73</td>\n",
       "      <td>83.0052</td>\n",
       "      <td>Conferees agreed that the remote control could...</td>\n",
       "      <td>[0, 11847, 49, 15, 15, 7, 4686, 24, 8, 4322, 6...</td>\n",
       "      <td>Conferees agreed that the remote control could...</td>\n",
       "      <td>[11847, 49, 15, 15, 7, 4686, 24, 8, 4322, 610,...</td>\n",
       "    </tr>\n",
       "    <tr>\n",
       "      <th>1</th>\n",
       "      <td>tr-gq-731</td>\n",
       "      <td>8.3643</td>\n",
       "      <td>The group discussed the future directions of t...</td>\n",
       "      <td>[0, 37, 563, 5172, 8, 647, 7943, 13, 8, 516, 6...</td>\n",
       "      <td>An idea for future work was suggested during t...</td>\n",
       "      <td>[389, 800, 21, 647, 161, 47, 5259, 383, 8, 719...</td>\n",
       "    </tr>\n",
       "    <tr>\n",
       "      <th>2</th>\n",
       "      <td>tr-sq-648</td>\n",
       "      <td>53.7580</td>\n",
       "      <td>Grad D was working on filing his taxes. He exp...</td>\n",
       "      <td>[0, 10771, 309, 47, 464, 30, 9479, 112, 5161, ...</td>\n",
       "      <td>Grad D was focused on filing his taxes. He exp...</td>\n",
       "      <td>[10771, 309, 47, 2937, 30, 9479, 112, 5161, 5,...</td>\n",
       "    </tr>\n",
       "    <tr>\n",
       "      <th>3</th>\n",
       "      <td>tr-sq-341</td>\n",
       "      <td>11.4004</td>\n",
       "      <td>The group agreed that the remote control shoul...</td>\n",
       "      <td>[0, 37, 563, 4686, 24, 8, 4322, 610, 225, 36, ...</td>\n",
       "      <td>Project Manager suggested a can opener beneath...</td>\n",
       "      <td>[2786, 3440, 5259, 3, 9, 54, 19717, 12759, 8, ...</td>\n",
       "    </tr>\n",
       "    <tr>\n",
       "      <th>4</th>\n",
       "      <td>tr-sq-198</td>\n",
       "      <td>20.6617</td>\n",
       "      <td>The team members got acquainted with the use o...</td>\n",
       "      <td>[0, 37, 372, 724, 530, 29740, 28, 8, 169, 13, ...</td>\n",
       "      <td>The manager introduced a new technical device,...</td>\n",
       "      <td>[37, 2743, 3665, 3, 9, 126, 2268, 1407, 6, 8, ...</td>\n",
       "    </tr>\n",
       "    <tr>\n",
       "      <th>...</th>\n",
       "      <td>...</td>\n",
       "      <td>...</td>\n",
       "      <td>...</td>\n",
       "      <td>...</td>\n",
       "      <td>...</td>\n",
       "      <td>...</td>\n",
       "    </tr>\n",
       "    <tr>\n",
       "      <th>1252</th>\n",
       "      <td>tr-sq-591</td>\n",
       "      <td>54.3323</td>\n",
       "      <td>Industrial Designer thought that the vegetable...</td>\n",
       "      <td>[0, 9199, 11296, 816, 24, 8, 12065, 11, 2728, ...</td>\n",
       "      <td>Industrial Designer thought that the vegetable...</td>\n",
       "      <td>[9199, 11296, 816, 24, 8, 12065, 11, 2728, 380...</td>\n",
       "    </tr>\n",
       "    <tr>\n",
       "      <th>1253</th>\n",
       "      <td>tr-sq-499</td>\n",
       "      <td>20.3754</td>\n",
       "      <td>The voice recognition could have two advantage...</td>\n",
       "      <td>[0, 37, 2249, 5786, 228, 43, 192, 7648, 10, 34...</td>\n",
       "      <td>The voice recognition could deliver advantages...</td>\n",
       "      <td>[37, 2249, 5786, 228, 2156, 7648, 12, 1722, 10...</td>\n",
       "    </tr>\n",
       "    <tr>\n",
       "      <th>1254</th>\n",
       "      <td>tr-sq-1251</td>\n",
       "      <td>8.5119</td>\n",
       "      <td>The committee members discussed the various me...</td>\n",
       "      <td>[0, 37, 4492, 724, 5172, 8, 796, 3629, 12, 361...</td>\n",
       "      <td>The group mentioned that during the pandemic, ...</td>\n",
       "      <td>[37, 563, 2799, 24, 383, 8, 2131, 221, 3113, 6...</td>\n",
       "    </tr>\n",
       "    <tr>\n",
       "      <th>1255</th>\n",
       "      <td>tr-sq-253</td>\n",
       "      <td>16.4258</td>\n",
       "      <td>User Interface proposed to make a remote contr...</td>\n",
       "      <td>[0, 6674, 25064, 4382, 12, 143, 3, 9, 4322, 61...</td>\n",
       "      <td>The remote control should be made dependable a...</td>\n",
       "      <td>[37, 4322, 610, 225, 36, 263, 3, 23094, 11, 13...</td>\n",
       "    </tr>\n",
       "    <tr>\n",
       "      <th>1256</th>\n",
       "      <td>tr-gq-1059</td>\n",
       "      <td>6.7827</td>\n",
       "      <td>This is the fourth and last meeting on the pro...</td>\n",
       "      <td>[0, 100, 19, 8, 4509, 11, 336, 1338, 30, 8, 51...</td>\n",
       "      <td>The whole meeting was the final meeting of the...</td>\n",
       "      <td>[37, 829, 1338, 47, 8, 804, 1338, 13, 8, 516, ...</td>\n",
       "    </tr>\n",
       "  </tbody>\n",
       "</table>\n",
       "<p>1257 rows × 6 columns</p>\n",
       "</div>"
      ],
      "text/plain": [
       "             ids  rouge/geometric_mean_seg_0  \\\n",
       "0       tr-sq-73                     83.0052   \n",
       "1      tr-gq-731                      8.3643   \n",
       "2      tr-sq-648                     53.7580   \n",
       "3      tr-sq-341                     11.4004   \n",
       "4      tr-sq-198                     20.6617   \n",
       "...          ...                         ...   \n",
       "1252   tr-sq-591                     54.3323   \n",
       "1253   tr-sq-499                     20.3754   \n",
       "1254  tr-sq-1251                      8.5119   \n",
       "1255   tr-sq-253                     16.4258   \n",
       "1256  tr-gq-1059                      6.7827   \n",
       "\n",
       "                                            preds_seg_0  \\\n",
       "0     Conferees agreed that the remote control could...   \n",
       "1     The group discussed the future directions of t...   \n",
       "2     Grad D was working on filing his taxes. He exp...   \n",
       "3     The group agreed that the remote control shoul...   \n",
       "4     The team members got acquainted with the use o...   \n",
       "...                                                 ...   \n",
       "1252  Industrial Designer thought that the vegetable...   \n",
       "1253  The voice recognition could have two advantage...   \n",
       "1254  The committee members discussed the various me...   \n",
       "1255  User Interface proposed to make a remote contr...   \n",
       "1256  This is the fourth and last meeting on the pro...   \n",
       "\n",
       "                                     preds_seg_0_tokens  \\\n",
       "0     [0, 11847, 49, 15, 15, 7, 4686, 24, 8, 4322, 6...   \n",
       "1     [0, 37, 563, 5172, 8, 647, 7943, 13, 8, 516, 6...   \n",
       "2     [0, 10771, 309, 47, 464, 30, 9479, 112, 5161, ...   \n",
       "3     [0, 37, 563, 4686, 24, 8, 4322, 610, 225, 36, ...   \n",
       "4     [0, 37, 372, 724, 530, 29740, 28, 8, 169, 13, ...   \n",
       "...                                                 ...   \n",
       "1252  [0, 9199, 11296, 816, 24, 8, 12065, 11, 2728, ...   \n",
       "1253  [0, 37, 2249, 5786, 228, 43, 192, 7648, 10, 34...   \n",
       "1254  [0, 37, 4492, 724, 5172, 8, 796, 3629, 12, 361...   \n",
       "1255  [0, 6674, 25064, 4382, 12, 143, 3, 9, 4322, 61...   \n",
       "1256  [0, 100, 19, 8, 4509, 11, 336, 1338, 30, 8, 51...   \n",
       "\n",
       "                                            target_text  \\\n",
       "0     Conferees agreed that the remote control could...   \n",
       "1     An idea for future work was suggested during t...   \n",
       "2     Grad D was focused on filing his taxes. He exp...   \n",
       "3     Project Manager suggested a can opener beneath...   \n",
       "4     The manager introduced a new technical device,...   \n",
       "...                                                 ...   \n",
       "1252  Industrial Designer thought that the vegetable...   \n",
       "1253  The voice recognition could deliver advantages...   \n",
       "1254  The group mentioned that during the pandemic, ...   \n",
       "1255  The remote control should be made dependable a...   \n",
       "1256  The whole meeting was the final meeting of the...   \n",
       "\n",
       "                                                 labels  \n",
       "0     [11847, 49, 15, 15, 7, 4686, 24, 8, 4322, 610,...  \n",
       "1     [389, 800, 21, 647, 161, 47, 5259, 383, 8, 719...  \n",
       "2     [10771, 309, 47, 2937, 30, 9479, 112, 5161, 5,...  \n",
       "3     [2786, 3440, 5259, 3, 9, 54, 19717, 12759, 8, ...  \n",
       "4     [37, 2743, 3665, 3, 9, 126, 2268, 1407, 6, 8, ...  \n",
       "...                                                 ...  \n",
       "1252  [9199, 11296, 816, 24, 8, 12065, 11, 2728, 380...  \n",
       "1253  [37, 2249, 5786, 228, 2156, 7648, 12, 1722, 10...  \n",
       "1254  [37, 563, 2799, 24, 383, 8, 2131, 221, 3113, 6...  \n",
       "1255  [37, 4322, 610, 225, 36, 263, 3, 23094, 11, 13...  \n",
       "1256  [37, 829, 1338, 47, 8, 804, 1338, 13, 8, 516, ...  \n",
       "\n",
       "[1257 rows x 6 columns]"
      ]
     },
     "execution_count": 20,
     "metadata": {},
     "output_type": "execute_result"
    }
   ],
   "source": [
    "res_df"
   ]
  },
  {
   "cell_type": "code",
   "execution_count": 21,
   "metadata": {},
   "outputs": [],
   "source": [
    "res_df.to_csv('tables/qmsum-train-rm-t5-501-0.csv', index=False)\n",
    "# res_df.to_csv('tables/qmsum-valid-rm-t5-501-0.csv', index=False)"
   ]
  },
  {
   "cell_type": "code",
   "execution_count": 22,
   "metadata": {},
   "outputs": [
    {
     "name": "stdout",
     "output_type": "stream",
     "text": [
      "1\n",
      "2\n",
      "3\n",
      "4\n",
      "5\n",
      "6\n",
      "7\n",
      "8\n",
      "9\n",
      "10\n",
      "11\n",
      "12\n",
      "13\n",
      "14\n",
      "15\n",
      "16\n",
      "17\n",
      "18\n",
      "19\n",
      "CPU times: user 1min 10s, sys: 9min 22s, total: 10min 33s\n",
      "Wall time: 11min 57s\n"
     ]
    }
   ],
   "source": [
    "%%time\n",
    "it = 0\n",
    "max_it =  1000\n",
    "\n",
    "rmt.to(device=device)\n",
    "rmt.drop_empty_segments = False\n",
    "# sampler = RandomSampler(train_dataset)\n",
    "# dataloader = DataLoader(train_dataset, batch_size=batch_size, sampler=sampler,\n",
    "#                                 collate_fn=collate_fn, **kwargs)\n",
    "sampler = RandomSampler(valid_dataset)\n",
    "dataloader = DataLoader(valid_dataset, batch_size=batch_size, sampler=sampler,\n",
    "                                collate_fn=collate_fn, **kwargs)\n",
    "\n",
    "\n",
    "it = 0\n",
    "    \n",
    "res_df = pd.DataFrame()\n",
    "gen = iter(dataloader)\n",
    "for sample in gen:\n",
    "    ids, target_text, labels = sample.pop('id'), sample.pop('target_text'), sample.pop('labels')\n",
    "    for key in sample:\n",
    "        sample[key] = sample[key].to(device)\n",
    "    \n",
    "    out, outputs = generate(rmt, return_all_outputs=True, **sample)  \n",
    "\n",
    "    res_dict = {'ids': ids}\n",
    "    for i, o in enumerate(outputs):\n",
    "        # metric = metrics_fn(target_text, generation_outputs=o, verbose=False)[metric_name]\n",
    "        metrics = [metrics_fn([t], generation_outputs=[row], verbose=False)[metric_name] for t,row in zip(target_text, o)]\n",
    "        res_dict[f'{metric_name}_seg_{i}'] = metrics\n",
    "        \n",
    "        preds = tokenizer.batch_decode(o, skip_special_tokens=True)\n",
    "        res_dict[f'preds_seg_{i}'] = preds\n",
    "        res_dict[f'preds_seg_{i}_tokens'] = [row for row in o.cpu().numpy()]\n",
    "        \n",
    "    res_dict['target_text'] = target_text\n",
    "    res_dict['labels'] = [row for row in labels.cpu().numpy()]\n",
    "\n",
    "    res_df = res_df.append(pd.DataFrame(res_dict), ignore_index=True)\n",
    "\n",
    "\n",
    "    it += 1\n",
    "    if it // 20 == 0:\n",
    "        print(it)\n",
    "    if it > max_it:\n",
    "        break\n",
    "\n"
   ]
  },
  {
   "cell_type": "code",
   "execution_count": 23,
   "metadata": {},
   "outputs": [
    {
     "data": {
      "text/html": [
       "<div>\n",
       "<style scoped>\n",
       "    .dataframe tbody tr th:only-of-type {\n",
       "        vertical-align: middle;\n",
       "    }\n",
       "\n",
       "    .dataframe tbody tr th {\n",
       "        vertical-align: top;\n",
       "    }\n",
       "\n",
       "    .dataframe thead th {\n",
       "        text-align: right;\n",
       "    }\n",
       "</style>\n",
       "<table border=\"1\" class=\"dataframe\">\n",
       "  <thead>\n",
       "    <tr style=\"text-align: right;\">\n",
       "      <th></th>\n",
       "      <th>ids</th>\n",
       "      <th>rouge/geometric_mean_seg_0</th>\n",
       "      <th>preds_seg_0</th>\n",
       "      <th>preds_seg_0_tokens</th>\n",
       "      <th>target_text</th>\n",
       "      <th>labels</th>\n",
       "    </tr>\n",
       "  </thead>\n",
       "  <tbody>\n",
       "    <tr>\n",
       "      <th>0</th>\n",
       "      <td>va-sq-68</td>\n",
       "      <td>19.4028</td>\n",
       "      <td>The User Interface thought that the remote con...</td>\n",
       "      <td>[0, 37, 6674, 25064, 816, 24, 8, 4322, 610, 13...</td>\n",
       "      <td>While discussing the financial issue, the User...</td>\n",
       "      <td>[818, 12104, 8, 981, 962, 6, 8, 6674, 25064, 4...</td>\n",
       "    </tr>\n",
       "    <tr>\n",
       "      <th>1</th>\n",
       "      <td>va-sq-15</td>\n",
       "      <td>9.2796</td>\n",
       "      <td>The Project Manager thought that the buttons o...</td>\n",
       "      <td>[0, 37, 2786, 3440, 816, 24, 8, 10634, 30, 8, ...</td>\n",
       "      <td>In terms of the great idea of making a multifu...</td>\n",
       "      <td>[86, 1353, 13, 8, 248, 800, 13, 492, 3, 9, 124...</td>\n",
       "    </tr>\n",
       "    <tr>\n",
       "      <th>2</th>\n",
       "      <td>va-gq-49</td>\n",
       "      <td>0.0000</td>\n",
       "      <td>The team decided to stick to the so-called con...</td>\n",
       "      <td>[0, 37, 372, 1500, 12, 4372, 12, 8, 78, 18, 93...</td>\n",
       "      <td>The meeting discussed various topics such as d...</td>\n",
       "      <td>[37, 1338, 5172, 796, 4064, 224, 38, 331, 1232...</td>\n",
       "    </tr>\n",
       "    <tr>\n",
       "      <th>3</th>\n",
       "      <td>va-sq-50</td>\n",
       "      <td>7.6497</td>\n",
       "      <td>The group discussed which components to choose...</td>\n",
       "      <td>[0, 37, 563, 5172, 84, 3379, 12, 854, 45, 11, ...</td>\n",
       "      <td>The industrial designer provided several optio...</td>\n",
       "      <td>[37, 2913, 4378, 937, 633, 931, 6898, 21, 827,...</td>\n",
       "    </tr>\n",
       "    <tr>\n",
       "      <th>4</th>\n",
       "      <td>va-sq-110</td>\n",
       "      <td>14.1300</td>\n",
       "      <td>The group was concerned that the University of...</td>\n",
       "      <td>[0, 37, 563, 47, 4376, 24, 8, 636, 13, 1013, 1...</td>\n",
       "      <td>Kirsty Williams firstly made it clear that it ...</td>\n",
       "      <td>[10976, 7, 17, 63, 6060, 166, 120, 263, 34, 96...</td>\n",
       "    </tr>\n",
       "    <tr>\n",
       "      <th>...</th>\n",
       "      <td>...</td>\n",
       "      <td>...</td>\n",
       "      <td>...</td>\n",
       "      <td>...</td>\n",
       "      <td>...</td>\n",
       "      <td>...</td>\n",
       "    </tr>\n",
       "    <tr>\n",
       "      <th>267</th>\n",
       "      <td>va-sq-78</td>\n",
       "      <td>9.3486</td>\n",
       "      <td>B thought that the current computer navigation...</td>\n",
       "      <td>[0, 272, 816, 24, 8, 750, 1218, 8789, 358, 47,...</td>\n",
       "      <td>B explained that the subject of the experiment...</td>\n",
       "      <td>[272, 5243, 24, 8, 1426, 13, 8, 5016, 56, 166,...</td>\n",
       "    </tr>\n",
       "    <tr>\n",
       "      <th>268</th>\n",
       "      <td>va-sq-64</td>\n",
       "      <td>22.3798</td>\n",
       "      <td>When Marketing showed a picture of the spin wh...</td>\n",
       "      <td>[0, 366, 4329, 3217, 3, 9, 1554, 13, 8, 5404, ...</td>\n",
       "      <td>User Interface asked whether they could put an...</td>\n",
       "      <td>[6674, 25064, 1380, 823, 79, 228, 474, 46, 115...</td>\n",
       "    </tr>\n",
       "    <tr>\n",
       "      <th>269</th>\n",
       "      <td>va-sq-232</td>\n",
       "      <td>0.0000</td>\n",
       "      <td>The first domain is a set of digits, the secon...</td>\n",
       "      <td>[0, 37, 166, 3303, 19, 3, 9, 356, 13, 3, 9206,...</td>\n",
       "      <td>Given the domains currently used (tourist, chi...</td>\n",
       "      <td>[9246, 8, 3303, 7, 1083, 261, 41, 17, 1211, 34...</td>\n",
       "    </tr>\n",
       "    <tr>\n",
       "      <th>270</th>\n",
       "      <td>va-sq-267</td>\n",
       "      <td>16.5432</td>\n",
       "      <td>Project Manager thought that the manual design...</td>\n",
       "      <td>[0, 2786, 3440, 816, 24, 8, 3354, 408, 47, 514...</td>\n",
       "      <td>Project Manager thought the beeping device was...</td>\n",
       "      <td>[2786, 3440, 816, 8, 36, 15, 2462, 1407, 47, 5...</td>\n",
       "    </tr>\n",
       "    <tr>\n",
       "      <th>271</th>\n",
       "      <td>va-sq-135</td>\n",
       "      <td>11.7844</td>\n",
       "      <td>The group thought that Dave had left IBM and t...</td>\n",
       "      <td>[0, 37, 563, 816, 24, 8545, 141, 646, 11045, 1...</td>\n",
       "      <td>The group needed Dave Johnson to install the s...</td>\n",
       "      <td>[37, 563, 906, 8545, 5891, 12, 2438, 8, 128, 8...</td>\n",
       "    </tr>\n",
       "  </tbody>\n",
       "</table>\n",
       "<p>272 rows × 6 columns</p>\n",
       "</div>"
      ],
      "text/plain": [
       "           ids  rouge/geometric_mean_seg_0  \\\n",
       "0     va-sq-68                     19.4028   \n",
       "1     va-sq-15                      9.2796   \n",
       "2     va-gq-49                      0.0000   \n",
       "3     va-sq-50                      7.6497   \n",
       "4    va-sq-110                     14.1300   \n",
       "..         ...                         ...   \n",
       "267   va-sq-78                      9.3486   \n",
       "268   va-sq-64                     22.3798   \n",
       "269  va-sq-232                      0.0000   \n",
       "270  va-sq-267                     16.5432   \n",
       "271  va-sq-135                     11.7844   \n",
       "\n",
       "                                           preds_seg_0  \\\n",
       "0    The User Interface thought that the remote con...   \n",
       "1    The Project Manager thought that the buttons o...   \n",
       "2    The team decided to stick to the so-called con...   \n",
       "3    The group discussed which components to choose...   \n",
       "4    The group was concerned that the University of...   \n",
       "..                                                 ...   \n",
       "267  B thought that the current computer navigation...   \n",
       "268  When Marketing showed a picture of the spin wh...   \n",
       "269  The first domain is a set of digits, the secon...   \n",
       "270  Project Manager thought that the manual design...   \n",
       "271  The group thought that Dave had left IBM and t...   \n",
       "\n",
       "                                    preds_seg_0_tokens  \\\n",
       "0    [0, 37, 6674, 25064, 816, 24, 8, 4322, 610, 13...   \n",
       "1    [0, 37, 2786, 3440, 816, 24, 8, 10634, 30, 8, ...   \n",
       "2    [0, 37, 372, 1500, 12, 4372, 12, 8, 78, 18, 93...   \n",
       "3    [0, 37, 563, 5172, 84, 3379, 12, 854, 45, 11, ...   \n",
       "4    [0, 37, 563, 47, 4376, 24, 8, 636, 13, 1013, 1...   \n",
       "..                                                 ...   \n",
       "267  [0, 272, 816, 24, 8, 750, 1218, 8789, 358, 47,...   \n",
       "268  [0, 366, 4329, 3217, 3, 9, 1554, 13, 8, 5404, ...   \n",
       "269  [0, 37, 166, 3303, 19, 3, 9, 356, 13, 3, 9206,...   \n",
       "270  [0, 2786, 3440, 816, 24, 8, 3354, 408, 47, 514...   \n",
       "271  [0, 37, 563, 816, 24, 8545, 141, 646, 11045, 1...   \n",
       "\n",
       "                                           target_text  \\\n",
       "0    While discussing the financial issue, the User...   \n",
       "1    In terms of the great idea of making a multifu...   \n",
       "2    The meeting discussed various topics such as d...   \n",
       "3    The industrial designer provided several optio...   \n",
       "4    Kirsty Williams firstly made it clear that it ...   \n",
       "..                                                 ...   \n",
       "267  B explained that the subject of the experiment...   \n",
       "268  User Interface asked whether they could put an...   \n",
       "269  Given the domains currently used (tourist, chi...   \n",
       "270  Project Manager thought the beeping device was...   \n",
       "271  The group needed Dave Johnson to install the s...   \n",
       "\n",
       "                                                labels  \n",
       "0    [818, 12104, 8, 981, 962, 6, 8, 6674, 25064, 4...  \n",
       "1    [86, 1353, 13, 8, 248, 800, 13, 492, 3, 9, 124...  \n",
       "2    [37, 1338, 5172, 796, 4064, 224, 38, 331, 1232...  \n",
       "3    [37, 2913, 4378, 937, 633, 931, 6898, 21, 827,...  \n",
       "4    [10976, 7, 17, 63, 6060, 166, 120, 263, 34, 96...  \n",
       "..                                                 ...  \n",
       "267  [272, 5243, 24, 8, 1426, 13, 8, 5016, 56, 166,...  \n",
       "268  [6674, 25064, 1380, 823, 79, 228, 474, 46, 115...  \n",
       "269  [9246, 8, 3303, 7, 1083, 261, 41, 17, 1211, 34...  \n",
       "270  [2786, 3440, 816, 8, 36, 15, 2462, 1407, 47, 5...  \n",
       "271  [37, 563, 906, 8545, 5891, 12, 2438, 8, 128, 8...  \n",
       "\n",
       "[272 rows x 6 columns]"
      ]
     },
     "execution_count": 23,
     "metadata": {},
     "output_type": "execute_result"
    }
   ],
   "source": [
    "res_df"
   ]
  },
  {
   "cell_type": "code",
   "execution_count": 24,
   "metadata": {},
   "outputs": [],
   "source": [
    "# res_df.to_csv('tables/qmsum-train-rm-t5-501-0.csv', index=False)\n",
    "res_df.to_csv('tables/qmsum-valid-rm-t5-501-0.csv', index=False)"
   ]
  },
  {
   "cell_type": "code",
   "execution_count": 25,
   "metadata": {},
   "outputs": [],
   "source": [
    "# sample['input_ids'].shape"
   ]
  },
  {
   "cell_type": "code",
   "execution_count": 26,
   "metadata": {},
   "outputs": [
    {
     "data": {
      "text/html": [
       "<div>\n",
       "<style scoped>\n",
       "    .dataframe tbody tr th:only-of-type {\n",
       "        vertical-align: middle;\n",
       "    }\n",
       "\n",
       "    .dataframe tbody tr th {\n",
       "        vertical-align: top;\n",
       "    }\n",
       "\n",
       "    .dataframe thead th {\n",
       "        text-align: right;\n",
       "    }\n",
       "</style>\n",
       "<table border=\"1\" class=\"dataframe\">\n",
       "  <thead>\n",
       "    <tr style=\"text-align: right;\">\n",
       "      <th></th>\n",
       "      <th>ids</th>\n",
       "      <th>rouge/geometric_mean_seg_0</th>\n",
       "      <th>preds_seg_0</th>\n",
       "      <th>preds_seg_0_tokens</th>\n",
       "      <th>target_text</th>\n",
       "      <th>labels</th>\n",
       "    </tr>\n",
       "  </thead>\n",
       "  <tbody>\n",
       "    <tr>\n",
       "      <th>0</th>\n",
       "      <td>va-sq-267</td>\n",
       "      <td>16.5432</td>\n",
       "      <td>Project Manager thought that the manual design...</td>\n",
       "      <td>[0, 2786, 3440, 816, 24, 8, 3354, 408, 47, 514...</td>\n",
       "      <td>Project Manager thought the beeping device was...</td>\n",
       "      <td>[2786, 3440, 816, 8, 36, 15, 2462, 1407, 47, 5...</td>\n",
       "    </tr>\n",
       "    <tr>\n",
       "      <th>1</th>\n",
       "      <td>va-sq-135</td>\n",
       "      <td>11.7844</td>\n",
       "      <td>The group thought that Dave had left IBM and t...</td>\n",
       "      <td>[0, 37, 563, 816, 24, 8545, 141, 646, 11045, 1...</td>\n",
       "      <td>The group needed Dave Johnson to install the s...</td>\n",
       "      <td>[37, 563, 906, 8545, 5891, 12, 2438, 8, 128, 8...</td>\n",
       "    </tr>\n",
       "  </tbody>\n",
       "</table>\n",
       "</div>"
      ],
      "text/plain": [
       "         ids  rouge/geometric_mean_seg_0  \\\n",
       "0  va-sq-267                     16.5432   \n",
       "1  va-sq-135                     11.7844   \n",
       "\n",
       "                                         preds_seg_0  \\\n",
       "0  Project Manager thought that the manual design...   \n",
       "1  The group thought that Dave had left IBM and t...   \n",
       "\n",
       "                                  preds_seg_0_tokens  \\\n",
       "0  [0, 2786, 3440, 816, 24, 8, 3354, 408, 47, 514...   \n",
       "1  [0, 37, 563, 816, 24, 8545, 141, 646, 11045, 1...   \n",
       "\n",
       "                                         target_text  \\\n",
       "0  Project Manager thought the beeping device was...   \n",
       "1  The group needed Dave Johnson to install the s...   \n",
       "\n",
       "                                              labels  \n",
       "0  [2786, 3440, 816, 8, 36, 15, 2462, 1407, 47, 5...  \n",
       "1  [37, 563, 906, 8545, 5891, 12, 2438, 8, 128, 8...  "
      ]
     },
     "execution_count": 26,
     "metadata": {},
     "output_type": "execute_result"
    }
   ],
   "source": [
    "pd.DataFrame(res_dict)"
   ]
  },
  {
   "cell_type": "code",
   "execution_count": 27,
   "metadata": {},
   "outputs": [
    {
     "data": {
      "text/html": [
       "<div>\n",
       "<style scoped>\n",
       "    .dataframe tbody tr th:only-of-type {\n",
       "        vertical-align: middle;\n",
       "    }\n",
       "\n",
       "    .dataframe tbody tr th {\n",
       "        vertical-align: top;\n",
       "    }\n",
       "\n",
       "    .dataframe thead th {\n",
       "        text-align: right;\n",
       "    }\n",
       "</style>\n",
       "<table border=\"1\" class=\"dataframe\">\n",
       "  <thead>\n",
       "    <tr style=\"text-align: right;\">\n",
       "      <th></th>\n",
       "      <th>ids</th>\n",
       "      <th>rouge/geometric_mean_seg_0</th>\n",
       "      <th>preds_seg_0</th>\n",
       "      <th>preds_seg_0_tokens</th>\n",
       "      <th>target_text</th>\n",
       "      <th>labels</th>\n",
       "    </tr>\n",
       "  </thead>\n",
       "  <tbody>\n",
       "    <tr>\n",
       "      <th>0</th>\n",
       "      <td>va-sq-68</td>\n",
       "      <td>19.4028</td>\n",
       "      <td>The User Interface thought that the remote con...</td>\n",
       "      <td>[0, 37, 6674, 25064, 816, 24, 8, 4322, 610, 13...</td>\n",
       "      <td>While discussing the financial issue, the User...</td>\n",
       "      <td>[818, 12104, 8, 981, 962, 6, 8, 6674, 25064, 4...</td>\n",
       "    </tr>\n",
       "    <tr>\n",
       "      <th>1</th>\n",
       "      <td>va-sq-15</td>\n",
       "      <td>9.2796</td>\n",
       "      <td>The Project Manager thought that the buttons o...</td>\n",
       "      <td>[0, 37, 2786, 3440, 816, 24, 8, 10634, 30, 8, ...</td>\n",
       "      <td>In terms of the great idea of making a multifu...</td>\n",
       "      <td>[86, 1353, 13, 8, 248, 800, 13, 492, 3, 9, 124...</td>\n",
       "    </tr>\n",
       "    <tr>\n",
       "      <th>2</th>\n",
       "      <td>va-gq-49</td>\n",
       "      <td>0.0000</td>\n",
       "      <td>The team decided to stick to the so-called con...</td>\n",
       "      <td>[0, 37, 372, 1500, 12, 4372, 12, 8, 78, 18, 93...</td>\n",
       "      <td>The meeting discussed various topics such as d...</td>\n",
       "      <td>[37, 1338, 5172, 796, 4064, 224, 38, 331, 1232...</td>\n",
       "    </tr>\n",
       "    <tr>\n",
       "      <th>3</th>\n",
       "      <td>va-sq-50</td>\n",
       "      <td>7.6497</td>\n",
       "      <td>The group discussed which components to choose...</td>\n",
       "      <td>[0, 37, 563, 5172, 84, 3379, 12, 854, 45, 11, ...</td>\n",
       "      <td>The industrial designer provided several optio...</td>\n",
       "      <td>[37, 2913, 4378, 937, 633, 931, 6898, 21, 827,...</td>\n",
       "    </tr>\n",
       "    <tr>\n",
       "      <th>4</th>\n",
       "      <td>va-sq-110</td>\n",
       "      <td>14.1300</td>\n",
       "      <td>The group was concerned that the University of...</td>\n",
       "      <td>[0, 37, 563, 47, 4376, 24, 8, 636, 13, 1013, 1...</td>\n",
       "      <td>Kirsty Williams firstly made it clear that it ...</td>\n",
       "      <td>[10976, 7, 17, 63, 6060, 166, 120, 263, 34, 96...</td>\n",
       "    </tr>\n",
       "    <tr>\n",
       "      <th>...</th>\n",
       "      <td>...</td>\n",
       "      <td>...</td>\n",
       "      <td>...</td>\n",
       "      <td>...</td>\n",
       "      <td>...</td>\n",
       "      <td>...</td>\n",
       "    </tr>\n",
       "    <tr>\n",
       "      <th>267</th>\n",
       "      <td>va-sq-78</td>\n",
       "      <td>9.3486</td>\n",
       "      <td>B thought that the current computer navigation...</td>\n",
       "      <td>[0, 272, 816, 24, 8, 750, 1218, 8789, 358, 47,...</td>\n",
       "      <td>B explained that the subject of the experiment...</td>\n",
       "      <td>[272, 5243, 24, 8, 1426, 13, 8, 5016, 56, 166,...</td>\n",
       "    </tr>\n",
       "    <tr>\n",
       "      <th>268</th>\n",
       "      <td>va-sq-64</td>\n",
       "      <td>22.3798</td>\n",
       "      <td>When Marketing showed a picture of the spin wh...</td>\n",
       "      <td>[0, 366, 4329, 3217, 3, 9, 1554, 13, 8, 5404, ...</td>\n",
       "      <td>User Interface asked whether they could put an...</td>\n",
       "      <td>[6674, 25064, 1380, 823, 79, 228, 474, 46, 115...</td>\n",
       "    </tr>\n",
       "    <tr>\n",
       "      <th>269</th>\n",
       "      <td>va-sq-232</td>\n",
       "      <td>0.0000</td>\n",
       "      <td>The first domain is a set of digits, the secon...</td>\n",
       "      <td>[0, 37, 166, 3303, 19, 3, 9, 356, 13, 3, 9206,...</td>\n",
       "      <td>Given the domains currently used (tourist, chi...</td>\n",
       "      <td>[9246, 8, 3303, 7, 1083, 261, 41, 17, 1211, 34...</td>\n",
       "    </tr>\n",
       "    <tr>\n",
       "      <th>270</th>\n",
       "      <td>va-sq-267</td>\n",
       "      <td>16.5432</td>\n",
       "      <td>Project Manager thought that the manual design...</td>\n",
       "      <td>[0, 2786, 3440, 816, 24, 8, 3354, 408, 47, 514...</td>\n",
       "      <td>Project Manager thought the beeping device was...</td>\n",
       "      <td>[2786, 3440, 816, 8, 36, 15, 2462, 1407, 47, 5...</td>\n",
       "    </tr>\n",
       "    <tr>\n",
       "      <th>271</th>\n",
       "      <td>va-sq-135</td>\n",
       "      <td>11.7844</td>\n",
       "      <td>The group thought that Dave had left IBM and t...</td>\n",
       "      <td>[0, 37, 563, 816, 24, 8545, 141, 646, 11045, 1...</td>\n",
       "      <td>The group needed Dave Johnson to install the s...</td>\n",
       "      <td>[37, 563, 906, 8545, 5891, 12, 2438, 8, 128, 8...</td>\n",
       "    </tr>\n",
       "  </tbody>\n",
       "</table>\n",
       "<p>272 rows × 6 columns</p>\n",
       "</div>"
      ],
      "text/plain": [
       "           ids  rouge/geometric_mean_seg_0  \\\n",
       "0     va-sq-68                     19.4028   \n",
       "1     va-sq-15                      9.2796   \n",
       "2     va-gq-49                      0.0000   \n",
       "3     va-sq-50                      7.6497   \n",
       "4    va-sq-110                     14.1300   \n",
       "..         ...                         ...   \n",
       "267   va-sq-78                      9.3486   \n",
       "268   va-sq-64                     22.3798   \n",
       "269  va-sq-232                      0.0000   \n",
       "270  va-sq-267                     16.5432   \n",
       "271  va-sq-135                     11.7844   \n",
       "\n",
       "                                           preds_seg_0  \\\n",
       "0    The User Interface thought that the remote con...   \n",
       "1    The Project Manager thought that the buttons o...   \n",
       "2    The team decided to stick to the so-called con...   \n",
       "3    The group discussed which components to choose...   \n",
       "4    The group was concerned that the University of...   \n",
       "..                                                 ...   \n",
       "267  B thought that the current computer navigation...   \n",
       "268  When Marketing showed a picture of the spin wh...   \n",
       "269  The first domain is a set of digits, the secon...   \n",
       "270  Project Manager thought that the manual design...   \n",
       "271  The group thought that Dave had left IBM and t...   \n",
       "\n",
       "                                    preds_seg_0_tokens  \\\n",
       "0    [0, 37, 6674, 25064, 816, 24, 8, 4322, 610, 13...   \n",
       "1    [0, 37, 2786, 3440, 816, 24, 8, 10634, 30, 8, ...   \n",
       "2    [0, 37, 372, 1500, 12, 4372, 12, 8, 78, 18, 93...   \n",
       "3    [0, 37, 563, 5172, 84, 3379, 12, 854, 45, 11, ...   \n",
       "4    [0, 37, 563, 47, 4376, 24, 8, 636, 13, 1013, 1...   \n",
       "..                                                 ...   \n",
       "267  [0, 272, 816, 24, 8, 750, 1218, 8789, 358, 47,...   \n",
       "268  [0, 366, 4329, 3217, 3, 9, 1554, 13, 8, 5404, ...   \n",
       "269  [0, 37, 166, 3303, 19, 3, 9, 356, 13, 3, 9206,...   \n",
       "270  [0, 2786, 3440, 816, 24, 8, 3354, 408, 47, 514...   \n",
       "271  [0, 37, 563, 816, 24, 8545, 141, 646, 11045, 1...   \n",
       "\n",
       "                                           target_text  \\\n",
       "0    While discussing the financial issue, the User...   \n",
       "1    In terms of the great idea of making a multifu...   \n",
       "2    The meeting discussed various topics such as d...   \n",
       "3    The industrial designer provided several optio...   \n",
       "4    Kirsty Williams firstly made it clear that it ...   \n",
       "..                                                 ...   \n",
       "267  B explained that the subject of the experiment...   \n",
       "268  User Interface asked whether they could put an...   \n",
       "269  Given the domains currently used (tourist, chi...   \n",
       "270  Project Manager thought the beeping device was...   \n",
       "271  The group needed Dave Johnson to install the s...   \n",
       "\n",
       "                                                labels  \n",
       "0    [818, 12104, 8, 981, 962, 6, 8, 6674, 25064, 4...  \n",
       "1    [86, 1353, 13, 8, 248, 800, 13, 492, 3, 9, 124...  \n",
       "2    [37, 1338, 5172, 796, 4064, 224, 38, 331, 1232...  \n",
       "3    [37, 2913, 4378, 937, 633, 931, 6898, 21, 827,...  \n",
       "4    [10976, 7, 17, 63, 6060, 166, 120, 263, 34, 96...  \n",
       "..                                                 ...  \n",
       "267  [272, 5243, 24, 8, 1426, 13, 8, 5016, 56, 166,...  \n",
       "268  [6674, 25064, 1380, 823, 79, 228, 474, 46, 115...  \n",
       "269  [9246, 8, 3303, 7, 1083, 261, 41, 17, 1211, 34...  \n",
       "270  [2786, 3440, 816, 8, 36, 15, 2462, 1407, 47, 5...  \n",
       "271  [37, 563, 906, 8545, 5891, 12, 2438, 8, 128, 8...  \n",
       "\n",
       "[272 rows x 6 columns]"
      ]
     },
     "execution_count": 27,
     "metadata": {},
     "output_type": "execute_result"
    }
   ],
   "source": [
    "res_df"
   ]
  },
  {
   "cell_type": "code",
   "execution_count": null,
   "metadata": {},
   "outputs": [],
   "source": []
  },
  {
   "cell_type": "code",
   "execution_count": null,
   "metadata": {},
   "outputs": [],
   "source": []
  },
  {
   "cell_type": "markdown",
   "metadata": {},
   "source": [
    "## Interpret"
   ]
  },
  {
   "cell_type": "markdown",
   "metadata": {},
   "source": [
    "#### Train"
   ]
  },
  {
   "cell_type": "code",
   "execution_count": 28,
   "metadata": {},
   "outputs": [
    {
     "ename": "KeyError",
     "evalue": "'0038b073b7cca847033177024f9719c971692042'",
     "output_type": "error",
     "traceback": [
      "\u001b[0;31m---------------------------------------------------------------------------\u001b[0m",
      "\u001b[0;31mKeyError\u001b[0m                                  Traceback (most recent call last)",
      "Input \u001b[0;32mIn [28]\u001b[0m, in \u001b[0;36m<cell line: 2>\u001b[0;34m()\u001b[0m\n\u001b[1;32m      1\u001b[0m rmt_df \u001b[38;5;241m=\u001b[39m pd\u001b[38;5;241m.\u001b[39mread_csv(\u001b[38;5;124m'\u001b[39m\u001b[38;5;124mtables/qasper-train-rm-t5-1002-10.csv\u001b[39m\u001b[38;5;124m'\u001b[39m)\u001b[38;5;241m.\u001b[39msort_values([\u001b[38;5;124m'\u001b[39m\u001b[38;5;124mids\u001b[39m\u001b[38;5;124m'\u001b[39m])\u001b[38;5;241m.\u001b[39mreset_index()\n\u001b[0;32m----> 2\u001b[0m rmt_df[\u001b[38;5;124m'\u001b[39m\u001b[38;5;124minput\u001b[39m\u001b[38;5;124m'\u001b[39m] \u001b[38;5;241m=\u001b[39m \u001b[43mrmt_df\u001b[49m\u001b[38;5;241;43m.\u001b[39;49m\u001b[43mids\u001b[49m\u001b[38;5;241;43m.\u001b[39;49m\u001b[43mapply\u001b[49m\u001b[43m(\u001b[49m\u001b[38;5;28;43;01mlambda\u001b[39;49;00m\u001b[43m \u001b[49m\u001b[43mx\u001b[49m\u001b[43m:\u001b[49m\u001b[43m \u001b[49m\u001b[43mid2text_train\u001b[49m\u001b[43m[\u001b[49m\u001b[43mx\u001b[49m\u001b[43m]\u001b[49m\u001b[43m)\u001b[49m\n\u001b[1;32m      4\u001b[0m baseline_df \u001b[38;5;241m=\u001b[39m pd\u001b[38;5;241m.\u001b[39mread_csv(\u001b[38;5;124m'\u001b[39m\u001b[38;5;124mtables/qasper-train-t5-base.csv\u001b[39m\u001b[38;5;124m'\u001b[39m)\u001b[38;5;241m.\u001b[39msort_values([\u001b[38;5;124m'\u001b[39m\u001b[38;5;124mids\u001b[39m\u001b[38;5;124m'\u001b[39m])\u001b[38;5;241m.\u001b[39mreset_index()\n\u001b[1;32m      5\u001b[0m baseline_df[\u001b[38;5;124m'\u001b[39m\u001b[38;5;124minput\u001b[39m\u001b[38;5;124m'\u001b[39m] \u001b[38;5;241m=\u001b[39m baseline_df\u001b[38;5;241m.\u001b[39mids\u001b[38;5;241m.\u001b[39mapply(\u001b[38;5;28;01mlambda\u001b[39;00m x: id2text_train[x])\n",
      "File \u001b[0;32m/cephfs/home/bulatov/bulatov/hvdenv/lib/python3.8/site-packages/pandas/core/series.py:4138\u001b[0m, in \u001b[0;36mSeries.apply\u001b[0;34m(self, func, convert_dtype, args, **kwds)\u001b[0m\n\u001b[1;32m   4136\u001b[0m     \u001b[38;5;28;01melse\u001b[39;00m:\n\u001b[1;32m   4137\u001b[0m         values \u001b[38;5;241m=\u001b[39m \u001b[38;5;28mself\u001b[39m\u001b[38;5;241m.\u001b[39mastype(\u001b[38;5;28mobject\u001b[39m)\u001b[38;5;241m.\u001b[39m_values\n\u001b[0;32m-> 4138\u001b[0m         mapped \u001b[38;5;241m=\u001b[39m \u001b[43mlib\u001b[49m\u001b[38;5;241;43m.\u001b[39;49m\u001b[43mmap_infer\u001b[49m\u001b[43m(\u001b[49m\u001b[43mvalues\u001b[49m\u001b[43m,\u001b[49m\u001b[43m \u001b[49m\u001b[43mf\u001b[49m\u001b[43m,\u001b[49m\u001b[43m \u001b[49m\u001b[43mconvert\u001b[49m\u001b[38;5;241;43m=\u001b[39;49m\u001b[43mconvert_dtype\u001b[49m\u001b[43m)\u001b[49m\n\u001b[1;32m   4140\u001b[0m \u001b[38;5;28;01mif\u001b[39;00m \u001b[38;5;28mlen\u001b[39m(mapped) \u001b[38;5;129;01mand\u001b[39;00m \u001b[38;5;28misinstance\u001b[39m(mapped[\u001b[38;5;241m0\u001b[39m], Series):\n\u001b[1;32m   4141\u001b[0m     \u001b[38;5;66;03m# GH 25959 use pd.array instead of tolist\u001b[39;00m\n\u001b[1;32m   4142\u001b[0m     \u001b[38;5;66;03m# so extension arrays can be used\u001b[39;00m\n\u001b[1;32m   4143\u001b[0m     \u001b[38;5;28;01mreturn\u001b[39;00m \u001b[38;5;28mself\u001b[39m\u001b[38;5;241m.\u001b[39m_constructor_expanddim(pd_array(mapped), index\u001b[38;5;241m=\u001b[39m\u001b[38;5;28mself\u001b[39m\u001b[38;5;241m.\u001b[39mindex)\n",
      "File \u001b[0;32mpandas/_libs/lib.pyx:2467\u001b[0m, in \u001b[0;36mpandas._libs.lib.map_infer\u001b[0;34m()\u001b[0m\n",
      "Input \u001b[0;32mIn [28]\u001b[0m, in \u001b[0;36m<lambda>\u001b[0;34m(x)\u001b[0m\n\u001b[1;32m      1\u001b[0m rmt_df \u001b[38;5;241m=\u001b[39m pd\u001b[38;5;241m.\u001b[39mread_csv(\u001b[38;5;124m'\u001b[39m\u001b[38;5;124mtables/qasper-train-rm-t5-1002-10.csv\u001b[39m\u001b[38;5;124m'\u001b[39m)\u001b[38;5;241m.\u001b[39msort_values([\u001b[38;5;124m'\u001b[39m\u001b[38;5;124mids\u001b[39m\u001b[38;5;124m'\u001b[39m])\u001b[38;5;241m.\u001b[39mreset_index()\n\u001b[0;32m----> 2\u001b[0m rmt_df[\u001b[38;5;124m'\u001b[39m\u001b[38;5;124minput\u001b[39m\u001b[38;5;124m'\u001b[39m] \u001b[38;5;241m=\u001b[39m rmt_df\u001b[38;5;241m.\u001b[39mids\u001b[38;5;241m.\u001b[39mapply(\u001b[38;5;28;01mlambda\u001b[39;00m x: \u001b[43mid2text_train\u001b[49m\u001b[43m[\u001b[49m\u001b[43mx\u001b[49m\u001b[43m]\u001b[49m)\n\u001b[1;32m      4\u001b[0m baseline_df \u001b[38;5;241m=\u001b[39m pd\u001b[38;5;241m.\u001b[39mread_csv(\u001b[38;5;124m'\u001b[39m\u001b[38;5;124mtables/qasper-train-t5-base.csv\u001b[39m\u001b[38;5;124m'\u001b[39m)\u001b[38;5;241m.\u001b[39msort_values([\u001b[38;5;124m'\u001b[39m\u001b[38;5;124mids\u001b[39m\u001b[38;5;124m'\u001b[39m])\u001b[38;5;241m.\u001b[39mreset_index()\n\u001b[1;32m      5\u001b[0m baseline_df[\u001b[38;5;124m'\u001b[39m\u001b[38;5;124minput\u001b[39m\u001b[38;5;124m'\u001b[39m] \u001b[38;5;241m=\u001b[39m baseline_df\u001b[38;5;241m.\u001b[39mids\u001b[38;5;241m.\u001b[39mapply(\u001b[38;5;28;01mlambda\u001b[39;00m x: id2text_train[x])\n",
      "\u001b[0;31mKeyError\u001b[0m: '0038b073b7cca847033177024f9719c971692042'"
     ]
    }
   ],
   "source": [
    "rmt_df = pd.read_csv('tables/qasper-train-rm-t5-1002-10.csv').sort_values(['ids']).reset_index()\n",
    "rmt_df['input'] = rmt_df.ids.apply(lambda x: id2text_train[x])\n",
    "\n",
    "baseline_df = pd.read_csv('tables/qasper-train-t5-base.csv').sort_values(['ids']).reset_index()\n",
    "baseline_df['input'] = baseline_df.ids.apply(lambda x: id2text_train[x])\n",
    "baseline_df['f1_seg_1'] = baseline_df.f1_seg_2"
   ]
  },
  {
   "cell_type": "code",
   "execution_count": null,
   "metadata": {},
   "outputs": [],
   "source": [
    "f1_cols = {'rm-t5-seg-2': rmt_df.f1_seg_1, 'rmt-t5-seg-1': rmt_df.f1_seg_0, 't5': baseline_df.f1_seg_1}\n",
    "comp_df = pd.DataFrame(index = f1_cols.keys(), columns = f1_cols.keys())\n",
    "\n",
    "for better_name, better_f1 in f1_cols.items():\n",
    "    for worse_name, worse_f1 in f1_cols.items():\n",
    "        num_occ = (better_f1 > worse_f1).sum()\n",
    "        comp_df.loc[worse_name, better_name] = num_occ\n",
    "        \n",
    "comp_df = (comp_df / rmt_df.shape[0]).astype(float).round(2)\n",
    "comp_df"
   ]
  },
  {
   "cell_type": "code",
   "execution_count": null,
   "metadata": {},
   "outputs": [],
   "source": [
    "# rmt_df.pred_seg_0.value_counts(), rmt_df.pred_seg_1.value_counts()"
   ]
  },
  {
   "cell_type": "code",
   "execution_count": null,
   "metadata": {},
   "outputs": [],
   "source": [
    "baseline_df.f1_seg_2.hist()\n",
    "rmt_df.f1_seg_0.hist()\n",
    "rmt_df.f1_seg_1.hist()\n",
    "plt.legend(['baseline', 'seg 0', 'seg 1'])"
   ]
  },
  {
   "cell_type": "code",
   "execution_count": null,
   "metadata": {},
   "outputs": [],
   "source": [
    "(rmt_df.f1_seg_0 == 0).mean()"
   ]
  },
  {
   "cell_type": "code",
   "execution_count": null,
   "metadata": {},
   "outputs": [],
   "source": [
    "(rmt_df.f1_seg_1 - rmt_df.f1_seg_0).mean()"
   ]
  },
  {
   "cell_type": "code",
   "execution_count": null,
   "metadata": {},
   "outputs": [],
   "source": [
    "rmt_df[rmt_df.f1_seg_1 >  0].target_text.value_counts()"
   ]
  },
  {
   "cell_type": "code",
   "execution_count": null,
   "metadata": {},
   "outputs": [],
   "source": [
    "rmt_df[rmt_df.f1_seg_0 >  0].target_text.value_counts()"
   ]
  },
  {
   "cell_type": "markdown",
   "metadata": {},
   "source": [
    "#### Valid"
   ]
  },
  {
   "cell_type": "code",
   "execution_count": null,
   "metadata": {},
   "outputs": [],
   "source": [
    "rmt_df = pd.read_csv('tables/qasper-valid-rm-t5-1002-10.csv').sort_values(['ids']).reset_index()\n",
    "rmt_df['input'] = rmt_df.ids.apply(lambda x: id2text_valid[x])\n",
    "\n",
    "baseline_df = pd.read_csv('tables/qasper-valid-t5-base.csv').sort_values(['ids']).reset_index()\n",
    "baseline_df['input'] = baseline_df.ids.apply(lambda x: id2text_valid[x])\n",
    "baseline_df['f1_seg_1'] = baseline_df['f1_seg_2']"
   ]
  },
  {
   "cell_type": "code",
   "execution_count": null,
   "metadata": {},
   "outputs": [],
   "source": [
    "baseline_df.f1_seg_2.hist()\n",
    "rmt_df.f1_seg_0.hist()\n",
    "rmt_df.f1_seg_1.hist()\n",
    "plt.legend(['baseline', 'seg 0', 'seg 1'])"
   ]
  },
  {
   "cell_type": "code",
   "execution_count": null,
   "metadata": {},
   "outputs": [],
   "source": [
    "mask = (rmt_df.f1_seg_1 < rmt_df.f1_seg_0) & (rmt_df.f1_seg_1 < baseline_df.f1_seg_1)\n",
    "mask.sum()"
   ]
  },
  {
   "cell_type": "code",
   "execution_count": null,
   "metadata": {},
   "outputs": [],
   "source": [
    "(rmt_df.f1_seg_1 - rmt_df.f1_seg_0).mean(), (baseline_df.f1_seg_1 - rmt_df.f1_seg_0).mean()"
   ]
  },
  {
   "cell_type": "code",
   "execution_count": null,
   "metadata": {},
   "outputs": [],
   "source": [
    "(rmt_df.f1_seg_0).mean(), (rmt_df.f1_seg_1).mean(), (baseline_df.f1_seg_1).mean()"
   ]
  },
  {
   "cell_type": "code",
   "execution_count": null,
   "metadata": {},
   "outputs": [],
   "source": [
    "# rmt_df[(rmt_df.f1_seg_1 - rmt_df.f1_seg_0) < 0]"
   ]
  },
  {
   "cell_type": "code",
   "execution_count": null,
   "metadata": {},
   "outputs": [],
   "source": [
    "rmt_df[(rmt_df.f1_seg_1 - rmt_df.f1_seg_0) > 0].preds_seg_1.value_counts()"
   ]
  },
  {
   "cell_type": "code",
   "execution_count": null,
   "metadata": {},
   "outputs": [],
   "source": [
    "n_segments = 2\n",
    "def split(text, n_segments=n_segments):\n",
    "    premise = text.split('?')[0]\n",
    "    encoded = tokenizer.encode(text, **encode_plus_kwargs, add_special_tokens=False)\n",
    "    segments = np.split(np.array(encoded), n_segments)    \n",
    "    texts = [tokenizer.decode(s) for s in segments]\n",
    "    \n",
    "    \n",
    "    return [premise] + texts"
   ]
  },
  {
   "cell_type": "code",
   "execution_count": null,
   "metadata": {},
   "outputs": [],
   "source": [
    "max_i = 1"
   ]
  },
  {
   "cell_type": "markdown",
   "metadata": {},
   "source": [
    "### analysis table"
   ]
  },
  {
   "cell_type": "code",
   "execution_count": null,
   "metadata": {},
   "outputs": [],
   "source": [
    "f1_cols = {'rm-t5-seg-2': rmt_df.f1_seg_1, 'rmt-t5-seg-1': rmt_df.f1_seg_0, 't5': baseline_df.f1_seg_1}\n",
    "comp_df = pd.DataFrame(index = f1_cols.keys(), columns = f1_cols.keys())\n",
    "\n",
    "for better_name, better_f1 in f1_cols.items():\n",
    "    for worse_name, worse_f1 in f1_cols.items():\n",
    "        num_occ = (better_f1 > worse_f1).sum()\n",
    "        comp_df.loc[worse_name, better_name] = num_occ\n",
    "        \n",
    "comp_df = (comp_df / rmt_df.shape[0]).astype(float).round(2)\n",
    "comp_df"
   ]
  },
  {
   "cell_type": "code",
   "execution_count": null,
   "metadata": {},
   "outputs": [],
   "source": [
    "comp_df"
   ]
  },
  {
   "cell_type": "markdown",
   "metadata": {},
   "source": [
    "### look at texts"
   ]
  },
  {
   "cell_type": "code",
   "execution_count": null,
   "metadata": {},
   "outputs": [],
   "source": [
    "rmt_df[rmt_df.f1_seg_1 > rmt_df.f1_seg_0].preds_seg_1.value_counts() / sum(rmt_df.f1_seg_1 > rmt_df.f1_seg_0)"
   ]
  },
  {
   "cell_type": "code",
   "execution_count": null,
   "metadata": {},
   "outputs": [],
   "source": [
    "300/17"
   ]
  },
  {
   "cell_type": "code",
   "execution_count": null,
   "metadata": {},
   "outputs": [],
   "source": [
    "# max_i = 10\n",
    "print(f'Segment 1 better than segment 0: {sum((rmt_df.f1_seg_1 - rmt_df.f1_seg_0) > 0)}\\n\\n')\n",
    "slice = rmt_df[(rmt_df.f1_seg_1 - rmt_df.f1_seg_0) > 0].reset_index()\n",
    "for i, row in slice.iterrows():\n",
    "    inp = row['input']\n",
    "    spl = '\\n\\n'.join(split(row['input']))\n",
    "    print(f\"{spl}\\nseg_0: {row['preds_seg_0']},\\nseg_1: {row['preds_seg_1']}\\ntarget: {row['target_text']}\\n\\n\")\n",
    "          \n",
    "    if i > max_i:\n",
    "        break"
   ]
  },
  {
   "cell_type": "code",
   "execution_count": null,
   "metadata": {},
   "outputs": [],
   "source": [
    "rmt_df[rmt_df.f1_seg_1 < rmt_df.f1_seg_0].preds_seg_0.value_counts() / sum(rmt_df.f1_seg_1 < rmt_df.f1_seg_0)"
   ]
  },
  {
   "cell_type": "code",
   "execution_count": null,
   "metadata": {},
   "outputs": [],
   "source": [
    "# max_i = 10\n",
    "print(f'Segment 0 better than segment 1: {sum((rmt_df.f1_seg_1 - rmt_df.f1_seg_0) < 0)}\\n\\n')\n",
    "slice = rmt_df[(rmt_df.f1_seg_1 - rmt_df.f1_seg_0) < 0].reset_index()\n",
    "for i, row in slice.iterrows():\n",
    "    inp = row['input']\n",
    "    spl = '\\n\\n'.join(split(row['input']))\n",
    "    print(f\"{spl}\\nseg_0: {row['preds_seg_0']},\\nseg_1: {row['preds_seg_1']}\\ntarget: {row['target_text']}\\n\\n\")\n",
    "          \n",
    "    if i > max_i:\n",
    "        break"
   ]
  },
  {
   "cell_type": "code",
   "execution_count": null,
   "metadata": {},
   "outputs": [],
   "source": [
    "# rmt_df[baseline_df.f1_seg_1 > rmt_df.f1_seg_0].preds_seg_1.value_counts() / sum(baseline_df.f1_seg_1 > rmt_df.f1_seg_0)\n",
    "baseline_df[baseline_df.f1_seg_1 > rmt_df.f1_seg_1].preds.value_counts() / sum(baseline_df.f1_seg_1 > rmt_df.f1_seg_1)"
   ]
  },
  {
   "cell_type": "code",
   "execution_count": null,
   "metadata": {},
   "outputs": [],
   "source": [
    "# max_i = 10\n",
    "mask = (rmt_df.f1_seg_0 - baseline_df.f1_seg_1) > 0\n",
    "print(f'Segment 0 better than baseline: {sum(mask)}\\n\\n')\n",
    "slice = rmt_df[mask].reset_index()\n",
    "slice_bl = baseline_df[mask].reset_index()\n",
    "for i, row in slice.iterrows():\n",
    "    inp = row['input']\n",
    "    spl = '\\n\\n'.join(split(row['input']))\n",
    "    # bl_pred = baseline_df[baseline_df.ids == row['ids']].preds.iloc[0]\n",
    "    bl_pred = slice_bl.iloc[i].preds\n",
    "    # print(slice.iloc[i])\n",
    "    # print(slice_bl.iloc[i])\n",
    "    print(f\"{spl}\\nseg_0: {row['preds_seg_0']},\\nseg_1: {row['preds_seg_1']}\\nbaseline: {bl_pred}\\ntarget: {row['target_text']}\\n\\n\")\n",
    "          \n",
    "    if i > max_i:\n",
    "        break"
   ]
  },
  {
   "cell_type": "code",
   "execution_count": null,
   "metadata": {},
   "outputs": [],
   "source": [
    "max_i = 5\n",
    "mask = (rmt_df.f1_seg_0 - baseline_df.f1_seg_1) < 0\n",
    "print(f'Segment 0 worse than baseline: {sum(mask)}\\n\\n')\n",
    "slice = rmt_df[mask].reset_index()\n",
    "for i, row in slice.iterrows():\n",
    "    inp = row['input']\n",
    "    spl = '\\n\\n'.join(split(row['input']))\n",
    "    bl_pred = baseline_df[baseline_df.ids == row['ids']].preds.iloc[0]\n",
    "    # bl_pred = baseline_df[baseline_df.ids == row['ids']].preds\n",
    "    print(f\"{spl}\\nseg_0: {row['preds_seg_0']},\\nseg_1: {row['preds_seg_1']}\\nbaseline: {bl_pred}\\ntarget: {row['target_text']}\\n\\n\")\n",
    "          \n",
    "    if i > max_i:\n",
    "        break"
   ]
  },
  {
   "cell_type": "code",
   "execution_count": null,
   "metadata": {},
   "outputs": [],
   "source": [
    "max_i = 20\n",
    "mask = (rmt_df.f1_seg_1 - baseline_df.f1_seg_1) > 0\n",
    "print(f'Segment 1 better than baseline: {sum(mask)}\\n\\n')\n",
    "slice = rmt_df[mask].reset_index()\n",
    "for i, row in slice.iterrows():\n",
    "    inp = row['input']\n",
    "    spl = '\\n\\n'.join(split(row['input']))\n",
    "    bl_pred = baseline_df[baseline_df.ids == row['ids']].preds.iloc[0]\n",
    "    print(f\"{spl}\\nseg_0: {row['preds_seg_0']},\\nseg_1: {row['preds_seg_1']}\\nbaseline: {bl_pred}\\ntarget: {row['target_text']}\\n\\n\")\n",
    "          \n",
    "    if i > max_i:\n",
    "        break"
   ]
  },
  {
   "cell_type": "code",
   "execution_count": null,
   "metadata": {},
   "outputs": [],
   "source": []
  }
 ],
 "metadata": {
  "interpreter": {
   "hash": "15ebdd31b1273fe4d2b1fe1822219a570cf61693f7cab545dbe286c10cf9691f"
  },
  "kernelspec": {
   "display_name": "hvdenv",
   "language": "python",
   "name": "hvdenv"
  },
  "language_info": {
   "codemirror_mode": {
    "name": "ipython",
    "version": 3
   },
   "file_extension": ".py",
   "mimetype": "text/x-python",
   "name": "python",
   "nbconvert_exporter": "python",
   "pygments_lexer": "ipython3",
   "version": "3.8.10"
  }
 },
 "nbformat": 4,
 "nbformat_minor": 4
}
