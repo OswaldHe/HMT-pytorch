{
 "cells": [
  {
   "cell_type": "code",
   "execution_count": 1,
   "metadata": {},
   "outputs": [],
   "source": [
    "%load_ext autoreload\n",
    "%autoreload 2\n",
    "\n",
    "import os\n",
    "os.environ['CUDA_VISIBLE_DEVICES']=''\n",
    "\n",
    "import sys;\n",
    "sys.path.append('..')"
   ]
  },
  {
   "cell_type": "code",
   "execution_count": 27,
   "metadata": {},
   "outputs": [],
   "source": [
    "import json\n",
    "wiki = json.load(open('/home/kuratov/data/ThePile/Wikipedia/wikipedia-en-0.json', 'r'))"
   ]
  },
  {
   "cell_type": "code",
   "execution_count": 42,
   "metadata": {},
   "outputs": [
    {
     "data": {
      "text/plain": "{'title': '', 'text': ''}"
     },
     "execution_count": 42,
     "metadata": {},
     "output_type": "execute_result"
    }
   ],
   "source": [
    "{\n",
    "    'title': '',\n",
    "    'text': '',\n",
    "}"
   ]
  },
  {
   "cell_type": "code",
   "execution_count": null,
   "metadata": {},
   "outputs": [],
   "source": [
    "# articles to skip:\n",
    "# List of ...\n",
    "# {title} may refer to: (disambiguation pages)\n",
    "# wiki key words to clean\n",
    "# \\nCategory:\n",
    "# \\n\\nSee also\\n\\n\n",
    "# \\n\\nReferences\\n\\n"
   ]
  },
  {
   "cell_type": "code",
   "execution_count": 2,
   "metadata": {},
   "outputs": [],
   "source": [
    "import re\n",
    "category_regexp = re.compile(r'\\ACategory:[\\S ]+\\Z')\n",
    "keywords_regexp = re.compile(r'\\n(References|See also|External Links)\\s?\\n')\n",
    "title_regexp = re.compile(r'\\A[\\S ]+?\\\\n\\\\n')\n",
    "list_of_regexp = re.compile(r'\\AList of')\n",
    "\n",
    "def clean_article(text):\n",
    "    lines = []\n",
    "    title = ''\n",
    "    for i, line in enumerate(text.split('\\n')):\n",
    "        if i == 0:\n",
    "            title = line\n",
    "            continue\n",
    "        if category_regexp.match(line):\n",
    "            continue\n",
    "        lines += [line]\n",
    "    text = '\\n'.join(lines)\n",
    "    m = re.search(keywords_regexp, text)\n",
    "    if m:\n",
    "        text = text[:m.span()[0]]\n",
    "    return title, text.strip()"
   ]
  },
  {
   "cell_type": "code",
   "execution_count": 3,
   "metadata": {},
   "outputs": [
    {
     "name": "stderr",
     "output_type": "stream",
     "text": [
      "100%|██████████| 10/10 [05:19<00:00, 31.99s/it]\n"
     ]
    }
   ],
   "source": [
    "# preprocess wiki\n",
    "from tqdm import tqdm as tqdm\n",
    "import json\n",
    "\n",
    "path = '/home/kuratov/data/ThePile/Wikipedia/wikipedia-en-{}.json'\n",
    "\n",
    "total_articles = 0\n",
    "filtered_articles = 0\n",
    "\n",
    "articles = []\n",
    "\n",
    "for i in tqdm(range(0, 10)):\n",
    "    wiki = json.load(open(path.format(i), 'r'))\n",
    "    for text in wiki:\n",
    "        total_articles +=1\n",
    "        title, text = clean_article(text)\n",
    "        if re.search(list_of_regexp, title):\n",
    "            filtered_articles += 1\n",
    "            continue\n",
    "        if f'{title} may refer to:' in text:\n",
    "            filtered_articles += 1\n",
    "            continue\n",
    "        articles += [{'title': title, 'text': text}]\n",
    "print(f'{filtered_articles}/{total_articles}')"
   ]
  },
  {
   "cell_type": "code",
   "execution_count": 6,
   "metadata": {},
   "outputs": [
    {
     "name": "stdout",
     "output_type": "stream",
     "text": [
      "279906/5753245/6033151\n"
     ]
    }
   ],
   "source": [
    "print(f'{filtered_articles}/{len(articles)}/{total_articles}')"
   ]
  },
  {
   "cell_type": "code",
   "execution_count": 18,
   "metadata": {},
   "outputs": [
    {
     "name": "stderr",
     "output_type": "stream",
     "text": [
      "100%|██████████| 80/80 [01:49<00:00,  1.36s/it]\n"
     ]
    },
    {
     "name": "stdout",
     "output_type": "stream",
     "text": [
      "0 71916\n",
      "71916 143832\n",
      "143832 215748\n",
      "215748 287664\n",
      "287664 359580\n",
      "359580 431496\n",
      "431496 503412\n",
      "503412 575328\n",
      "575328 647244\n",
      "647244 719160\n",
      "719160 791076\n",
      "791076 862992\n",
      "862992 934908\n",
      "934908 1006824\n",
      "1006824 1078740\n",
      "1078740 1150656\n",
      "1150656 1222572\n",
      "1222572 1294488\n",
      "1294488 1366404\n",
      "1366404 1438320\n",
      "1438320 1510236\n",
      "1510236 1582152\n",
      "1582152 1654068\n",
      "1654068 1725984\n",
      "1725984 1797900\n",
      "1797900 1869816\n",
      "1869816 1941732\n",
      "1941732 2013648\n",
      "2013648 2085564\n",
      "2085564 2157480\n",
      "2157480 2229396\n",
      "2229396 2301312\n",
      "2301312 2373228\n",
      "2373228 2445144\n",
      "2445144 2517060\n",
      "2517060 2588976\n",
      "2588976 2660892\n",
      "2660892 2732808\n",
      "2732808 2804724\n",
      "2804724 2876640\n",
      "2876640 2948556\n",
      "2948556 3020472\n",
      "3020472 3092388\n",
      "3092388 3164304\n",
      "3164304 3236220\n",
      "3236220 3308136\n",
      "3308136 3380052\n",
      "3380052 3451968\n",
      "3451968 3523884\n",
      "3523884 3595800\n",
      "3595800 3667716\n",
      "3667716 3739632\n",
      "3739632 3811548\n",
      "3811548 3883464\n",
      "3883464 3955380\n",
      "3955380 4027296\n",
      "4027296 4099212\n",
      "4099212 4171128\n",
      "4171128 4243044\n",
      "4243044 4314960\n",
      "4314960 4386876\n",
      "4386876 4458792\n",
      "4458792 4530708\n",
      "4530708 4602624\n",
      "4602624 4674540\n",
      "4674540 4746456\n",
      "4746456 4818372\n",
      "4818372 4890288\n",
      "4890288 4962204\n",
      "4962204 5034120\n",
      "5034120 5106036\n",
      "5106036 5177952\n",
      "5177952 5249868\n",
      "5249868 5321784\n",
      "5321784 5393700\n",
      "5393700 5465616\n",
      "5465616 5537532\n",
      "5537532 5609448\n",
      "5609448 5681364\n",
      "5681364 5753280\n"
     ]
    }
   ],
   "source": [
    "# save shards\n",
    "\n",
    "from pathlib import Path\n",
    "\n",
    "shards_path = '/home/kuratov/data/ThePile/Wikipedia/preprocessed_shards'\n",
    "\n",
    "if not Path(shards_path).exists():\n",
    "    Path(shards_path).mkdir(parents=True)\n",
    "\n",
    "import random, math\n",
    "random.shuffle(articles)\n",
    "n_shards = 80  # (we possibly have to take n_gpus shards for validation, so we need more shards)\n",
    "\n",
    "shard_size = math.ceil(len(articles) / n_shards)\n",
    "\n",
    "for i, start in enumerate(tqdm(range(0, len(articles), shard_size))):\n",
    "    with (Path(shards_path) / f'shard_{i:02d}.jsonl').open('w', encoding='utf8') as fout:\n",
    "        print(start, start + shard_size)\n",
    "        for j in range(start, min(len(articles), start+shard_size)):\n",
    "            fout.write(json.dumps(articles[j])+'\\n')"
   ]
  },
  {
   "cell_type": "code",
   "execution_count": null,
   "metadata": {},
   "outputs": [],
   "source": []
  }
 ],
 "metadata": {
  "kernelspec": {
   "display_name": "Python 3.7.9 64-bit ('tf2.0': conda)",
   "metadata": {
    "interpreter": {
     "hash": "ba97f9c3dbb7073f1ae0a5208a865b999dab1a26ce50df6103daf481c61f371a"
    }
   },
   "name": "python3"
  },
  "language_info": {
   "codemirror_mode": {
    "name": "ipython",
    "version": 3
   },
   "file_extension": ".py",
   "mimetype": "text/x-python",
   "name": "python",
   "nbconvert_exporter": "python",
   "pygments_lexer": "ipython3",
   "version": "3.7.9"
  },
  "orig_nbformat": 2
 },
 "nbformat": 4,
 "nbformat_minor": 2
}