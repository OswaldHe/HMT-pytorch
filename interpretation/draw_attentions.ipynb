{
 "cells": [
  {
   "cell_type": "code",
   "execution_count": 1,
   "id": "f71e3dde-dbee-454d-8238-97272dc081b4",
   "metadata": {},
   "outputs": [],
   "source": [
    "import torch"
   ]
  },
  {
   "cell_type": "code",
   "execution_count": 23,
   "id": "772602f4-c2b6-440e-8d90-1a4c02a2f856",
   "metadata": {},
   "outputs": [],
   "source": [
    "# cpt_path = '../../rmt_internship/finetune/hyperpartisan_news_detection/t5-base/lr1e-04_constant_with_warmup_adamw_wd1e-03_1002_mem10_sum_loss/run_1/model_best.pth'\n",
    "# cpt_path = '../../rmt_internship/finetune/hyperpartisan_news_detection/t5-base/folder/lr1e-04_constant_with_warmup_adamw_wd1e-03_1002_mem10_sum_loss/run_1/model_best.pth'\n",
    "\n",
    "cpt_path = '../../rmt_internship/finetune/hyperpartisan_news_detection/bert-base-cased/lr5e-05_constant_with_warmup_adamw_wd1e-03_998_mem10_sum_loss/run_1/model_best.pth'"
   ]
  },
  {
   "cell_type": "code",
   "execution_count": 37,
   "id": "ec35e662-fe05-45f6-ba6f-b0867e599615",
   "metadata": {},
   "outputs": [],
   "source": [
    "cpt_path = '../../rmt_internship/finetune/hyperpartisan_news_detection/deberta-v3-base/lr1e-05_constant_with_warmup_adamw_wd1e-03_1996_mem10_sum_loss/run_1/model_best.pth'"
   ]
  },
  {
   "cell_type": "code",
   "execution_count": 38,
   "id": "fd32ca21-ca1d-48cd-907d-6950539b19e7",
   "metadata": {},
   "outputs": [
    {
     "ename": "RuntimeError",
     "evalue": "[enforce fail at inline_container.cc:145] . PytorchStreamReader failed reading zip archive: failed finding central directory",
     "output_type": "error",
     "traceback": [
      "\u001b[0;31m---------------------------------------------------------------------------\u001b[0m",
      "\u001b[0;31mRuntimeError\u001b[0m                              Traceback (most recent call last)",
      "Input \u001b[0;32mIn [38]\u001b[0m, in \u001b[0;36m<cell line: 1>\u001b[0;34m()\u001b[0m\n\u001b[0;32m----> 1\u001b[0m cpt \u001b[38;5;241m=\u001b[39m \u001b[43mtorch\u001b[49m\u001b[38;5;241;43m.\u001b[39;49m\u001b[43mload\u001b[49m\u001b[43m(\u001b[49m\u001b[43mcpt_path\u001b[49m\u001b[43m,\u001b[49m\u001b[43m \u001b[49m\u001b[43mmap_location\u001b[49m\u001b[38;5;241;43m=\u001b[39;49m\u001b[38;5;124;43m'\u001b[39;49m\u001b[38;5;124;43mcpu\u001b[39;49m\u001b[38;5;124;43m'\u001b[39;49m\u001b[43m)\u001b[49m\n",
      "File \u001b[0;32m/cephfs/home/bulatov/bulatov/hvdenv/lib/python3.8/site-packages/torch/serialization.py:587\u001b[0m, in \u001b[0;36mload\u001b[0;34m(f, map_location, pickle_module, **pickle_load_args)\u001b[0m\n\u001b[1;32m    582\u001b[0m \u001b[38;5;28;01mif\u001b[39;00m _is_zipfile(opened_file):\n\u001b[1;32m    583\u001b[0m     \u001b[38;5;66;03m# The zipfile reader is going to advance the current file position.\u001b[39;00m\n\u001b[1;32m    584\u001b[0m     \u001b[38;5;66;03m# If we want to actually tail call to torch.jit.load, we need to\u001b[39;00m\n\u001b[1;32m    585\u001b[0m     \u001b[38;5;66;03m# reset back to the original position.\u001b[39;00m\n\u001b[1;32m    586\u001b[0m     orig_position \u001b[38;5;241m=\u001b[39m opened_file\u001b[38;5;241m.\u001b[39mtell()\n\u001b[0;32m--> 587\u001b[0m     \u001b[38;5;28;01mwith\u001b[39;00m \u001b[43m_open_zipfile_reader\u001b[49m\u001b[43m(\u001b[49m\u001b[43mopened_file\u001b[49m\u001b[43m)\u001b[49m \u001b[38;5;28;01mas\u001b[39;00m opened_zipfile:\n\u001b[1;32m    588\u001b[0m         \u001b[38;5;28;01mif\u001b[39;00m _is_torchscript_zip(opened_zipfile):\n\u001b[1;32m    589\u001b[0m             warnings\u001b[38;5;241m.\u001b[39mwarn(\u001b[38;5;124m\"\u001b[39m\u001b[38;5;124m'\u001b[39m\u001b[38;5;124mtorch.load\u001b[39m\u001b[38;5;124m'\u001b[39m\u001b[38;5;124m received a zip file that looks like a TorchScript archive\u001b[39m\u001b[38;5;124m\"\u001b[39m\n\u001b[1;32m    590\u001b[0m                           \u001b[38;5;124m\"\u001b[39m\u001b[38;5;124m dispatching to \u001b[39m\u001b[38;5;124m'\u001b[39m\u001b[38;5;124mtorch.jit.load\u001b[39m\u001b[38;5;124m'\u001b[39m\u001b[38;5;124m (call \u001b[39m\u001b[38;5;124m'\u001b[39m\u001b[38;5;124mtorch.jit.load\u001b[39m\u001b[38;5;124m'\u001b[39m\u001b[38;5;124m directly to\u001b[39m\u001b[38;5;124m\"\u001b[39m\n\u001b[1;32m    591\u001b[0m                           \u001b[38;5;124m\"\u001b[39m\u001b[38;5;124m silence this warning)\u001b[39m\u001b[38;5;124m\"\u001b[39m, \u001b[38;5;167;01mUserWarning\u001b[39;00m)\n",
      "File \u001b[0;32m/cephfs/home/bulatov/bulatov/hvdenv/lib/python3.8/site-packages/torch/serialization.py:242\u001b[0m, in \u001b[0;36m_open_zipfile_reader.__init__\u001b[0;34m(self, name_or_buffer)\u001b[0m\n\u001b[1;32m    241\u001b[0m \u001b[38;5;28;01mdef\u001b[39;00m \u001b[38;5;21m__init__\u001b[39m(\u001b[38;5;28mself\u001b[39m, name_or_buffer) \u001b[38;5;241m-\u001b[39m\u001b[38;5;241m>\u001b[39m \u001b[38;5;28;01mNone\u001b[39;00m:\n\u001b[0;32m--> 242\u001b[0m     \u001b[38;5;28msuper\u001b[39m(_open_zipfile_reader, \u001b[38;5;28mself\u001b[39m)\u001b[38;5;241m.\u001b[39m\u001b[38;5;21m__init__\u001b[39m(\u001b[43mtorch\u001b[49m\u001b[38;5;241;43m.\u001b[39;49m\u001b[43m_C\u001b[49m\u001b[38;5;241;43m.\u001b[39;49m\u001b[43mPyTorchFileReader\u001b[49m\u001b[43m(\u001b[49m\u001b[43mname_or_buffer\u001b[49m\u001b[43m)\u001b[49m)\n",
      "\u001b[0;31mRuntimeError\u001b[0m: [enforce fail at inline_container.cc:145] . PytorchStreamReader failed reading zip archive: failed finding central directory"
     ]
    }
   ],
   "source": [
    "cpt = torch.load(cpt_path, map_location='cpu')\n"
   ]
  },
  {
   "cell_type": "code",
   "execution_count": 33,
   "id": "cac8975b-5477-4904-afb9-404df06845af",
   "metadata": {},
   "outputs": [
    {
     "name": "stdout",
     "output_type": "stream",
     "text": [
      "ls: cannot access '../../rmt_internship/finetune/hyperpartisan_news_detection/t5-base/folder/lr1e-05_constant_with_warmup_adamw_wd1e-03_1497_mem10_sum_loss/': No such file or directory\n"
     ]
    }
   ],
   "source": [
    "\n",
    "!ls ../../rmt_internship/finetune/hyperpartisan_news_detection/t5-base/folder/lr1e-05_constant_with_warmup_adamw_wd1e-03_1497_mem10_sum_loss/"
   ]
  },
  {
   "cell_type": "code",
   "execution_count": 34,
   "id": "6a46a127-a9cc-47f4-9827-a4de18b9c8f6",
   "metadata": {},
   "outputs": [
    {
     "name": "stdout",
     "output_type": "stream",
     "text": [
      "../../rmt_internship/finetune/hyperpartisan_news_detection/deberta-v3-base/lr1e-05_constant_with_warmup_adamw_wd1e-03_1497_mem10_sum_loss/run_1/model_best.pth\n"
     ]
    }
   ],
   "source": [
    "!ls ../../rmt_internship/finetune/hyperpartisan_news_detection/deberta-v3-base/lr1e-05_constant_with_warmup_adamw_wd1e-03_1497_mem10_sum_loss/run_1/model_best.pth"
   ]
  },
  {
   "cell_type": "code",
   "execution_count": null,
   "id": "f0e31866-95a0-4809-8593-72b9ddbfefb9",
   "metadata": {},
   "outputs": [],
   "source": [
    "!ls ../../rmt_internship/finetune/hyperpartisan_news_detection/deberta-v3-base/"
   ]
  }
 ],
 "metadata": {
  "kernelspec": {
   "display_name": "hvdenv",
   "language": "python",
   "name": "hvdenv"
  },
  "language_info": {
   "codemirror_mode": {
    "name": "ipython",
    "version": 3
   },
   "file_extension": ".py",
   "mimetype": "text/x-python",
   "name": "python",
   "nbconvert_exporter": "python",
   "pygments_lexer": "ipython3",
   "version": "3.8.10"
  }
 },
 "nbformat": 4,
 "nbformat_minor": 5
}
